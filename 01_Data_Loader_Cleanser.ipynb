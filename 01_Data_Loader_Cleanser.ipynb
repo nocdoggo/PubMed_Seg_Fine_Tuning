{
 "cells": [
  {
   "cell_type": "markdown",
   "id": "89975439",
   "metadata": {},
   "source": [
    "# 01 Data Downloader & Cleanser for PubMed Journals\n",
    "\n",
    "---"
   ]
  },
  {
   "cell_type": "code",
   "execution_count": 1,
   "id": "0498eb6e",
   "metadata": {},
   "outputs": [],
   "source": [
    "## Load common things\n",
    "import os\n",
    "import re\n",
    "import numpy as np\n",
    "import pandas as pd\n",
    "import matplotlib.pyplot as plt\n",
    "import seaborn as sns\n",
    "from tqdm import tqdm"
   ]
  },
  {
   "cell_type": "markdown",
   "id": "fb1907b9",
   "metadata": {},
   "source": [
    "## 1. Data Download"
   ]
  },
  {
   "cell_type": "code",
   "execution_count": null,
   "id": "55b50c05",
   "metadata": {},
   "outputs": [],
   "source": []
  },
  {
   "cell_type": "code",
   "execution_count": null,
   "id": "55d88cfe",
   "metadata": {},
   "outputs": [],
   "source": []
  },
  {
   "cell_type": "code",
   "execution_count": null,
   "id": "adc8bc75",
   "metadata": {},
   "outputs": [],
   "source": []
  },
  {
   "cell_type": "markdown",
   "id": "bcc97bf6",
   "metadata": {},
   "source": [
    "## 2. Data Loader\n"
   ]
  },
  {
   "cell_type": "code",
   "execution_count": 2,
   "id": "a13e47b8",
   "metadata": {},
   "outputs": [],
   "source": [
    "def get_cached_data(filepath):\n",
    "    with open(filepath) as f:\n",
    "        return f.readlines()"
   ]
  },
  {
   "cell_type": "markdown",
   "id": "47890a37",
   "metadata": {},
   "source": [
    "---\n",
    "\n",
    "#### `TO-DO`: Change the file path if on server!"
   ]
  },
  {
   "cell_type": "code",
   "execution_count": 3,
   "id": "7104c2b5",
   "metadata": {},
   "outputs": [],
   "source": [
    "cached_dataset_dir = 'pre-cached-dt/'\n",
    "\n",
    "train_data = get_cached_data(cached_dataset_dir + 'train.txt')\n",
    "train_file_path = cached_dataset_dir+'train.txt'\n",
    "val_file_path = cached_dataset_dir+'val.txt'\n",
    "test_file_path = cached_dataset_dir+'test.txt'"
   ]
  },
  {
   "cell_type": "markdown",
   "id": "0d44cff6",
   "metadata": {},
   "source": [
    "**Visual Inspection**: Just to see if it is loaded properly."
   ]
  },
  {
   "cell_type": "code",
   "execution_count": 4,
   "id": "87d0f84c",
   "metadata": {},
   "outputs": [
    {
     "data": {
      "text/plain": [
       "['###24491034\\n',\n",
       " 'BACKGROUND\\tThe emergence of HIV as a chronic condition means that people living with HIV are required to take more responsibility for the self-management of their condition , including making physical , emotional and social adjustments .\\n',\n",
       " 'BACKGROUND\\tThis paper describes the design and evaluation of Positive Outlook , an online program aiming to enhance the self-management skills of gay men living with HIV .\\n',\n",
       " 'METHODS\\tThis study is designed as a randomised controlled trial in which men living with HIV in Australia will be assigned to either an intervention group or usual care control group .\\n',\n",
       " \"METHODS\\tThe intervention group will participate in the online group program ` Positive Outlook ' .\\n\"]"
      ]
     },
     "execution_count": 4,
     "metadata": {},
     "output_type": "execute_result"
    },
    {
     "data": {
      "text/plain": [
       "['###24491034\\n',\n",
       " 'BACKGROUND\\tThe emergence of HIV as a chronic condition means that people living with HIV are required to take more responsibility for the self-management of their condition , including making physical , emotional and social adjustments .\\n',\n",
       " 'BACKGROUND\\tThis paper describes the design and evaluation of Positive Outlook , an online program aiming to enhance the self-management skills of gay men living with HIV .\\n',\n",
       " 'METHODS\\tThis study is designed as a randomised controlled trial in which men living with HIV in Australia will be assigned to either an intervention group or usual care control group .\\n',\n",
       " \"METHODS\\tThe intervention group will participate in the online group program ` Positive Outlook ' .\\n\"]"
      ]
     },
     "execution_count": 4,
     "metadata": {},
     "output_type": "execute_result"
    }
   ],
   "source": [
    "# View the first 5 lines from the training data\n",
    "train_data[:5]"
   ]
  },
  {
   "cell_type": "markdown",
   "id": "ec90df02",
   "metadata": {},
   "source": [
    "---\n",
    "\n",
    "### 2.1 Data Separation\n",
    "\n",
    "In order to prepare the dataset for the training of our neural network, several key preprocessing steps must be undertaken. These involve transforming the raw corpus of medical research articles into a format that our neural network can understand and learn from.\n",
    "\n",
    "One of the essential steps in this preprocessing pipeline is to clearly delineate the beginning and end of each abstract within the overall corpus. This is crucial as each abstract represents a distinct unit of information, and these need to be distinctly identifiable for the machine learning algorithm. Mixing up the data from different abstracts can lead to inaccurate predictions and learning inaccuracies.\n",
    "\n",
    "Thus, we must first identify where each abstract starts and where it ends in our data. This involves looking for specific markers or patterns that indicate the start and end of an abstract. Once we can accurately identify these markers, we can extract the abstract in its entirety as a distinct data point.\n",
    "\n",
    "This \"segmentation\" of the corpus allows us to handle each abstract as an individual unit of analysis. By doing so, we ensure that the algorithm can accurately learn the structure and semantics of individual abstracts, rather than treating the entire corpus as one continuous piece of text. This is vital in our case, where each abstract represents a unique piece of research and should be treated as such.\n",
    "\n",
    "**`TLDR`**: The goal of this stage of preprocessing is to convert the raw corpus into a structured dataset, where each row represents a unique abstract. This involves identifying the start and end of each abstract and then extracting the core content for analysis. This structured dataset is then ready to be used in training our neural network."
   ]
  },
  {
   "cell_type": "code",
   "execution_count": 5,
   "id": "2b7614f2",
   "metadata": {},
   "outputs": [],
   "source": [
    "def data_separator(filepath):\n",
    "    raw_data = get_cached_data(filepath)\n",
    "    abstract_data = ''\n",
    "    abstract_samples = []\n",
    "    abstract_id = 0\n",
    "\n",
    "    for line in tqdm(raw_data):\n",
    "        # See if the id is there, see the visual example above\n",
    "        if line.startswith('###'):\n",
    "            abstract_id = int(line.replace('###', '').replace('\\n', ''))\n",
    "            abstract_data = ''\n",
    "\n",
    "        elif line.isspace(): # Find new line \\n thingy\n",
    "            abstract_data_split = abstract_data.splitlines()\n",
    "            \n",
    "            for abstract_line_number, abstract_line in enumerate(abstract_data_split):\n",
    "                line_data = {}\n",
    "                target_text_split = abstract_line.split(\"\\t\")\n",
    "                \n",
    "                # Fetch abstract ID\n",
    "                line_data[\"abstract_id\"] = abstract_id\n",
    "                # Then, we index each line of the abstract\n",
    "                line_data[\"line_id\"] = f'{abstract_id}_{abstract_line_number}_{len(abstract_data_split)}'\n",
    "                \n",
    "                # Take the target portion out\n",
    "                line_data[\"abstract_text\"] = target_text_split[1]\n",
    "                # Get the row index of the line\n",
    "                line_data[\"line_number\"] = abstract_line_number\n",
    "                \n",
    "                # Count total number of lines, and the indexing starts at 1\n",
    "                line_data[\"total_lines\"] = len(abstract_data_split)\n",
    "                \n",
    "                # Concat two things into one feature\n",
    "                line_data['current_line'] = f'{abstract_line_number}_{len(abstract_data_split)}'\n",
    "                \n",
    "                # Create the label\n",
    "                line_data[\"target\"] = target_text_split[0]\n",
    "                \n",
    "                # Data can be transform and append together\n",
    "                abstract_samples.append(line_data)\n",
    "\n",
    "        else: # When format is not rigid\n",
    "            abstract_data += line\n",
    "            \n",
    "    # Yield final lib of text\n",
    "    return abstract_samples"
   ]
  },
  {
   "cell_type": "markdown",
   "id": "8d8ca3c9",
   "metadata": {},
   "source": [
    "Then, we use the function to get the training data ready."
   ]
  },
  {
   "cell_type": "code",
   "execution_count": 6,
   "id": "479a4b37",
   "metadata": {},
   "outputs": [
    {
     "name": "stdout",
     "output_type": "stream",
     "text": [
      "The training file exists. Loading it again for pre-processing...\n",
      "The training file exists. Loading it again for pre-processing...\n"
     ]
    },
    {
     "name": "stderr",
     "output_type": "stream",
     "text": [
      "100%|████████████████████████████████████████████████████████████████████| 2593169/2593169 [00:03<00:00, 678694.18it/s]\n",
      "\n"
     ]
    }
   ],
   "source": [
    "# Get train data from file and preprocess it\n",
    "# The path shall be defined at the beginning\n",
    "\n",
    "if os.path.exists(train_file_path):\n",
    "    print(\"The training file exists. Loading it again for pre-processing...\")\n",
    "    do_exist_train = True\n",
    "    train_samples = data_separator(train_file_path)\n",
    "else:\n",
    "    do_exist_train = False\n",
    "    print(\"The training file does not exist, please rewind!\")"
   ]
  },
  {
   "cell_type": "code",
   "execution_count": 7,
   "id": "4247b2f3",
   "metadata": {},
   "outputs": [
    {
     "name": "stdout",
     "output_type": "stream",
     "text": [
      "The validation file exists. Loading it again for pre-processing...\n"
     ]
    },
    {
     "name": "stderr",
     "output_type": "stream",
     "text": [
      "\r",
      "  0%|                                                                                        | 0/33932 [00:00<?, ?it/s]"
     ]
    },
    {
     "name": "stdout",
     "output_type": "stream",
     "text": [
      "The validation file exists. Loading it again for pre-processing...\n"
     ]
    },
    {
     "name": "stderr",
     "output_type": "stream",
     "text": [
      "100%|████████████████████████████████████████████████████████████████████████| 33932/33932 [00:00<00:00, 209471.97it/s]\n",
      "100%|████████████████████████████████████████████████████████████████████████| 33932/33932 [00:00<00:00, 209471.97it/s]\n"
     ]
    }
   ],
   "source": [
    "if os.path.exists(val_file_path):\n",
    "    print(\"The validation file exists. Loading it again for pre-processing...\")\n",
    "    do_exist_val = True\n",
    "    val_samples = data_separator(val_file_path)\n",
    "else:\n",
    "    do_exist_val = False\n",
    "    print(\"The validation file does not exist, please rewind!\")"
   ]
  },
  {
   "cell_type": "code",
   "execution_count": 8,
   "id": "80b382f9",
   "metadata": {},
   "outputs": [
    {
     "name": "stdout",
     "output_type": "stream",
     "text": [
      "The test file exists. Loading it again for pre-processing...\n"
     ]
    },
    {
     "name": "stderr",
     "output_type": "stream",
     "text": [
      "\r",
      "  0%|                                                                                        | 0/34493 [00:00<?, ?it/s]"
     ]
    },
    {
     "name": "stdout",
     "output_type": "stream",
     "text": [
      "The test file exists. Loading it again for pre-processing...\n"
     ]
    },
    {
     "name": "stderr",
     "output_type": "stream",
     "text": [
      "100%|████████████████████████████████████████████████████████████████████████| 34493/34493 [00:00<00:00, 267832.72it/s]\n",
      "\n"
     ]
    }
   ],
   "source": [
    "if os.path.exists(test_file_path):\n",
    "    print(\"The test file exists. Loading it again for pre-processing...\")\n",
    "    do_exist_test = True\n",
    "    test_samples = data_separator(test_file_path)\n",
    "else:\n",
    "    do_exist_test = False\n",
    "    print(\"The validation file does not exist, please rewind!\")"
   ]
  },
  {
   "cell_type": "markdown",
   "id": "a17c6e03",
   "metadata": {},
   "source": [
    "Check if ready to move on."
   ]
  },
  {
   "cell_type": "code",
   "execution_count": 9,
   "id": "eb70bd53",
   "metadata": {},
   "outputs": [
    {
     "name": "stdout",
     "output_type": "stream",
     "text": [
      "Data loaded successfully!\n",
      "# of training samples   =  2211861\n",
      "# of validation samples =  28932\n",
      "# of test samples       =  29493\n",
      "Data loaded successfully!\n",
      "# of training samples   =  2211861\n",
      "# of validation samples =  28932\n",
      "# of test samples       =  29493\n"
     ]
    }
   ],
   "source": [
    "if do_exist_test and do_exist_val and do_exist_train:\n",
    "    print('Data loaded successfully!')\n",
    "    print('# of training samples   = ', len(train_samples))\n",
    "    print('# of validation samples = ', len(val_samples))\n",
    "    print('# of test samples       = ', len(test_samples))\n",
    "else:\n",
    "    if not do_exist_test:\n",
    "        print('Test data is missing! Please rewind!')\n",
    "    if not do_exist_val:\n",
    "        print('Validation data is missing! Please rewind!')\n",
    "    if not do_exist_train:\n",
    "        print('Training data is missing! Please rewind!')"
   ]
  },
  {
   "cell_type": "markdown",
   "id": "4a94872d",
   "metadata": {},
   "source": [
    "---\n",
    "\n",
    "### 2.2 Data Transformation for NN Training\n",
    "\n",
    "Given that the current data is stored in a dictionary and a list, it is necessary to transform them into a pandas dataframe before proceeding with the training of the neural network. This transformation is required because the neural network typically expects the data to be in a tabular format with well-defined columns.\n",
    "\n",
    "**`Visual Inspection`**: For safety purpose."
   ]
  },
  {
   "cell_type": "code",
   "execution_count": 10,
   "id": "bf8eeb08",
   "metadata": {},
   "outputs": [
    {
     "data": {
      "text/plain": [
       "[{'abstract_id': 24491034,\n",
       "  'line_id': '24491034_0_11',\n",
       "  'abstract_text': 'The emergence of HIV as a chronic condition means that people living with HIV are required to take more responsibility for the self-management of their condition , including making physical , emotional and social adjustments .',\n",
       "  'line_number': 0,\n",
       "  'total_lines': 11,\n",
       "  'current_line': '0_11',\n",
       "  'target': 'BACKGROUND'},\n",
       " {'abstract_id': 24491034,\n",
       "  'line_id': '24491034_1_11',\n",
       "  'abstract_text': 'This paper describes the design and evaluation of Positive Outlook , an online program aiming to enhance the self-management skills of gay men living with HIV .',\n",
       "  'line_number': 1,\n",
       "  'total_lines': 11,\n",
       "  'current_line': '1_11',\n",
       "  'target': 'BACKGROUND'},\n",
       " {'abstract_id': 24491034,\n",
       "  'line_id': '24491034_2_11',\n",
       "  'abstract_text': 'This study is designed as a randomised controlled trial in which men living with HIV in Australia will be assigned to either an intervention group or usual care control group .',\n",
       "  'line_number': 2,\n",
       "  'total_lines': 11,\n",
       "  'current_line': '2_11',\n",
       "  'target': 'METHODS'},\n",
       " {'abstract_id': 24491034,\n",
       "  'line_id': '24491034_3_11',\n",
       "  'abstract_text': \"The intervention group will participate in the online group program ` Positive Outlook ' .\",\n",
       "  'line_number': 3,\n",
       "  'total_lines': 11,\n",
       "  'current_line': '3_11',\n",
       "  'target': 'METHODS'},\n",
       " {'abstract_id': 24491034,\n",
       "  'line_id': '24491034_4_11',\n",
       "  'abstract_text': 'The program is based on self-efficacy theory and uses a self-management approach to enhance skills , confidence and abilities to manage the psychosocial issues associated with HIV in daily life .',\n",
       "  'line_number': 4,\n",
       "  'total_lines': 11,\n",
       "  'current_line': '4_11',\n",
       "  'target': 'METHODS'}]"
      ]
     },
     "execution_count": 10,
     "metadata": {},
     "output_type": "execute_result"
    },
    {
     "data": {
      "text/plain": [
       "[{'abstract_id': 24491034,\n",
       "  'line_id': '24491034_0_11',\n",
       "  'abstract_text': 'The emergence of HIV as a chronic condition means that people living with HIV are required to take more responsibility for the self-management of their condition , including making physical , emotional and social adjustments .',\n",
       "  'line_number': 0,\n",
       "  'total_lines': 11,\n",
       "  'current_line': '0_11',\n",
       "  'target': 'BACKGROUND'},\n",
       " {'abstract_id': 24491034,\n",
       "  'line_id': '24491034_1_11',\n",
       "  'abstract_text': 'This paper describes the design and evaluation of Positive Outlook , an online program aiming to enhance the self-management skills of gay men living with HIV .',\n",
       "  'line_number': 1,\n",
       "  'total_lines': 11,\n",
       "  'current_line': '1_11',\n",
       "  'target': 'BACKGROUND'},\n",
       " {'abstract_id': 24491034,\n",
       "  'line_id': '24491034_2_11',\n",
       "  'abstract_text': 'This study is designed as a randomised controlled trial in which men living with HIV in Australia will be assigned to either an intervention group or usual care control group .',\n",
       "  'line_number': 2,\n",
       "  'total_lines': 11,\n",
       "  'current_line': '2_11',\n",
       "  'target': 'METHODS'},\n",
       " {'abstract_id': 24491034,\n",
       "  'line_id': '24491034_3_11',\n",
       "  'abstract_text': \"The intervention group will participate in the online group program ` Positive Outlook ' .\",\n",
       "  'line_number': 3,\n",
       "  'total_lines': 11,\n",
       "  'current_line': '3_11',\n",
       "  'target': 'METHODS'},\n",
       " {'abstract_id': 24491034,\n",
       "  'line_id': '24491034_4_11',\n",
       "  'abstract_text': 'The program is based on self-efficacy theory and uses a self-management approach to enhance skills , confidence and abilities to manage the psychosocial issues associated with HIV in daily life .',\n",
       "  'line_number': 4,\n",
       "  'total_lines': 11,\n",
       "  'current_line': '4_11',\n",
       "  'target': 'METHODS'}]"
      ]
     },
     "execution_count": 10,
     "metadata": {},
     "output_type": "execute_result"
    }
   ],
   "source": [
    "train_samples[:5]"
   ]
  },
  {
   "cell_type": "code",
   "execution_count": 11,
   "id": "f2d5ac54",
   "metadata": {},
   "outputs": [
    {
     "data": {
      "text/plain": [
       "[{'abstract_id': 15337700,\n",
       "  'line_id': '15337700_0_9',\n",
       "  'abstract_text': 'Adrenergic activation is thought to be an important determinant of outcome in subjects with chronic heart failure ( CHF ) , but baseline or serial changes in adrenergic activity have not been previously investigated in a large patient sample treated with a powerful antiadrenergic agent .',\n",
       "  'line_number': 0,\n",
       "  'total_lines': 9,\n",
       "  'current_line': '0_9',\n",
       "  'target': 'BACKGROUND'},\n",
       " {'abstract_id': 15337700,\n",
       "  'line_id': '15337700_1_9',\n",
       "  'abstract_text': 'Systemic venous norepinephrine was measured at baseline , 3 months , and 12 months in the beta-Blocker Evaluation of Survival Trial ( BEST ) , which compared placebo treatment with the beta-blocker/sympatholytic agent bucindolol .',\n",
       "  'line_number': 1,\n",
       "  'total_lines': 9,\n",
       "  'current_line': '1_9',\n",
       "  'target': 'RESULTS'},\n",
       " {'abstract_id': 15337700,\n",
       "  'line_id': '15337700_2_9',\n",
       "  'abstract_text': 'Baseline norepinephrine level was associated with a progressive increase in rates of death or death plus CHF hospitalization that was independent of treatment group .',\n",
       "  'line_number': 2,\n",
       "  'total_lines': 9,\n",
       "  'current_line': '2_9',\n",
       "  'target': 'RESULTS'},\n",
       " {'abstract_id': 15337700,\n",
       "  'line_id': '15337700_3_9',\n",
       "  'abstract_text': 'On multivariate analysis , baseline norepinephrine was also a highly significant ( P < 0.001 ) independent predictor of death .',\n",
       "  'line_number': 3,\n",
       "  'total_lines': 9,\n",
       "  'current_line': '3_9',\n",
       "  'target': 'RESULTS'},\n",
       " {'abstract_id': 15337700,\n",
       "  'line_id': '15337700_4_9',\n",
       "  'abstract_text': 'In contrast , the relation of the change in norepinephrine at 3 months to subsequent clinical outcomes was complex and treatment group-dependent .',\n",
       "  'line_number': 4,\n",
       "  'total_lines': 9,\n",
       "  'current_line': '4_9',\n",
       "  'target': 'RESULTS'}]"
      ]
     },
     "execution_count": 11,
     "metadata": {},
     "output_type": "execute_result"
    },
    {
     "data": {
      "text/plain": [
       "[{'abstract_id': 15337700,\n",
       "  'line_id': '15337700_0_9',\n",
       "  'abstract_text': 'Adrenergic activation is thought to be an important determinant of outcome in subjects with chronic heart failure ( CHF ) , but baseline or serial changes in adrenergic activity have not been previously investigated in a large patient sample treated with a powerful antiadrenergic agent .',\n",
       "  'line_number': 0,\n",
       "  'total_lines': 9,\n",
       "  'current_line': '0_9',\n",
       "  'target': 'BACKGROUND'},\n",
       " {'abstract_id': 15337700,\n",
       "  'line_id': '15337700_1_9',\n",
       "  'abstract_text': 'Systemic venous norepinephrine was measured at baseline , 3 months , and 12 months in the beta-Blocker Evaluation of Survival Trial ( BEST ) , which compared placebo treatment with the beta-blocker/sympatholytic agent bucindolol .',\n",
       "  'line_number': 1,\n",
       "  'total_lines': 9,\n",
       "  'current_line': '1_9',\n",
       "  'target': 'RESULTS'},\n",
       " {'abstract_id': 15337700,\n",
       "  'line_id': '15337700_2_9',\n",
       "  'abstract_text': 'Baseline norepinephrine level was associated with a progressive increase in rates of death or death plus CHF hospitalization that was independent of treatment group .',\n",
       "  'line_number': 2,\n",
       "  'total_lines': 9,\n",
       "  'current_line': '2_9',\n",
       "  'target': 'RESULTS'},\n",
       " {'abstract_id': 15337700,\n",
       "  'line_id': '15337700_3_9',\n",
       "  'abstract_text': 'On multivariate analysis , baseline norepinephrine was also a highly significant ( P < 0.001 ) independent predictor of death .',\n",
       "  'line_number': 3,\n",
       "  'total_lines': 9,\n",
       "  'current_line': '3_9',\n",
       "  'target': 'RESULTS'},\n",
       " {'abstract_id': 15337700,\n",
       "  'line_id': '15337700_4_9',\n",
       "  'abstract_text': 'In contrast , the relation of the change in norepinephrine at 3 months to subsequent clinical outcomes was complex and treatment group-dependent .',\n",
       "  'line_number': 4,\n",
       "  'total_lines': 9,\n",
       "  'current_line': '4_9',\n",
       "  'target': 'RESULTS'}]"
      ]
     },
     "execution_count": 11,
     "metadata": {},
     "output_type": "execute_result"
    }
   ],
   "source": [
    "val_samples[:5]"
   ]
  },
  {
   "cell_type": "code",
   "execution_count": 12,
   "id": "ade23b49",
   "metadata": {},
   "outputs": [
    {
     "data": {
      "text/plain": [
       "[{'abstract_id': 24562799,\n",
       "  'line_id': '24562799_0_11',\n",
       "  'abstract_text': 'Many pathogenic processes and diseases are the result of an erroneous activation of the complement cascade and a number of inhibitors of complement have thus been examined for anti-inflammatory actions .',\n",
       "  'line_number': 0,\n",
       "  'total_lines': 11,\n",
       "  'current_line': '0_11',\n",
       "  'target': 'BACKGROUND'},\n",
       " {'abstract_id': 24562799,\n",
       "  'line_id': '24562799_1_11',\n",
       "  'abstract_text': 'It was recently demonstrated that supraphysiological concentrations of the endogenous complement inhibitor MAp44 ( also denoted MAP1 ) protect against myocardial reperfusion injury .',\n",
       "  'line_number': 1,\n",
       "  'total_lines': 11,\n",
       "  'current_line': '1_11',\n",
       "  'target': 'BACKGROUND'},\n",
       " {'abstract_id': 24562799,\n",
       "  'line_id': '24562799_2_11',\n",
       "  'abstract_text': 'In the present study , we examined the association between outcome after acute myocardial infarction ( MI ) and the plasma levels of MAp44 and its related proteins MASP-1 and MASP-3 in patients with first-time MI .',\n",
       "  'line_number': 2,\n",
       "  'total_lines': 11,\n",
       "  'current_line': '2_11',\n",
       "  'target': 'BACKGROUND'},\n",
       " {'abstract_id': 24562799,\n",
       "  'line_id': '24562799_3_11',\n",
       "  'abstract_text': 'In addition , we compared plasma levels of MAp44 , MASP-1 , and MASP-3 in MI patients to levels in a healthy control group .',\n",
       "  'line_number': 3,\n",
       "  'total_lines': 11,\n",
       "  'current_line': '3_11',\n",
       "  'target': 'BACKGROUND'},\n",
       " {'abstract_id': 24562799,\n",
       "  'line_id': '24562799_4_11',\n",
       "  'abstract_text': 'A total of 192 MI patients and 140 control persons were included .',\n",
       "  'line_number': 4,\n",
       "  'total_lines': 11,\n",
       "  'current_line': '4_11',\n",
       "  'target': 'METHODS'}]"
      ]
     },
     "execution_count": 12,
     "metadata": {},
     "output_type": "execute_result"
    },
    {
     "data": {
      "text/plain": [
       "[{'abstract_id': 24562799,\n",
       "  'line_id': '24562799_0_11',\n",
       "  'abstract_text': 'Many pathogenic processes and diseases are the result of an erroneous activation of the complement cascade and a number of inhibitors of complement have thus been examined for anti-inflammatory actions .',\n",
       "  'line_number': 0,\n",
       "  'total_lines': 11,\n",
       "  'current_line': '0_11',\n",
       "  'target': 'BACKGROUND'},\n",
       " {'abstract_id': 24562799,\n",
       "  'line_id': '24562799_1_11',\n",
       "  'abstract_text': 'It was recently demonstrated that supraphysiological concentrations of the endogenous complement inhibitor MAp44 ( also denoted MAP1 ) protect against myocardial reperfusion injury .',\n",
       "  'line_number': 1,\n",
       "  'total_lines': 11,\n",
       "  'current_line': '1_11',\n",
       "  'target': 'BACKGROUND'},\n",
       " {'abstract_id': 24562799,\n",
       "  'line_id': '24562799_2_11',\n",
       "  'abstract_text': 'In the present study , we examined the association between outcome after acute myocardial infarction ( MI ) and the plasma levels of MAp44 and its related proteins MASP-1 and MASP-3 in patients with first-time MI .',\n",
       "  'line_number': 2,\n",
       "  'total_lines': 11,\n",
       "  'current_line': '2_11',\n",
       "  'target': 'BACKGROUND'},\n",
       " {'abstract_id': 24562799,\n",
       "  'line_id': '24562799_3_11',\n",
       "  'abstract_text': 'In addition , we compared plasma levels of MAp44 , MASP-1 , and MASP-3 in MI patients to levels in a healthy control group .',\n",
       "  'line_number': 3,\n",
       "  'total_lines': 11,\n",
       "  'current_line': '3_11',\n",
       "  'target': 'BACKGROUND'},\n",
       " {'abstract_id': 24562799,\n",
       "  'line_id': '24562799_4_11',\n",
       "  'abstract_text': 'A total of 192 MI patients and 140 control persons were included .',\n",
       "  'line_number': 4,\n",
       "  'total_lines': 11,\n",
       "  'current_line': '4_11',\n",
       "  'target': 'METHODS'}]"
      ]
     },
     "execution_count": 12,
     "metadata": {},
     "output_type": "execute_result"
    }
   ],
   "source": [
    "test_samples[:5]"
   ]
  },
  {
   "cell_type": "markdown",
   "id": "7171faa1",
   "metadata": {},
   "source": [
    "Now we convert them all into dataframes."
   ]
  },
  {
   "cell_type": "code",
   "execution_count": 13,
   "id": "296ac6c1",
   "metadata": {},
   "outputs": [],
   "source": [
    "# Deadly simple\n",
    "df_train = pd.DataFrame(train_samples)\n",
    "df_val = pd.DataFrame(val_samples)\n",
    "df_test = pd.DataFrame(test_samples)"
   ]
  },
  {
   "cell_type": "markdown",
   "id": "c5bc340f",
   "metadata": {},
   "source": [
    "**`Visual Inspection`**: For safety purpose."
   ]
  },
  {
   "cell_type": "code",
   "execution_count": 14,
   "id": "c326f101",
   "metadata": {},
   "outputs": [
    {
     "data": {
      "text/html": [
       "<div>\n",
       "<style scoped>\n",
       "    .dataframe tbody tr th:only-of-type {\n",
       "        vertical-align: middle;\n",
       "    }\n",
       "\n",
       "    .dataframe tbody tr th {\n",
       "        vertical-align: top;\n",
       "    }\n",
       "\n",
       "    .dataframe thead th {\n",
       "        text-align: right;\n",
       "    }\n",
       "</style>\n",
       "<table border=\"1\" class=\"dataframe\">\n",
       "  <thead>\n",
       "    <tr style=\"text-align: right;\">\n",
       "      <th></th>\n",
       "      <th>abstract_id</th>\n",
       "      <th>line_id</th>\n",
       "      <th>abstract_text</th>\n",
       "      <th>line_number</th>\n",
       "      <th>total_lines</th>\n",
       "      <th>current_line</th>\n",
       "      <th>target</th>\n",
       "    </tr>\n",
       "  </thead>\n",
       "  <tbody>\n",
       "    <tr>\n",
       "      <th>0</th>\n",
       "      <td>24491034</td>\n",
       "      <td>24491034_0_11</td>\n",
       "      <td>The emergence of HIV as a chronic condition me...</td>\n",
       "      <td>0</td>\n",
       "      <td>11</td>\n",
       "      <td>0_11</td>\n",
       "      <td>BACKGROUND</td>\n",
       "    </tr>\n",
       "    <tr>\n",
       "      <th>1</th>\n",
       "      <td>24491034</td>\n",
       "      <td>24491034_1_11</td>\n",
       "      <td>This paper describes the design and evaluation...</td>\n",
       "      <td>1</td>\n",
       "      <td>11</td>\n",
       "      <td>1_11</td>\n",
       "      <td>BACKGROUND</td>\n",
       "    </tr>\n",
       "    <tr>\n",
       "      <th>2</th>\n",
       "      <td>24491034</td>\n",
       "      <td>24491034_2_11</td>\n",
       "      <td>This study is designed as a randomised control...</td>\n",
       "      <td>2</td>\n",
       "      <td>11</td>\n",
       "      <td>2_11</td>\n",
       "      <td>METHODS</td>\n",
       "    </tr>\n",
       "    <tr>\n",
       "      <th>3</th>\n",
       "      <td>24491034</td>\n",
       "      <td>24491034_3_11</td>\n",
       "      <td>The intervention group will participate in the...</td>\n",
       "      <td>3</td>\n",
       "      <td>11</td>\n",
       "      <td>3_11</td>\n",
       "      <td>METHODS</td>\n",
       "    </tr>\n",
       "    <tr>\n",
       "      <th>4</th>\n",
       "      <td>24491034</td>\n",
       "      <td>24491034_4_11</td>\n",
       "      <td>The program is based on self-efficacy theory a...</td>\n",
       "      <td>4</td>\n",
       "      <td>11</td>\n",
       "      <td>4_11</td>\n",
       "      <td>METHODS</td>\n",
       "    </tr>\n",
       "  </tbody>\n",
       "</table>\n",
       "</div>"
      ],
      "text/plain": [
       "   abstract_id        line_id  \\\n",
       "0     24491034  24491034_0_11   \n",
       "1     24491034  24491034_1_11   \n",
       "2     24491034  24491034_2_11   \n",
       "3     24491034  24491034_3_11   \n",
       "4     24491034  24491034_4_11   \n",
       "\n",
       "                                       abstract_text  line_number  \\\n",
       "0  The emergence of HIV as a chronic condition me...            0   \n",
       "1  This paper describes the design and evaluation...            1   \n",
       "2  This study is designed as a randomised control...            2   \n",
       "3  The intervention group will participate in the...            3   \n",
       "4  The program is based on self-efficacy theory a...            4   \n",
       "\n",
       "   total_lines current_line      target  \n",
       "0           11         0_11  BACKGROUND  \n",
       "1           11         1_11  BACKGROUND  \n",
       "2           11         2_11     METHODS  \n",
       "3           11         3_11     METHODS  \n",
       "4           11         4_11     METHODS  "
      ]
     },
     "execution_count": 14,
     "metadata": {},
     "output_type": "execute_result"
    },
    {
     "data": {
      "text/html": [
       "<div>\n",
       "<style scoped>\n",
       "    .dataframe tbody tr th:only-of-type {\n",
       "        vertical-align: middle;\n",
       "    }\n",
       "\n",
       "    .dataframe tbody tr th {\n",
       "        vertical-align: top;\n",
       "    }\n",
       "\n",
       "    .dataframe thead th {\n",
       "        text-align: right;\n",
       "    }\n",
       "</style>\n",
       "<table border=\"1\" class=\"dataframe\">\n",
       "  <thead>\n",
       "    <tr style=\"text-align: right;\">\n",
       "      <th></th>\n",
       "      <th>abstract_id</th>\n",
       "      <th>line_id</th>\n",
       "      <th>abstract_text</th>\n",
       "      <th>line_number</th>\n",
       "      <th>total_lines</th>\n",
       "      <th>current_line</th>\n",
       "      <th>target</th>\n",
       "    </tr>\n",
       "  </thead>\n",
       "  <tbody>\n",
       "    <tr>\n",
       "      <th>0</th>\n",
       "      <td>24491034</td>\n",
       "      <td>24491034_0_11</td>\n",
       "      <td>The emergence of HIV as a chronic condition me...</td>\n",
       "      <td>0</td>\n",
       "      <td>11</td>\n",
       "      <td>0_11</td>\n",
       "      <td>BACKGROUND</td>\n",
       "    </tr>\n",
       "    <tr>\n",
       "      <th>1</th>\n",
       "      <td>24491034</td>\n",
       "      <td>24491034_1_11</td>\n",
       "      <td>This paper describes the design and evaluation...</td>\n",
       "      <td>1</td>\n",
       "      <td>11</td>\n",
       "      <td>1_11</td>\n",
       "      <td>BACKGROUND</td>\n",
       "    </tr>\n",
       "    <tr>\n",
       "      <th>2</th>\n",
       "      <td>24491034</td>\n",
       "      <td>24491034_2_11</td>\n",
       "      <td>This study is designed as a randomised control...</td>\n",
       "      <td>2</td>\n",
       "      <td>11</td>\n",
       "      <td>2_11</td>\n",
       "      <td>METHODS</td>\n",
       "    </tr>\n",
       "    <tr>\n",
       "      <th>3</th>\n",
       "      <td>24491034</td>\n",
       "      <td>24491034_3_11</td>\n",
       "      <td>The intervention group will participate in the...</td>\n",
       "      <td>3</td>\n",
       "      <td>11</td>\n",
       "      <td>3_11</td>\n",
       "      <td>METHODS</td>\n",
       "    </tr>\n",
       "    <tr>\n",
       "      <th>4</th>\n",
       "      <td>24491034</td>\n",
       "      <td>24491034_4_11</td>\n",
       "      <td>The program is based on self-efficacy theory a...</td>\n",
       "      <td>4</td>\n",
       "      <td>11</td>\n",
       "      <td>4_11</td>\n",
       "      <td>METHODS</td>\n",
       "    </tr>\n",
       "  </tbody>\n",
       "</table>\n",
       "</div>"
      ],
      "text/plain": [
       "   abstract_id        line_id  \\\n",
       "0     24491034  24491034_0_11   \n",
       "1     24491034  24491034_1_11   \n",
       "2     24491034  24491034_2_11   \n",
       "3     24491034  24491034_3_11   \n",
       "4     24491034  24491034_4_11   \n",
       "\n",
       "                                       abstract_text  line_number  \\\n",
       "0  The emergence of HIV as a chronic condition me...            0   \n",
       "1  This paper describes the design and evaluation...            1   \n",
       "2  This study is designed as a randomised control...            2   \n",
       "3  The intervention group will participate in the...            3   \n",
       "4  The program is based on self-efficacy theory a...            4   \n",
       "\n",
       "   total_lines current_line      target  \n",
       "0           11         0_11  BACKGROUND  \n",
       "1           11         1_11  BACKGROUND  \n",
       "2           11         2_11     METHODS  \n",
       "3           11         3_11     METHODS  \n",
       "4           11         4_11     METHODS  "
      ]
     },
     "execution_count": 14,
     "metadata": {},
     "output_type": "execute_result"
    }
   ],
   "source": [
    "df_train.head(5)"
   ]
  },
  {
   "cell_type": "code",
   "execution_count": 15,
   "id": "17830f6d",
   "metadata": {},
   "outputs": [
    {
     "data": {
      "text/html": [
       "<div>\n",
       "<style scoped>\n",
       "    .dataframe tbody tr th:only-of-type {\n",
       "        vertical-align: middle;\n",
       "    }\n",
       "\n",
       "    .dataframe tbody tr th {\n",
       "        vertical-align: top;\n",
       "    }\n",
       "\n",
       "    .dataframe thead th {\n",
       "        text-align: right;\n",
       "    }\n",
       "</style>\n",
       "<table border=\"1\" class=\"dataframe\">\n",
       "  <thead>\n",
       "    <tr style=\"text-align: right;\">\n",
       "      <th></th>\n",
       "      <th>abstract_id</th>\n",
       "      <th>line_id</th>\n",
       "      <th>abstract_text</th>\n",
       "      <th>line_number</th>\n",
       "      <th>total_lines</th>\n",
       "      <th>current_line</th>\n",
       "      <th>target</th>\n",
       "    </tr>\n",
       "  </thead>\n",
       "  <tbody>\n",
       "    <tr>\n",
       "      <th>0</th>\n",
       "      <td>15337700</td>\n",
       "      <td>15337700_0_9</td>\n",
       "      <td>Adrenergic activation is thought to be an impo...</td>\n",
       "      <td>0</td>\n",
       "      <td>9</td>\n",
       "      <td>0_9</td>\n",
       "      <td>BACKGROUND</td>\n",
       "    </tr>\n",
       "    <tr>\n",
       "      <th>1</th>\n",
       "      <td>15337700</td>\n",
       "      <td>15337700_1_9</td>\n",
       "      <td>Systemic venous norepinephrine was measured at...</td>\n",
       "      <td>1</td>\n",
       "      <td>9</td>\n",
       "      <td>1_9</td>\n",
       "      <td>RESULTS</td>\n",
       "    </tr>\n",
       "    <tr>\n",
       "      <th>2</th>\n",
       "      <td>15337700</td>\n",
       "      <td>15337700_2_9</td>\n",
       "      <td>Baseline norepinephrine level was associated w...</td>\n",
       "      <td>2</td>\n",
       "      <td>9</td>\n",
       "      <td>2_9</td>\n",
       "      <td>RESULTS</td>\n",
       "    </tr>\n",
       "    <tr>\n",
       "      <th>3</th>\n",
       "      <td>15337700</td>\n",
       "      <td>15337700_3_9</td>\n",
       "      <td>On multivariate analysis , baseline norepineph...</td>\n",
       "      <td>3</td>\n",
       "      <td>9</td>\n",
       "      <td>3_9</td>\n",
       "      <td>RESULTS</td>\n",
       "    </tr>\n",
       "    <tr>\n",
       "      <th>4</th>\n",
       "      <td>15337700</td>\n",
       "      <td>15337700_4_9</td>\n",
       "      <td>In contrast , the relation of the change in no...</td>\n",
       "      <td>4</td>\n",
       "      <td>9</td>\n",
       "      <td>4_9</td>\n",
       "      <td>RESULTS</td>\n",
       "    </tr>\n",
       "  </tbody>\n",
       "</table>\n",
       "</div>"
      ],
      "text/plain": [
       "   abstract_id       line_id  \\\n",
       "0     15337700  15337700_0_9   \n",
       "1     15337700  15337700_1_9   \n",
       "2     15337700  15337700_2_9   \n",
       "3     15337700  15337700_3_9   \n",
       "4     15337700  15337700_4_9   \n",
       "\n",
       "                                       abstract_text  line_number  \\\n",
       "0  Adrenergic activation is thought to be an impo...            0   \n",
       "1  Systemic venous norepinephrine was measured at...            1   \n",
       "2  Baseline norepinephrine level was associated w...            2   \n",
       "3  On multivariate analysis , baseline norepineph...            3   \n",
       "4  In contrast , the relation of the change in no...            4   \n",
       "\n",
       "   total_lines current_line      target  \n",
       "0            9          0_9  BACKGROUND  \n",
       "1            9          1_9     RESULTS  \n",
       "2            9          2_9     RESULTS  \n",
       "3            9          3_9     RESULTS  \n",
       "4            9          4_9     RESULTS  "
      ]
     },
     "execution_count": 15,
     "metadata": {},
     "output_type": "execute_result"
    },
    {
     "data": {
      "text/html": [
       "<div>\n",
       "<style scoped>\n",
       "    .dataframe tbody tr th:only-of-type {\n",
       "        vertical-align: middle;\n",
       "    }\n",
       "\n",
       "    .dataframe tbody tr th {\n",
       "        vertical-align: top;\n",
       "    }\n",
       "\n",
       "    .dataframe thead th {\n",
       "        text-align: right;\n",
       "    }\n",
       "</style>\n",
       "<table border=\"1\" class=\"dataframe\">\n",
       "  <thead>\n",
       "    <tr style=\"text-align: right;\">\n",
       "      <th></th>\n",
       "      <th>abstract_id</th>\n",
       "      <th>line_id</th>\n",
       "      <th>abstract_text</th>\n",
       "      <th>line_number</th>\n",
       "      <th>total_lines</th>\n",
       "      <th>current_line</th>\n",
       "      <th>target</th>\n",
       "    </tr>\n",
       "  </thead>\n",
       "  <tbody>\n",
       "    <tr>\n",
       "      <th>0</th>\n",
       "      <td>15337700</td>\n",
       "      <td>15337700_0_9</td>\n",
       "      <td>Adrenergic activation is thought to be an impo...</td>\n",
       "      <td>0</td>\n",
       "      <td>9</td>\n",
       "      <td>0_9</td>\n",
       "      <td>BACKGROUND</td>\n",
       "    </tr>\n",
       "    <tr>\n",
       "      <th>1</th>\n",
       "      <td>15337700</td>\n",
       "      <td>15337700_1_9</td>\n",
       "      <td>Systemic venous norepinephrine was measured at...</td>\n",
       "      <td>1</td>\n",
       "      <td>9</td>\n",
       "      <td>1_9</td>\n",
       "      <td>RESULTS</td>\n",
       "    </tr>\n",
       "    <tr>\n",
       "      <th>2</th>\n",
       "      <td>15337700</td>\n",
       "      <td>15337700_2_9</td>\n",
       "      <td>Baseline norepinephrine level was associated w...</td>\n",
       "      <td>2</td>\n",
       "      <td>9</td>\n",
       "      <td>2_9</td>\n",
       "      <td>RESULTS</td>\n",
       "    </tr>\n",
       "    <tr>\n",
       "      <th>3</th>\n",
       "      <td>15337700</td>\n",
       "      <td>15337700_3_9</td>\n",
       "      <td>On multivariate analysis , baseline norepineph...</td>\n",
       "      <td>3</td>\n",
       "      <td>9</td>\n",
       "      <td>3_9</td>\n",
       "      <td>RESULTS</td>\n",
       "    </tr>\n",
       "    <tr>\n",
       "      <th>4</th>\n",
       "      <td>15337700</td>\n",
       "      <td>15337700_4_9</td>\n",
       "      <td>In contrast , the relation of the change in no...</td>\n",
       "      <td>4</td>\n",
       "      <td>9</td>\n",
       "      <td>4_9</td>\n",
       "      <td>RESULTS</td>\n",
       "    </tr>\n",
       "  </tbody>\n",
       "</table>\n",
       "</div>"
      ],
      "text/plain": [
       "   abstract_id       line_id  \\\n",
       "0     15337700  15337700_0_9   \n",
       "1     15337700  15337700_1_9   \n",
       "2     15337700  15337700_2_9   \n",
       "3     15337700  15337700_3_9   \n",
       "4     15337700  15337700_4_9   \n",
       "\n",
       "                                       abstract_text  line_number  \\\n",
       "0  Adrenergic activation is thought to be an impo...            0   \n",
       "1  Systemic venous norepinephrine was measured at...            1   \n",
       "2  Baseline norepinephrine level was associated w...            2   \n",
       "3  On multivariate analysis , baseline norepineph...            3   \n",
       "4  In contrast , the relation of the change in no...            4   \n",
       "\n",
       "   total_lines current_line      target  \n",
       "0            9          0_9  BACKGROUND  \n",
       "1            9          1_9     RESULTS  \n",
       "2            9          2_9     RESULTS  \n",
       "3            9          3_9     RESULTS  \n",
       "4            9          4_9     RESULTS  "
      ]
     },
     "execution_count": 15,
     "metadata": {},
     "output_type": "execute_result"
    }
   ],
   "source": [
    "df_val.head(5)"
   ]
  },
  {
   "cell_type": "code",
   "execution_count": 16,
   "id": "979be446",
   "metadata": {},
   "outputs": [
    {
     "data": {
      "text/html": [
       "<div>\n",
       "<style scoped>\n",
       "    .dataframe tbody tr th:only-of-type {\n",
       "        vertical-align: middle;\n",
       "    }\n",
       "\n",
       "    .dataframe tbody tr th {\n",
       "        vertical-align: top;\n",
       "    }\n",
       "\n",
       "    .dataframe thead th {\n",
       "        text-align: right;\n",
       "    }\n",
       "</style>\n",
       "<table border=\"1\" class=\"dataframe\">\n",
       "  <thead>\n",
       "    <tr style=\"text-align: right;\">\n",
       "      <th></th>\n",
       "      <th>abstract_id</th>\n",
       "      <th>line_id</th>\n",
       "      <th>abstract_text</th>\n",
       "      <th>line_number</th>\n",
       "      <th>total_lines</th>\n",
       "      <th>current_line</th>\n",
       "      <th>target</th>\n",
       "    </tr>\n",
       "  </thead>\n",
       "  <tbody>\n",
       "    <tr>\n",
       "      <th>0</th>\n",
       "      <td>24562799</td>\n",
       "      <td>24562799_0_11</td>\n",
       "      <td>Many pathogenic processes and diseases are the...</td>\n",
       "      <td>0</td>\n",
       "      <td>11</td>\n",
       "      <td>0_11</td>\n",
       "      <td>BACKGROUND</td>\n",
       "    </tr>\n",
       "    <tr>\n",
       "      <th>1</th>\n",
       "      <td>24562799</td>\n",
       "      <td>24562799_1_11</td>\n",
       "      <td>It was recently demonstrated that supraphysiol...</td>\n",
       "      <td>1</td>\n",
       "      <td>11</td>\n",
       "      <td>1_11</td>\n",
       "      <td>BACKGROUND</td>\n",
       "    </tr>\n",
       "    <tr>\n",
       "      <th>2</th>\n",
       "      <td>24562799</td>\n",
       "      <td>24562799_2_11</td>\n",
       "      <td>In the present study , we examined the associa...</td>\n",
       "      <td>2</td>\n",
       "      <td>11</td>\n",
       "      <td>2_11</td>\n",
       "      <td>BACKGROUND</td>\n",
       "    </tr>\n",
       "    <tr>\n",
       "      <th>3</th>\n",
       "      <td>24562799</td>\n",
       "      <td>24562799_3_11</td>\n",
       "      <td>In addition , we compared plasma levels of MAp...</td>\n",
       "      <td>3</td>\n",
       "      <td>11</td>\n",
       "      <td>3_11</td>\n",
       "      <td>BACKGROUND</td>\n",
       "    </tr>\n",
       "    <tr>\n",
       "      <th>4</th>\n",
       "      <td>24562799</td>\n",
       "      <td>24562799_4_11</td>\n",
       "      <td>A total of 192 MI patients and 140 control per...</td>\n",
       "      <td>4</td>\n",
       "      <td>11</td>\n",
       "      <td>4_11</td>\n",
       "      <td>METHODS</td>\n",
       "    </tr>\n",
       "  </tbody>\n",
       "</table>\n",
       "</div>"
      ],
      "text/plain": [
       "   abstract_id        line_id  \\\n",
       "0     24562799  24562799_0_11   \n",
       "1     24562799  24562799_1_11   \n",
       "2     24562799  24562799_2_11   \n",
       "3     24562799  24562799_3_11   \n",
       "4     24562799  24562799_4_11   \n",
       "\n",
       "                                       abstract_text  line_number  \\\n",
       "0  Many pathogenic processes and diseases are the...            0   \n",
       "1  It was recently demonstrated that supraphysiol...            1   \n",
       "2  In the present study , we examined the associa...            2   \n",
       "3  In addition , we compared plasma levels of MAp...            3   \n",
       "4  A total of 192 MI patients and 140 control per...            4   \n",
       "\n",
       "   total_lines current_line      target  \n",
       "0           11         0_11  BACKGROUND  \n",
       "1           11         1_11  BACKGROUND  \n",
       "2           11         2_11  BACKGROUND  \n",
       "3           11         3_11  BACKGROUND  \n",
       "4           11         4_11     METHODS  "
      ]
     },
     "execution_count": 16,
     "metadata": {},
     "output_type": "execute_result"
    },
    {
     "data": {
      "text/html": [
       "<div>\n",
       "<style scoped>\n",
       "    .dataframe tbody tr th:only-of-type {\n",
       "        vertical-align: middle;\n",
       "    }\n",
       "\n",
       "    .dataframe tbody tr th {\n",
       "        vertical-align: top;\n",
       "    }\n",
       "\n",
       "    .dataframe thead th {\n",
       "        text-align: right;\n",
       "    }\n",
       "</style>\n",
       "<table border=\"1\" class=\"dataframe\">\n",
       "  <thead>\n",
       "    <tr style=\"text-align: right;\">\n",
       "      <th></th>\n",
       "      <th>abstract_id</th>\n",
       "      <th>line_id</th>\n",
       "      <th>abstract_text</th>\n",
       "      <th>line_number</th>\n",
       "      <th>total_lines</th>\n",
       "      <th>current_line</th>\n",
       "      <th>target</th>\n",
       "    </tr>\n",
       "  </thead>\n",
       "  <tbody>\n",
       "    <tr>\n",
       "      <th>0</th>\n",
       "      <td>24562799</td>\n",
       "      <td>24562799_0_11</td>\n",
       "      <td>Many pathogenic processes and diseases are the...</td>\n",
       "      <td>0</td>\n",
       "      <td>11</td>\n",
       "      <td>0_11</td>\n",
       "      <td>BACKGROUND</td>\n",
       "    </tr>\n",
       "    <tr>\n",
       "      <th>1</th>\n",
       "      <td>24562799</td>\n",
       "      <td>24562799_1_11</td>\n",
       "      <td>It was recently demonstrated that supraphysiol...</td>\n",
       "      <td>1</td>\n",
       "      <td>11</td>\n",
       "      <td>1_11</td>\n",
       "      <td>BACKGROUND</td>\n",
       "    </tr>\n",
       "    <tr>\n",
       "      <th>2</th>\n",
       "      <td>24562799</td>\n",
       "      <td>24562799_2_11</td>\n",
       "      <td>In the present study , we examined the associa...</td>\n",
       "      <td>2</td>\n",
       "      <td>11</td>\n",
       "      <td>2_11</td>\n",
       "      <td>BACKGROUND</td>\n",
       "    </tr>\n",
       "    <tr>\n",
       "      <th>3</th>\n",
       "      <td>24562799</td>\n",
       "      <td>24562799_3_11</td>\n",
       "      <td>In addition , we compared plasma levels of MAp...</td>\n",
       "      <td>3</td>\n",
       "      <td>11</td>\n",
       "      <td>3_11</td>\n",
       "      <td>BACKGROUND</td>\n",
       "    </tr>\n",
       "    <tr>\n",
       "      <th>4</th>\n",
       "      <td>24562799</td>\n",
       "      <td>24562799_4_11</td>\n",
       "      <td>A total of 192 MI patients and 140 control per...</td>\n",
       "      <td>4</td>\n",
       "      <td>11</td>\n",
       "      <td>4_11</td>\n",
       "      <td>METHODS</td>\n",
       "    </tr>\n",
       "  </tbody>\n",
       "</table>\n",
       "</div>"
      ],
      "text/plain": [
       "   abstract_id        line_id  \\\n",
       "0     24562799  24562799_0_11   \n",
       "1     24562799  24562799_1_11   \n",
       "2     24562799  24562799_2_11   \n",
       "3     24562799  24562799_3_11   \n",
       "4     24562799  24562799_4_11   \n",
       "\n",
       "                                       abstract_text  line_number  \\\n",
       "0  Many pathogenic processes and diseases are the...            0   \n",
       "1  It was recently demonstrated that supraphysiol...            1   \n",
       "2  In the present study , we examined the associa...            2   \n",
       "3  In addition , we compared plasma levels of MAp...            3   \n",
       "4  A total of 192 MI patients and 140 control per...            4   \n",
       "\n",
       "   total_lines current_line      target  \n",
       "0           11         0_11  BACKGROUND  \n",
       "1           11         1_11  BACKGROUND  \n",
       "2           11         2_11  BACKGROUND  \n",
       "3           11         3_11  BACKGROUND  \n",
       "4           11         4_11     METHODS  "
      ]
     },
     "execution_count": 16,
     "metadata": {},
     "output_type": "execute_result"
    }
   ],
   "source": [
    "df_test.head(5)"
   ]
  },
  {
   "cell_type": "markdown",
   "id": "91d5026e",
   "metadata": {},
   "source": [
    "In the `training data`, let's see how many labels we have."
   ]
  },
  {
   "cell_type": "code",
   "execution_count": 17,
   "id": "43e6de64",
   "metadata": {},
   "outputs": [
    {
     "data": {
      "text/plain": [
       "BACKGROUND     196689\n",
       "CONCLUSIONS    339714\n",
       "METHODS        722586\n",
       "OBJECTIVE      186601\n",
       "RESULTS        766271\n",
       "Name: target, dtype: int64"
      ]
     },
     "execution_count": 17,
     "metadata": {},
     "output_type": "execute_result"
    },
    {
     "data": {
      "text/plain": [
       "BACKGROUND     196689\n",
       "CONCLUSIONS    339714\n",
       "METHODS        722586\n",
       "OBJECTIVE      186601\n",
       "RESULTS        766271\n",
       "Name: target, dtype: int64"
      ]
     },
     "execution_count": 17,
     "metadata": {},
     "output_type": "execute_result"
    }
   ],
   "source": [
    "label_counts = df_train['target'].value_counts()\n",
    "label_counts = label_counts.sort_index(ascending=True)\n",
    "label_counts"
   ]
  },
  {
   "cell_type": "code",
   "execution_count": 18,
   "id": "de7e1e8b",
   "metadata": {},
   "outputs": [
    {
     "data": {
      "image/png": "[encoded data removed]",
      "text/plain": [
       "<Figure size 576x432 with 1 Axes>"
      ]
     },
     "metadata": {
      "needs_background": "light"
     },
     "output_type": "display_data"
    },
    {
     "data": {
      "image/png": "[encoded data removed]",
      "text/plain": [
       "<Figure size 576x432 with 1 Axes>"
      ]
     },
     "metadata": {
      "needs_background": "light"
     },
     "output_type": "display_data"
    }
   ],
   "source": [
    "plt.figure(figsize=(8, 6))\n",
    "sns.barplot(x=label_counts.index, y=label_counts.values)\n",
    "plt.xlabel('Target')\n",
    "plt.ylabel('Count')\n",
    "plt.title('Label Distribution among Train Data')\n",
    "plt.show()"
   ]
  },
  {
   "cell_type": "markdown",
   "id": "6481dcc9",
   "metadata": {},
   "source": [
    "In the `validation data`, let's see how many labels we have."
   ]
  },
  {
   "cell_type": "code",
   "execution_count": 19,
   "id": "677ecadd",
   "metadata": {},
   "outputs": [
    {
     "data": {
      "text/plain": [
       "BACKGROUND     2575\n",
       "CONCLUSIONS    4396\n",
       "METHODS        9559\n",
       "OBJECTIVE      2425\n",
       "RESULTS        9977\n",
       "Name: target, dtype: int64"
      ]
     },
     "execution_count": 19,
     "metadata": {},
     "output_type": "execute_result"
    },
    {
     "data": {
      "text/plain": [
       "BACKGROUND     2575\n",
       "CONCLUSIONS    4396\n",
       "METHODS        9559\n",
       "OBJECTIVE      2425\n",
       "RESULTS        9977\n",
       "Name: target, dtype: int64"
      ]
     },
     "execution_count": 19,
     "metadata": {},
     "output_type": "execute_result"
    }
   ],
   "source": [
    "label_counts = df_val['target'].value_counts()\n",
    "label_counts = label_counts.sort_index(ascending=True)\n",
    "label_counts"
   ]
  },
  {
   "cell_type": "code",
   "execution_count": 20,
   "id": "d8d118c5",
   "metadata": {},
   "outputs": [
    {
     "data": {
      "image/png": "[encoded data removed]",
      "text/plain": [
       "<Figure size 576x432 with 1 Axes>"
      ]
     },
     "metadata": {
      "needs_background": "light"
     },
     "output_type": "display_data"
    },
    {
     "data": {
      "image/png": "[encoded data removed]",
      "text/plain": [
       "<Figure size 576x432 with 1 Axes>"
      ]
     },
     "metadata": {
      "needs_background": "light"
     },
     "output_type": "display_data"
    }
   ],
   "source": [
    "plt.figure(figsize=(8, 6))\n",
    "sns.barplot(x=label_counts.index, y=label_counts.values)\n",
    "plt.xlabel('Target')\n",
    "plt.ylabel('Count')\n",
    "plt.title('Label Distribution among Validation Data')\n",
    "plt.show()"
   ]
  },
  {
   "cell_type": "markdown",
   "id": "bf841e75",
   "metadata": {},
   "source": [
    "In the `test data`, let's see how many labels we have."
   ]
  },
  {
   "cell_type": "code",
   "execution_count": 21,
   "id": "4005d762",
   "metadata": {},
   "outputs": [
    {
     "data": {
      "text/plain": [
       "BACKGROUND      2663\n",
       "CONCLUSIONS     4426\n",
       "METHODS         9751\n",
       "OBJECTIVE       2377\n",
       "RESULTS        10276\n",
       "Name: target, dtype: int64"
      ]
     },
     "execution_count": 21,
     "metadata": {},
     "output_type": "execute_result"
    },
    {
     "data": {
      "text/plain": [
       "BACKGROUND      2663\n",
       "CONCLUSIONS     4426\n",
       "METHODS         9751\n",
       "OBJECTIVE       2377\n",
       "RESULTS        10276\n",
       "Name: target, dtype: int64"
      ]
     },
     "execution_count": 21,
     "metadata": {},
     "output_type": "execute_result"
    }
   ],
   "source": [
    "label_counts = df_test['target'].value_counts()\n",
    "label_counts = label_counts.sort_index(ascending=True)\n",
    "label_counts"
   ]
  },
  {
   "cell_type": "code",
   "execution_count": 22,
   "id": "5e01062e",
   "metadata": {},
   "outputs": [
    {
     "data": {
      "image/png": "[encoded data removed]",
      "text/plain": [
       "<Figure size 576x432 with 1 Axes>"
      ]
     },
     "metadata": {
      "needs_background": "light"
     },
     "output_type": "display_data"
    },
    {
     "data": {
      "image/png": "[encoded data removed]",
      "text/plain": [
       "<Figure size 576x432 with 1 Axes>"
      ]
     },
     "metadata": {
      "needs_background": "light"
     },
     "output_type": "display_data"
    }
   ],
   "source": [
    "plt.figure(figsize=(8, 6))\n",
    "sns.barplot(x=label_counts.index, y=label_counts.values)\n",
    "plt.xlabel('Target')\n",
    "plt.ylabel('Count')\n",
    "plt.title('Label Distribution among Testing Data')\n",
    "plt.show()"
   ]
  },
  {
   "cell_type": "markdown",
   "id": "a351c2fb",
   "metadata": {},
   "source": [
    "_**Well**_, the distributions of labels among train, val, test are not perfect. We could possible shuffle things around or get a better cut of the dataset. Let's see if it is needed to optimize the data stream.\n",
    "\n",
    "---\n",
    "\n",
    "### 2.3 Input Sequence Construction\n",
    "\n",
    "Since we have already transformed our dataset into usable pandas dataframe, now we need to construct the data pipeline for input of the neural network model.\n",
    "\n",
    "To construct the data pipeline for the input of the neural network model using the transformed pandas dataframe, we need to transform the usable portion back to list."
   ]
  },
  {
   "cell_type": "code",
   "execution_count": 23,
   "id": "3fc311a5",
   "metadata": {},
   "outputs": [
    {
     "name": "stdout",
     "output_type": "stream",
     "text": [
      "Train input list success!\n",
      "Train input list success!\n"
     ]
    }
   ],
   "source": [
    "try:\n",
    "    train_sentences = df_train[\"abstract_text\"].tolist()\n",
    "    print('Train input list success!')\n",
    "except Exception as e:\n",
    "    print(\"Error encountered! Please rewind!\")\n",
    "    print(e)"
   ]
  },
  {
   "cell_type": "code",
   "execution_count": 24,
   "id": "ece185cf",
   "metadata": {},
   "outputs": [
    {
     "name": "stdout",
     "output_type": "stream",
     "text": [
      "Validation input list success!\n",
      "Validation input list success!\n"
     ]
    }
   ],
   "source": [
    "try:\n",
    "    val_sentences = df_val[\"abstract_text\"].tolist()\n",
    "    print('Validation input list success!')\n",
    "except Exception as e:\n",
    "    print(\"Error encountered! Please rewind!\")\n",
    "    print(e)"
   ]
  },
  {
   "cell_type": "code",
   "execution_count": 25,
   "id": "9eb1ab7e",
   "metadata": {},
   "outputs": [
    {
     "name": "stdout",
     "output_type": "stream",
     "text": [
      "Testing input list success!\n",
      "Testing input list success!\n"
     ]
    }
   ],
   "source": [
    "try:\n",
    "    test_sentences = df_test[\"abstract_text\"].tolist()\n",
    "    print('Testing input list success!')\n",
    "except Exception as e:\n",
    "    print(\"Error encountered! Please rewind!\")\n",
    "    print(e)"
   ]
  },
  {
   "cell_type": "markdown",
   "id": "2332f151",
   "metadata": {},
   "source": [
    "Check the size of the dataset."
   ]
  },
  {
   "cell_type": "code",
   "execution_count": 26,
   "id": "f1e3cc52",
   "metadata": {},
   "outputs": [],
   "source": [
    "train_sentences_count = len(train_sentences)\n",
    "val_sentences_count = len(val_sentences)\n",
    "test_sentences_count = len(test_sentences)"
   ]
  },
  {
   "cell_type": "code",
   "execution_count": 27,
   "id": "76203062",
   "metadata": {},
   "outputs": [
    {
     "name": "stdout",
     "output_type": "stream",
     "text": [
      "# of sentences for training   =  2211861\n",
      "# of sentences for validation =  28932\n",
      "# of sentences for testing    =  29493\n",
      "# of sentences for total      =  2270286\n",
      "# of sentences for training   =  2211861\n",
      "# of sentences for validation =  28932\n",
      "# of sentences for testing    =  29493\n",
      "# of sentences for total      =  2270286\n"
     ]
    }
   ],
   "source": [
    "print('# of sentences for training   = ', train_sentences_count)\n",
    "print('# of sentences for validation = ', val_sentences_count)\n",
    "print('# of sentences for testing    = ', test_sentences_count)\n",
    "\n",
    "total_sentences_count = len(train_sentences) + len(val_sentences) + len(test_sentences)\n",
    "print('# of sentences for total      = ', total_sentences_count)"
   ]
  },
  {
   "cell_type": "markdown",
   "id": "86fcdf1b",
   "metadata": {},
   "source": [
    "**`Visual Inspection`**: For safety purpose."
   ]
  },
  {
   "cell_type": "code",
   "execution_count": 28,
   "id": "8e3a78d0",
   "metadata": {},
   "outputs": [
    {
     "data": {
      "text/plain": [
       "['The emergence of HIV as a chronic condition means that people living with HIV are required to take more responsibility for the self-management of their condition , including making physical , emotional and social adjustments .',\n",
       " 'This paper describes the design and evaluation of Positive Outlook , an online program aiming to enhance the self-management skills of gay men living with HIV .',\n",
       " 'This study is designed as a randomised controlled trial in which men living with HIV in Australia will be assigned to either an intervention group or usual care control group .',\n",
       " \"The intervention group will participate in the online group program ` Positive Outlook ' .\",\n",
       " 'The program is based on self-efficacy theory and uses a self-management approach to enhance skills , confidence and abilities to manage the psychosocial issues associated with HIV in daily life .']"
      ]
     },
     "execution_count": 28,
     "metadata": {},
     "output_type": "execute_result"
    },
    {
     "data": {
      "text/plain": [
       "['The emergence of HIV as a chronic condition means that people living with HIV are required to take more responsibility for the self-management of their condition , including making physical , emotional and social adjustments .',\n",
       " 'This paper describes the design and evaluation of Positive Outlook , an online program aiming to enhance the self-management skills of gay men living with HIV .',\n",
       " 'This study is designed as a randomised controlled trial in which men living with HIV in Australia will be assigned to either an intervention group or usual care control group .',\n",
       " \"The intervention group will participate in the online group program ` Positive Outlook ' .\",\n",
       " 'The program is based on self-efficacy theory and uses a self-management approach to enhance skills , confidence and abilities to manage the psychosocial issues associated with HIV in daily life .']"
      ]
     },
     "execution_count": 28,
     "metadata": {},
     "output_type": "execute_result"
    }
   ],
   "source": [
    "train_sentences[:5]"
   ]
  },
  {
   "cell_type": "code",
   "execution_count": 29,
   "id": "3250fe37",
   "metadata": {},
   "outputs": [
    {
     "data": {
      "text/plain": [
       "['Adrenergic activation is thought to be an important determinant of outcome in subjects with chronic heart failure ( CHF ) , but baseline or serial changes in adrenergic activity have not been previously investigated in a large patient sample treated with a powerful antiadrenergic agent .',\n",
       " 'Systemic venous norepinephrine was measured at baseline , 3 months , and 12 months in the beta-Blocker Evaluation of Survival Trial ( BEST ) , which compared placebo treatment with the beta-blocker/sympatholytic agent bucindolol .',\n",
       " 'Baseline norepinephrine level was associated with a progressive increase in rates of death or death plus CHF hospitalization that was independent of treatment group .',\n",
       " 'On multivariate analysis , baseline norepinephrine was also a highly significant ( P < 0.001 ) independent predictor of death .',\n",
       " 'In contrast , the relation of the change in norepinephrine at 3 months to subsequent clinical outcomes was complex and treatment group-dependent .']"
      ]
     },
     "execution_count": 29,
     "metadata": {},
     "output_type": "execute_result"
    },
    {
     "data": {
      "text/plain": [
       "['Adrenergic activation is thought to be an important determinant of outcome in subjects with chronic heart failure ( CHF ) , but baseline or serial changes in adrenergic activity have not been previously investigated in a large patient sample treated with a powerful antiadrenergic agent .',\n",
       " 'Systemic venous norepinephrine was measured at baseline , 3 months , and 12 months in the beta-Blocker Evaluation of Survival Trial ( BEST ) , which compared placebo treatment with the beta-blocker/sympatholytic agent bucindolol .',\n",
       " 'Baseline norepinephrine level was associated with a progressive increase in rates of death or death plus CHF hospitalization that was independent of treatment group .',\n",
       " 'On multivariate analysis , baseline norepinephrine was also a highly significant ( P < 0.001 ) independent predictor of death .',\n",
       " 'In contrast , the relation of the change in norepinephrine at 3 months to subsequent clinical outcomes was complex and treatment group-dependent .']"
      ]
     },
     "execution_count": 29,
     "metadata": {},
     "output_type": "execute_result"
    }
   ],
   "source": [
    "val_sentences[:5]"
   ]
  },
  {
   "cell_type": "code",
   "execution_count": 30,
   "id": "83da1059",
   "metadata": {},
   "outputs": [
    {
     "data": {
      "text/plain": [
       "['Many pathogenic processes and diseases are the result of an erroneous activation of the complement cascade and a number of inhibitors of complement have thus been examined for anti-inflammatory actions .',\n",
       " 'It was recently demonstrated that supraphysiological concentrations of the endogenous complement inhibitor MAp44 ( also denoted MAP1 ) protect against myocardial reperfusion injury .',\n",
       " 'In the present study , we examined the association between outcome after acute myocardial infarction ( MI ) and the plasma levels of MAp44 and its related proteins MASP-1 and MASP-3 in patients with first-time MI .',\n",
       " 'In addition , we compared plasma levels of MAp44 , MASP-1 , and MASP-3 in MI patients to levels in a healthy control group .',\n",
       " 'A total of 192 MI patients and 140 control persons were included .']"
      ]
     },
     "execution_count": 30,
     "metadata": {},
     "output_type": "execute_result"
    },
    {
     "data": {
      "text/plain": [
       "['Many pathogenic processes and diseases are the result of an erroneous activation of the complement cascade and a number of inhibitors of complement have thus been examined for anti-inflammatory actions .',\n",
       " 'It was recently demonstrated that supraphysiological concentrations of the endogenous complement inhibitor MAp44 ( also denoted MAP1 ) protect against myocardial reperfusion injury .',\n",
       " 'In the present study , we examined the association between outcome after acute myocardial infarction ( MI ) and the plasma levels of MAp44 and its related proteins MASP-1 and MASP-3 in patients with first-time MI .',\n",
       " 'In addition , we compared plasma levels of MAp44 , MASP-1 , and MASP-3 in MI patients to levels in a healthy control group .',\n",
       " 'A total of 192 MI patients and 140 control persons were included .']"
      ]
     },
     "execution_count": 30,
     "metadata": {},
     "output_type": "execute_result"
    }
   ],
   "source": [
    "test_sentences[:5]"
   ]
  },
  {
   "cell_type": "markdown",
   "id": "3b26fbd0",
   "metadata": {},
   "source": [
    "---\n",
    "\n",
    "## 3. Neural Network Construction\n",
    "\n",
    "Now, we are ready to train our corpus.\n",
    "\n",
    "### 3.1 Encoding\n",
    "\n",
    "We use the `OneHotEncoder` from `scikit-learn` since it is just fast and convenient."
   ]
  },
  {
   "cell_type": "code",
   "execution_count": 31,
   "id": "d44aaa5a",
   "metadata": {},
   "outputs": [],
   "source": [
    "# !pip install scikit-learn scipy"
   ]
  },
  {
   "cell_type": "code",
   "execution_count": 32,
   "id": "4205ac32",
   "metadata": {},
   "outputs": [],
   "source": [
    "from sklearn.preprocessing import OneHotEncoder, LabelEncoder \n",
    "from sklearn.metrics import accuracy_score, top_k_accuracy_score, f1_score, matthews_corrcoef, classification_report, precision_recall_fscore_support, confusion_matrix, ConfusionMatrixDisplay"
   ]
  },
  {
   "cell_type": "code",
   "execution_count": 33,
   "id": "4059d984",
   "metadata": {},
   "outputs": [],
   "source": [
    "one_hot_encoder = OneHotEncoder(sparse=False)"
   ]
  },
  {
   "cell_type": "markdown",
   "id": "8a4a5a78",
   "metadata": {},
   "source": [
    "Perform encoding on the labels."
   ]
  },
  {
   "cell_type": "code",
   "execution_count": 34,
   "id": "a74ca9b9",
   "metadata": {},
   "outputs": [],
   "source": [
    "one_hot_encoder_train_labels = one_hot_encoder.fit_transform(df_train[\"target\"].to_numpy().reshape(-1, 1))\n",
    "one_hot_encoder_val_labels = one_hot_encoder.transform(df_val[\"target\"].to_numpy().reshape(-1, 1))\n",
    "one_hot_encoder_test_labels = one_hot_encoder.transform(df_test[\"target\"].to_numpy().reshape(-1, 1))"
   ]
  },
  {
   "cell_type": "markdown",
   "id": "82f82c1f",
   "metadata": {},
   "source": [
    "**`Visual Inspection`**: For safety purpose."
   ]
  },
  {
   "cell_type": "code",
   "execution_count": 35,
   "id": "e9d82f37",
   "metadata": {},
   "outputs": [
    {
     "data": {
      "text/plain": [
       "array([[1., 0., 0., 0., 0.],\n",
       "       [1., 0., 0., 0., 0.],\n",
       "       [0., 0., 1., 0., 0.],\n",
       "       ...,\n",
       "       [0., 0., 0., 0., 1.],\n",
       "       [0., 0., 0., 0., 1.],\n",
       "       [0., 0., 0., 0., 1.]])"
      ]
     },
     "execution_count": 35,
     "metadata": {},
     "output_type": "execute_result"
    },
    {
     "data": {
      "text/plain": [
       "array([[1., 0., 0., 0., 0.],\n",
       "       [1., 0., 0., 0., 0.],\n",
       "       [0., 0., 1., 0., 0.],\n",
       "       ...,\n",
       "       [0., 0., 0., 0., 1.],\n",
       "       [0., 0., 0., 0., 1.],\n",
       "       [0., 0., 0., 0., 1.]])"
      ]
     },
     "execution_count": 35,
     "metadata": {},
     "output_type": "execute_result"
    }
   ],
   "source": [
    "one_hot_encoder_train_labels"
   ]
  },
  {
   "cell_type": "code",
   "execution_count": 36,
   "id": "8848ecb8",
   "metadata": {},
   "outputs": [
    {
     "data": {
      "text/plain": [
       "'BACKGROUND'"
      ]
     },
     "execution_count": 36,
     "metadata": {},
     "output_type": "execute_result"
    },
    {
     "data": {
      "text/plain": [
       "'BACKGROUND'"
      ]
     },
     "execution_count": 36,
     "metadata": {},
     "output_type": "execute_result"
    }
   ],
   "source": [
    "df_train[\"target\"][0]"
   ]
  },
  {
   "cell_type": "code",
   "execution_count": 37,
   "id": "1a67ae60",
   "metadata": {},
   "outputs": [
    {
     "data": {
      "text/plain": [
       "(2211861, 5)"
      ]
     },
     "execution_count": 37,
     "metadata": {},
     "output_type": "execute_result"
    },
    {
     "data": {
      "text/plain": [
       "(2211861, 5)"
      ]
     },
     "execution_count": 37,
     "metadata": {},
     "output_type": "execute_result"
    }
   ],
   "source": [
    "one_hot_encoder_train_labels.shape"
   ]
  },
  {
   "cell_type": "markdown",
   "id": "e74ab9c9",
   "metadata": {},
   "source": [
    "Do the same thing with the labels."
   ]
  },
  {
   "cell_type": "code",
   "execution_count": 38,
   "id": "3b5c0bad",
   "metadata": {},
   "outputs": [],
   "source": [
    "label_encoder = LabelEncoder()"
   ]
  },
  {
   "cell_type": "code",
   "execution_count": 39,
   "id": "6c46d31a",
   "metadata": {},
   "outputs": [],
   "source": [
    "encoded_train_labels = label_encoder.fit_transform(df_train[\"target\"].to_numpy())\n",
    "encoded_val_labels = label_encoder.transform(df_val[\"target\"].to_numpy())\n",
    "encoded_test_labels = label_encoder.transform(df_test[\"target\"].to_numpy())"
   ]
  },
  {
   "cell_type": "markdown",
   "id": "a7974217",
   "metadata": {},
   "source": [
    "**`Visual Inspection`**: For safety purpose."
   ]
  },
  {
   "cell_type": "code",
   "execution_count": 40,
   "id": "eeb4442b",
   "metadata": {},
   "outputs": [
    {
     "data": {
      "text/plain": [
       "array([0, 0, 2, ..., 4, 4, 4])"
      ]
     },
     "execution_count": 40,
     "metadata": {},
     "output_type": "execute_result"
    },
    {
     "data": {
      "text/plain": [
       "array([0, 0, 2, ..., 4, 4, 4])"
      ]
     },
     "execution_count": 40,
     "metadata": {},
     "output_type": "execute_result"
    }
   ],
   "source": [
    "encoded_train_labels"
   ]
  },
  {
   "cell_type": "code",
   "execution_count": 41,
   "id": "63e71bda",
   "metadata": {},
   "outputs": [
    {
     "data": {
      "text/plain": [
       "(2211861,)"
      ]
     },
     "execution_count": 41,
     "metadata": {},
     "output_type": "execute_result"
    },
    {
     "data": {
      "text/plain": [
       "(2211861,)"
      ]
     },
     "execution_count": 41,
     "metadata": {},
     "output_type": "execute_result"
    }
   ],
   "source": [
    "encoded_train_labels.shape"
   ]
  },
  {
   "cell_type": "code",
   "execution_count": 42,
   "id": "587daccd",
   "metadata": {},
   "outputs": [],
   "source": [
    "# Take out class names\n",
    "number_label_class = len(label_encoder.classes_)\n",
    "class_names = label_encoder.classes_"
   ]
  },
  {
   "cell_type": "code",
   "execution_count": 43,
   "id": "c47d003d",
   "metadata": {},
   "outputs": [
    {
     "name": "stdout",
     "output_type": "stream",
     "text": [
      "# of classes =  5 \t (should expect 5)\n",
      "# of classes =  5 \t (should expect 5)\n"
     ]
    }
   ],
   "source": [
    "print('# of classes = ', number_label_class, '\\t (should expect 5)')"
   ]
  },
  {
   "cell_type": "code",
   "execution_count": 44,
   "id": "11fd2c23",
   "metadata": {},
   "outputs": [
    {
     "data": {
      "text/plain": [
       "array(['BACKGROUND', 'CONCLUSIONS', 'METHODS', 'OBJECTIVE', 'RESULTS'],\n",
       "      dtype=object)"
      ]
     },
     "execution_count": 44,
     "metadata": {},
     "output_type": "execute_result"
    },
    {
     "data": {
      "text/plain": [
       "array(['BACKGROUND', 'CONCLUSIONS', 'METHODS', 'OBJECTIVE', 'RESULTS'],\n",
       "      dtype=object)"
      ]
     },
     "execution_count": 44,
     "metadata": {},
     "output_type": "execute_result"
    }
   ],
   "source": [
    "class_names"
   ]
  },
  {
   "cell_type": "markdown",
   "id": "582972e4",
   "metadata": {},
   "source": [
    "Now we deal with the lines."
   ]
  },
  {
   "cell_type": "code",
   "execution_count": 45,
   "id": "3a26b07a",
   "metadata": {},
   "outputs": [],
   "source": [
    "line_one_hot_encoder = OneHotEncoder(sparse=False)"
   ]
  },
  {
   "cell_type": "code",
   "execution_count": 46,
   "id": "8a6a8869",
   "metadata": {},
   "outputs": [],
   "source": [
    "# from tqdm import tqdm\n",
    "\n",
    "# train_lines_encoded = []\n",
    "# total_samples = len(df_train[\"current_line\"])\n",
    "\n",
    "# for line in tqdm(df_train[\"current_line\"].to_numpy().reshape(-1, 1), total=total_samples):\n",
    "#     encoded_line = line_one_hot_encoder.fit_transform(line).astype(np.float32)\n",
    "#     train_lines_encoded.append(encoded_line)\n",
    "\n",
    "# train_lines_encoded = np.concatenate(train_lines_encoded, axis=0)\n"
   ]
  },
  {
   "cell_type": "code",
   "execution_count": 47,
   "id": "1958a7d2",
   "metadata": {},
   "outputs": [],
   "source": [
    "train_lines_encoded = line_one_hot_encoder.fit_transform(df_train[\"current_line\"].to_numpy().reshape(-1, 1)).astype(np.float32)"
   ]
  },
  {
   "cell_type": "code",
   "execution_count": 48,
   "id": "edf147a4",
   "metadata": {},
   "outputs": [],
   "source": [
    "val_lines_encoded = line_one_hot_encoder.transform(df_val[\"current_line\"].to_numpy().reshape(-1, 1)).astype(np.float32)"
   ]
  },
  {
   "cell_type": "code",
   "execution_count": 49,
   "id": "8efda8fb",
   "metadata": {},
   "outputs": [],
   "source": [
    "test_lines_encoded = line_one_hot_encoder.transform(df_test[\"current_line\"].to_numpy().reshape(-1, 1)).astype(np.float32)"
   ]
  },
  {
   "cell_type": "markdown",
   "id": "7600b64e",
   "metadata": {},
   "source": [
    "**`Visual Inspection`**: For safety purpose."
   ]
  },
  {
   "cell_type": "code",
   "execution_count": 50,
   "id": "d10a4f84",
   "metadata": {},
   "outputs": [
    {
     "data": {
      "text/plain": [
       "array([[0., 1., 0., ..., 0., 0., 0.],\n",
       "       [0., 0., 0., ..., 0., 0., 0.],\n",
       "       [0., 0., 0., ..., 0., 0., 0.],\n",
       "       ...,\n",
       "       [0., 0., 0., ..., 0., 0., 0.],\n",
       "       [0., 0., 0., ..., 0., 0., 0.],\n",
       "       [0., 0., 0., ..., 0., 0., 0.]], dtype=float32)"
      ]
     },
     "execution_count": 50,
     "metadata": {},
     "output_type": "execute_result"
    },
    {
     "data": {
      "text/plain": [
       "array([[0., 1., 0., ..., 0., 0., 0.],\n",
       "       [0., 0., 0., ..., 0., 0., 0.],\n",
       "       [0., 0., 0., ..., 0., 0., 0.],\n",
       "       ...,\n",
       "       [0., 0., 0., ..., 0., 0., 0.],\n",
       "       [0., 0., 0., ..., 0., 0., 0.],\n",
       "       [0., 0., 0., ..., 0., 0., 0.]], dtype=float32)"
      ]
     },
     "execution_count": 50,
     "metadata": {},
     "output_type": "execute_result"
    }
   ],
   "source": [
    "train_lines_encoded"
   ]
  },
  {
   "cell_type": "code",
   "execution_count": 51,
   "id": "18c5c454",
   "metadata": {},
   "outputs": [
    {
     "data": {
      "text/plain": [
       "(2211861, 1017)"
      ]
     },
     "execution_count": 51,
     "metadata": {},
     "output_type": "execute_result"
    },
    {
     "data": {
      "text/plain": [
       "(2211861, 1017)"
      ]
     },
     "execution_count": 51,
     "metadata": {},
     "output_type": "execute_result"
    }
   ],
   "source": [
    "train_lines_encoded.shape"
   ]
  },
  {
   "cell_type": "code",
   "execution_count": 52,
   "id": "77129556",
   "metadata": {},
   "outputs": [
    {
     "data": {
      "text/plain": [
       "(28932, 1017)"
      ]
     },
     "execution_count": 52,
     "metadata": {},
     "output_type": "execute_result"
    },
    {
     "data": {
      "text/plain": [
       "(28932, 1017)"
      ]
     },
     "execution_count": 52,
     "metadata": {},
     "output_type": "execute_result"
    }
   ],
   "source": [
    "val_lines_encoded.shape"
   ]
  },
  {
   "cell_type": "code",
   "execution_count": 53,
   "id": "375c5f7c",
   "metadata": {},
   "outputs": [
    {
     "data": {
      "text/plain": [
       "(29493, 1017)"
      ]
     },
     "execution_count": 53,
     "metadata": {},
     "output_type": "execute_result"
    },
    {
     "data": {
      "text/plain": [
       "(29493, 1017)"
      ]
     },
     "execution_count": 53,
     "metadata": {},
     "output_type": "execute_result"
    }
   ],
   "source": [
    "test_lines_encoded.shape"
   ]
  },
  {
   "cell_type": "code",
   "execution_count": 54,
   "id": "67c90c42",
   "metadata": {},
   "outputs": [
    {
     "name": "stdout",
     "output_type": "stream",
     "text": [
      "Encoded just fine!\n",
      "Encoded just fine!\n"
     ]
    }
   ],
   "source": [
    "# Check if the shapes are matchable\n",
    "if train_lines_encoded.shape[1] == val_lines_encoded.shape[1] and val_lines_encoded.shape[1] == test_lines_encoded.shape[1]:\n",
    "    print('Encoded just fine!')\n",
    "else:\n",
    "    print('Error occured, please rewind!')"
   ]
  },
  {
   "cell_type": "markdown",
   "id": "fa6788e2",
   "metadata": {},
   "source": [
    "### 3.2 Smoothing [Optinal]\n",
    "\n",
    "This is optional, but can help.\n",
    "\n",
    "> https://subscription.packtpub.com/book/data/9781838829131/12/ch12lvl1sec86/using-label-smoothing-to-increase-performance\n",
    "\n"
   ]
  },
  {
   "cell_type": "code",
   "execution_count": 55,
   "id": "7466af0b",
   "metadata": {},
   "outputs": [],
   "source": [
    "def line_smoothing(line_one_hot_encoded, esp):\n",
    "    return np.abs(line_one_hot_encoded - esp)\n",
    "\n",
    "def undo_smoothing(smoothed_line_one_hot_encoded, esp):\n",
    "    rewinder = smoothed_line_one_hot_encoded\n",
    "    \n",
    "    rewinder[rewinder>esp] = 1.0\n",
    "    rewinder[rewinder<=esp] = 0.0\n",
    "    \n",
    "    return rewinder"
   ]
  },
  {
   "cell_type": "code",
   "execution_count": 56,
   "id": "175b2e72",
   "metadata": {},
   "outputs": [],
   "source": [
    "train_lines_encoded = line_smoothing(train_lines_encoded, 0.01)"
   ]
  },
  {
   "cell_type": "code",
   "execution_count": 57,
   "id": "251882e7",
   "metadata": {},
   "outputs": [
    {
     "data": {
      "text/plain": [
       "(2211861, 1017)"
      ]
     },
     "execution_count": 57,
     "metadata": {},
     "output_type": "execute_result"
    },
    {
     "data": {
      "text/plain": [
       "(2211861, 1017)"
      ]
     },
     "execution_count": 57,
     "metadata": {},
     "output_type": "execute_result"
    }
   ],
   "source": [
    "train_lines_encoded.shape"
   ]
  },
  {
   "cell_type": "markdown",
   "id": "71f43035",
   "metadata": {},
   "source": [
    "---\n",
    "\n",
    "### 3.3 Create Data Pipeline"
   ]
  },
  {
   "cell_type": "code",
   "execution_count": 58,
   "id": "d3ffd41d",
   "metadata": {},
   "outputs": [],
   "source": [
    "# !pip install tensorflow_hub"
   ]
  },
  {
   "cell_type": "markdown",
   "id": "e49e019a",
   "metadata": {},
   "source": [
    "Having issue with Hub like I did?\n",
    "\n",
    "https://stackoverflow.com/questions/72441758/typeerror-descriptors-cannot-not-be-created-directly\n",
    "\n",
    "Might need to force install 3.19.1 or higher, but lower than 3.20.5"
   ]
  },
  {
   "cell_type": "code",
   "execution_count": 59,
   "id": "ba94848d",
   "metadata": {},
   "outputs": [],
   "source": [
    "import tensorflow as tf\n",
    "import tensorflow_hub as hub\n",
    "from tensorflow.keras import layers\n",
    "from tensorflow.keras.utils import plot_model\n",
    "# PROTOCOL_BUFFERS_PYTHON_IMPLEMENTATION=python"
   ]
  },
  {
   "cell_type": "code",
   "execution_count": 60,
   "id": "449756ed",
   "metadata": {},
   "outputs": [],
   "source": [
    "def create_pipeline(features, labels, batch_size=32, shuffle=False, cache=False, prefetch=False) -> tf.data.Dataset:\n",
    "    AUTOTUNE = tf.data.AUTOTUNE\n",
    "    \n",
    "    # Create dataset with features and labels\n",
    "    dataset_block = tf.data.Dataset.from_tensor_slices((features, labels))\n",
    "    \n",
    "    # Apply shuffling based on condition\n",
    "    if shuffle:\n",
    "        dataset_block = dataset_block.shuffle(buffer_size=1000)\n",
    "        \n",
    "    # Apply batching\n",
    "    dataset_block = dataset_block.batch(batch_size)\n",
    "    \n",
    "    # Only when small mem on laptop\n",
    "    if cache:\n",
    "        dataset_block = dataset_block.cache(buffer_size=AUTOTUNE)\n",
    "    \n",
    "    # Should be fine with server\n",
    "    if prefetch:\n",
    "        dataset_block = dataset_block.prefetch(buffer_size=AUTOTUNE)\n",
    "    \n",
    "    return dataset_block"
   ]
  },
  {
   "cell_type": "markdown",
   "id": "34730f8a",
   "metadata": {},
   "source": [
    "#### `TO-DO`: Change batch size based on need."
   ]
  },
  {
   "cell_type": "code",
   "execution_count": 70,
   "id": "f9651793",
   "metadata": {},
   "outputs": [],
   "source": [
    "BATCH_SIZE = 1"
   ]
  },
  {
   "cell_type": "code",
   "execution_count": 71,
   "id": "1c80920d",
   "metadata": {},
   "outputs": [],
   "source": [
    "train_features = (train_sentences, train_lines_encoded.astype(np.float32)) \n",
    "train_labels = one_hot_encoder_train_labels.astype(np.float32)"
   ]
  },
  {
   "cell_type": "markdown",
   "id": "5b0d7768",
   "metadata": {},
   "source": [
    "If you see something like:\n",
    "\n",
    "> InternalError: Failed copying input tensor from /job:localhost/replica:0/task:0/device:CPU:0 to /job:localhost/replica:0/task:0/device:GPU:0 in order to run _EagerConst: Dst tensor is not initialized.\n",
    "\n",
    "That means, you are running out of the memory. I too know that the size of the model is stoopidly large. But it will only work with this large amount of neurons in the model.\n",
    "\n",
    "And to resolve the issue, either turn on the virtual memory, to let the paging files written to your hard drive, or you gotta just upgrade the RAM in your machine."
   ]
  },
  {
   "cell_type": "code",
   "execution_count": 72,
   "id": "e1de524a",
   "metadata": {},
   "outputs": [
    {
     "ename": "InternalError",
     "evalue": "Failed copying input tensor from /job:localhost/replica:0/task:0/device:CPU:0 to /job:localhost/replica:0/task:0/device:GPU:0 in order to run _EagerConst: Dst tensor is not initialized.",
     "output_type": "error",
     "traceback": [
      "\u001b[1;31m---------------------------------------------------------------------------\u001b[0m",
      "\u001b[1;31mInternalError\u001b[0m                             Traceback (most recent call last)",
      "Input \u001b[1;32mIn [72]\u001b[0m, in \u001b[0;36m<cell line: 1>\u001b[1;34m()\u001b[0m\n\u001b[1;32m----> 1\u001b[0m train_pipes \u001b[38;5;241m=\u001b[39m \u001b[43mcreate_pipeline\u001b[49m\u001b[43m(\u001b[49m\n\u001b[0;32m      2\u001b[0m \u001b[43m    \u001b[49m\u001b[43mtrain_features\u001b[49m\u001b[43m,\u001b[49m\u001b[43m \u001b[49m\u001b[43mtrain_labels\u001b[49m\u001b[43m,\u001b[49m\u001b[43m \u001b[49m\n\u001b[0;32m      3\u001b[0m \u001b[43m    \u001b[49m\u001b[43mbatch_size\u001b[49m\u001b[38;5;241;43m=\u001b[39;49m\u001b[43mBATCH_SIZE\u001b[49m\u001b[43m,\u001b[49m\u001b[43m \u001b[49m\u001b[43mshuffle\u001b[49m\u001b[38;5;241;43m=\u001b[39;49m\u001b[38;5;28;43;01mTrue\u001b[39;49;00m\u001b[43m,\u001b[49m\u001b[43m \u001b[49m\n\u001b[0;32m      4\u001b[0m \u001b[43m    \u001b[49m\u001b[43mcache\u001b[49m\u001b[38;5;241;43m=\u001b[39;49m\u001b[38;5;28;43;01mFalse\u001b[39;49;00m\u001b[43m,\u001b[49m\u001b[43m \u001b[49m\u001b[43mprefetch\u001b[49m\u001b[38;5;241;43m=\u001b[39;49m\u001b[38;5;28;43;01mTrue\u001b[39;49;00m\u001b[43m)\u001b[49m\n",
      "Input \u001b[1;32mIn [60]\u001b[0m, in \u001b[0;36mcreate_pipeline\u001b[1;34m(features, labels, batch_size, shuffle, cache, prefetch)\u001b[0m\n\u001b[0;32m      2\u001b[0m AUTOTUNE \u001b[38;5;241m=\u001b[39m tf\u001b[38;5;241m.\u001b[39mdata\u001b[38;5;241m.\u001b[39mAUTOTUNE\n\u001b[0;32m      4\u001b[0m \u001b[38;5;66;03m# Create dataset with features and labels\u001b[39;00m\n\u001b[1;32m----> 5\u001b[0m dataset_block \u001b[38;5;241m=\u001b[39m \u001b[43mtf\u001b[49m\u001b[38;5;241;43m.\u001b[39;49m\u001b[43mdata\u001b[49m\u001b[38;5;241;43m.\u001b[39;49m\u001b[43mDataset\u001b[49m\u001b[38;5;241;43m.\u001b[39;49m\u001b[43mfrom_tensor_slices\u001b[49m\u001b[43m(\u001b[49m\u001b[43m(\u001b[49m\u001b[43mfeatures\u001b[49m\u001b[43m,\u001b[49m\u001b[43m \u001b[49m\u001b[43mlabels\u001b[49m\u001b[43m)\u001b[49m\u001b[43m)\u001b[49m\n\u001b[0;32m      7\u001b[0m \u001b[38;5;66;03m# Apply shuffling based on condition\u001b[39;00m\n\u001b[0;32m      8\u001b[0m \u001b[38;5;28;01mif\u001b[39;00m shuffle:\n",
      "File \u001b[1;32m~\\miniforge3\\lib\\site-packages\\tensorflow\\python\\data\\ops\\dataset_ops.py:793\u001b[0m, in \u001b[0;36mDatasetV2.from_tensor_slices\u001b[1;34m(tensors, name)\u001b[0m\n\u001b[0;32m    715\u001b[0m \u001b[38;5;129m@staticmethod\u001b[39m\n\u001b[0;32m    716\u001b[0m \u001b[38;5;28;01mdef\u001b[39;00m \u001b[38;5;21mfrom_tensor_slices\u001b[39m(tensors, name\u001b[38;5;241m=\u001b[39m\u001b[38;5;28;01mNone\u001b[39;00m):\n\u001b[0;32m    717\u001b[0m   \u001b[38;5;124;03m\"\"\"Creates a `Dataset` whose elements are slices of the given tensors.\u001b[39;00m\n\u001b[0;32m    718\u001b[0m \n\u001b[0;32m    719\u001b[0m \u001b[38;5;124;03m  The given tensors are sliced along their first dimension. This operation\u001b[39;00m\n\u001b[1;32m   (...)\u001b[0m\n\u001b[0;32m    791\u001b[0m \u001b[38;5;124;03m    Dataset: A `Dataset`.\u001b[39;00m\n\u001b[0;32m    792\u001b[0m \u001b[38;5;124;03m  \"\"\"\u001b[39;00m\n\u001b[1;32m--> 793\u001b[0m   \u001b[38;5;28;01mreturn\u001b[39;00m \u001b[43mTensorSliceDataset\u001b[49m\u001b[43m(\u001b[49m\u001b[43mtensors\u001b[49m\u001b[43m,\u001b[49m\u001b[43m \u001b[49m\u001b[43mname\u001b[49m\u001b[38;5;241;43m=\u001b[39;49m\u001b[43mname\u001b[49m\u001b[43m)\u001b[49m\n",
      "File \u001b[1;32m~\\miniforge3\\lib\\site-packages\\tensorflow\\python\\data\\ops\\dataset_ops.py:4477\u001b[0m, in \u001b[0;36mTensorSliceDataset.__init__\u001b[1;34m(self, element, is_files, name)\u001b[0m\n\u001b[0;32m   4475\u001b[0m \u001b[38;5;28;01mdef\u001b[39;00m \u001b[38;5;21m__init__\u001b[39m(\u001b[38;5;28mself\u001b[39m, element, is_files\u001b[38;5;241m=\u001b[39m\u001b[38;5;28;01mFalse\u001b[39;00m, name\u001b[38;5;241m=\u001b[39m\u001b[38;5;28;01mNone\u001b[39;00m):\n\u001b[0;32m   4476\u001b[0m   \u001b[38;5;124;03m\"\"\"See `Dataset.from_tensor_slices()` for details.\"\"\"\u001b[39;00m\n\u001b[1;32m-> 4477\u001b[0m   element \u001b[38;5;241m=\u001b[39m \u001b[43mstructure\u001b[49m\u001b[38;5;241;43m.\u001b[39;49m\u001b[43mnormalize_element\u001b[49m\u001b[43m(\u001b[49m\u001b[43melement\u001b[49m\u001b[43m)\u001b[49m\n\u001b[0;32m   4478\u001b[0m   batched_spec \u001b[38;5;241m=\u001b[39m structure\u001b[38;5;241m.\u001b[39mtype_spec_from_value(element)\n\u001b[0;32m   4479\u001b[0m   \u001b[38;5;28mself\u001b[39m\u001b[38;5;241m.\u001b[39m_tensors \u001b[38;5;241m=\u001b[39m structure\u001b[38;5;241m.\u001b[39mto_batched_tensor_list(batched_spec, element)\n",
      "File \u001b[1;32m~\\miniforge3\\lib\\site-packages\\tensorflow\\python\\data\\util\\structure.py:125\u001b[0m, in \u001b[0;36mnormalize_element\u001b[1;34m(element, element_signature)\u001b[0m\n\u001b[0;32m    122\u001b[0m       \u001b[38;5;28;01melse\u001b[39;00m:\n\u001b[0;32m    123\u001b[0m         dtype \u001b[38;5;241m=\u001b[39m \u001b[38;5;28mgetattr\u001b[39m(spec, \u001b[38;5;124m\"\u001b[39m\u001b[38;5;124mdtype\u001b[39m\u001b[38;5;124m\"\u001b[39m, \u001b[38;5;28;01mNone\u001b[39;00m)\n\u001b[0;32m    124\u001b[0m         normalized_components\u001b[38;5;241m.\u001b[39mappend(\n\u001b[1;32m--> 125\u001b[0m             \u001b[43mops\u001b[49m\u001b[38;5;241;43m.\u001b[39;49m\u001b[43mconvert_to_tensor\u001b[49m\u001b[43m(\u001b[49m\u001b[43mt\u001b[49m\u001b[43m,\u001b[49m\u001b[43m \u001b[49m\u001b[43mname\u001b[49m\u001b[38;5;241;43m=\u001b[39;49m\u001b[38;5;124;43m\"\u001b[39;49m\u001b[38;5;124;43mcomponent_\u001b[39;49m\u001b[38;5;132;43;01m%d\u001b[39;49;00m\u001b[38;5;124;43m\"\u001b[39;49m\u001b[43m \u001b[49m\u001b[38;5;241;43m%\u001b[39;49m\u001b[43m \u001b[49m\u001b[43mi\u001b[49m\u001b[43m,\u001b[49m\u001b[43m \u001b[49m\u001b[43mdtype\u001b[49m\u001b[38;5;241;43m=\u001b[39;49m\u001b[43mdtype\u001b[49m\u001b[43m)\u001b[49m)\n\u001b[0;32m    126\u001b[0m \u001b[38;5;28;01mreturn\u001b[39;00m nest\u001b[38;5;241m.\u001b[39mpack_sequence_as(pack_as, normalized_components)\n",
      "File \u001b[1;32m~\\miniforge3\\lib\\site-packages\\tensorflow\\python\\profiler\\trace.py:183\u001b[0m, in \u001b[0;36mtrace_wrapper.<locals>.inner_wrapper.<locals>.wrapped\u001b[1;34m(*args, **kwargs)\u001b[0m\n\u001b[0;32m    181\u001b[0m   \u001b[38;5;28;01mwith\u001b[39;00m Trace(trace_name, \u001b[38;5;241m*\u001b[39m\u001b[38;5;241m*\u001b[39mtrace_kwargs):\n\u001b[0;32m    182\u001b[0m     \u001b[38;5;28;01mreturn\u001b[39;00m func(\u001b[38;5;241m*\u001b[39margs, \u001b[38;5;241m*\u001b[39m\u001b[38;5;241m*\u001b[39mkwargs)\n\u001b[1;32m--> 183\u001b[0m \u001b[38;5;28;01mreturn\u001b[39;00m func(\u001b[38;5;241m*\u001b[39margs, \u001b[38;5;241m*\u001b[39m\u001b[38;5;241m*\u001b[39mkwargs)\n",
      "File \u001b[1;32m~\\miniforge3\\lib\\site-packages\\tensorflow\\python\\framework\\ops.py:1695\u001b[0m, in \u001b[0;36mconvert_to_tensor\u001b[1;34m(value, dtype, name, as_ref, preferred_dtype, dtype_hint, ctx, accepted_result_types)\u001b[0m\n\u001b[0;32m   1690\u001b[0m       \u001b[38;5;28;01mraise\u001b[39;00m \u001b[38;5;167;01mTypeError\u001b[39;00m(\u001b[38;5;124m\"\u001b[39m\u001b[38;5;124mconvert_to_tensor did not convert to \u001b[39m\u001b[38;5;124m\"\u001b[39m\n\u001b[0;32m   1691\u001b[0m                       \u001b[38;5;124m\"\u001b[39m\u001b[38;5;124mthe preferred dtype: \u001b[39m\u001b[38;5;132;01m%s\u001b[39;00m\u001b[38;5;124m vs \u001b[39m\u001b[38;5;132;01m%s\u001b[39;00m\u001b[38;5;124m \u001b[39m\u001b[38;5;124m\"\u001b[39m \u001b[38;5;241m%\u001b[39m\n\u001b[0;32m   1692\u001b[0m                       (ret\u001b[38;5;241m.\u001b[39mdtype\u001b[38;5;241m.\u001b[39mbase_dtype, preferred_dtype\u001b[38;5;241m.\u001b[39mbase_dtype))\n\u001b[0;32m   1694\u001b[0m \u001b[38;5;28;01mif\u001b[39;00m ret \u001b[38;5;129;01mis\u001b[39;00m \u001b[38;5;28;01mNone\u001b[39;00m:\n\u001b[1;32m-> 1695\u001b[0m   ret \u001b[38;5;241m=\u001b[39m \u001b[43mconversion_func\u001b[49m\u001b[43m(\u001b[49m\u001b[43mvalue\u001b[49m\u001b[43m,\u001b[49m\u001b[43m \u001b[49m\u001b[43mdtype\u001b[49m\u001b[38;5;241;43m=\u001b[39;49m\u001b[43mdtype\u001b[49m\u001b[43m,\u001b[49m\u001b[43m \u001b[49m\u001b[43mname\u001b[49m\u001b[38;5;241;43m=\u001b[39;49m\u001b[43mname\u001b[49m\u001b[43m,\u001b[49m\u001b[43m \u001b[49m\u001b[43mas_ref\u001b[49m\u001b[38;5;241;43m=\u001b[39;49m\u001b[43mas_ref\u001b[49m\u001b[43m)\u001b[49m\n\u001b[0;32m   1697\u001b[0m \u001b[38;5;28;01mif\u001b[39;00m ret \u001b[38;5;129;01mis\u001b[39;00m \u001b[38;5;28mNotImplemented\u001b[39m:\n\u001b[0;32m   1698\u001b[0m   \u001b[38;5;28;01mcontinue\u001b[39;00m\n",
      "File \u001b[1;32m~\\miniforge3\\lib\\site-packages\\tensorflow\\python\\framework\\tensor_conversion_registry.py:48\u001b[0m, in \u001b[0;36m_default_conversion_function\u001b[1;34m(***failed resolving arguments***)\u001b[0m\n\u001b[0;32m     46\u001b[0m \u001b[38;5;28;01mdef\u001b[39;00m \u001b[38;5;21m_default_conversion_function\u001b[39m(value, dtype, name, as_ref):\n\u001b[0;32m     47\u001b[0m   \u001b[38;5;28;01mdel\u001b[39;00m as_ref  \u001b[38;5;66;03m# Unused.\u001b[39;00m\n\u001b[1;32m---> 48\u001b[0m   \u001b[38;5;28;01mreturn\u001b[39;00m \u001b[43mconstant_op\u001b[49m\u001b[38;5;241;43m.\u001b[39;49m\u001b[43mconstant\u001b[49m\u001b[43m(\u001b[49m\u001b[43mvalue\u001b[49m\u001b[43m,\u001b[49m\u001b[43m \u001b[49m\u001b[43mdtype\u001b[49m\u001b[43m,\u001b[49m\u001b[43m \u001b[49m\u001b[43mname\u001b[49m\u001b[38;5;241;43m=\u001b[39;49m\u001b[43mname\u001b[49m\u001b[43m)\u001b[49m\n",
      "File \u001b[1;32m~\\miniforge3\\lib\\site-packages\\tensorflow\\python\\framework\\constant_op.py:267\u001b[0m, in \u001b[0;36mconstant\u001b[1;34m(value, dtype, shape, name)\u001b[0m\n\u001b[0;32m    170\u001b[0m \u001b[38;5;129m@tf_export\u001b[39m(\u001b[38;5;124m\"\u001b[39m\u001b[38;5;124mconstant\u001b[39m\u001b[38;5;124m\"\u001b[39m, v1\u001b[38;5;241m=\u001b[39m[])\n\u001b[0;32m    171\u001b[0m \u001b[38;5;28;01mdef\u001b[39;00m \u001b[38;5;21mconstant\u001b[39m(value, dtype\u001b[38;5;241m=\u001b[39m\u001b[38;5;28;01mNone\u001b[39;00m, shape\u001b[38;5;241m=\u001b[39m\u001b[38;5;28;01mNone\u001b[39;00m, name\u001b[38;5;241m=\u001b[39m\u001b[38;5;124m\"\u001b[39m\u001b[38;5;124mConst\u001b[39m\u001b[38;5;124m\"\u001b[39m):\n\u001b[0;32m    172\u001b[0m   \u001b[38;5;124;03m\"\"\"Creates a constant tensor from a tensor-like object.\u001b[39;00m\n\u001b[0;32m    173\u001b[0m \n\u001b[0;32m    174\u001b[0m \u001b[38;5;124;03m  Note: All eager `tf.Tensor` values are immutable (in contrast to\u001b[39;00m\n\u001b[1;32m   (...)\u001b[0m\n\u001b[0;32m    265\u001b[0m \u001b[38;5;124;03m    ValueError: if called on a symbolic tensor.\u001b[39;00m\n\u001b[0;32m    266\u001b[0m \u001b[38;5;124;03m  \"\"\"\u001b[39;00m\n\u001b[1;32m--> 267\u001b[0m   \u001b[38;5;28;01mreturn\u001b[39;00m \u001b[43m_constant_impl\u001b[49m\u001b[43m(\u001b[49m\u001b[43mvalue\u001b[49m\u001b[43m,\u001b[49m\u001b[43m \u001b[49m\u001b[43mdtype\u001b[49m\u001b[43m,\u001b[49m\u001b[43m \u001b[49m\u001b[43mshape\u001b[49m\u001b[43m,\u001b[49m\u001b[43m \u001b[49m\u001b[43mname\u001b[49m\u001b[43m,\u001b[49m\u001b[43m \u001b[49m\u001b[43mverify_shape\u001b[49m\u001b[38;5;241;43m=\u001b[39;49m\u001b[38;5;28;43;01mFalse\u001b[39;49;00m\u001b[43m,\u001b[49m\n\u001b[0;32m    268\u001b[0m \u001b[43m                        \u001b[49m\u001b[43mallow_broadcast\u001b[49m\u001b[38;5;241;43m=\u001b[39;49m\u001b[38;5;28;43;01mTrue\u001b[39;49;00m\u001b[43m)\u001b[49m\n",
      "File \u001b[1;32m~\\miniforge3\\lib\\site-packages\\tensorflow\\python\\framework\\constant_op.py:279\u001b[0m, in \u001b[0;36m_constant_impl\u001b[1;34m(value, dtype, shape, name, verify_shape, allow_broadcast)\u001b[0m\n\u001b[0;32m    277\u001b[0m     \u001b[38;5;28;01mwith\u001b[39;00m trace\u001b[38;5;241m.\u001b[39mTrace(\u001b[38;5;124m\"\u001b[39m\u001b[38;5;124mtf.constant\u001b[39m\u001b[38;5;124m\"\u001b[39m):\n\u001b[0;32m    278\u001b[0m       \u001b[38;5;28;01mreturn\u001b[39;00m _constant_eager_impl(ctx, value, dtype, shape, verify_shape)\n\u001b[1;32m--> 279\u001b[0m   \u001b[38;5;28;01mreturn\u001b[39;00m \u001b[43m_constant_eager_impl\u001b[49m\u001b[43m(\u001b[49m\u001b[43mctx\u001b[49m\u001b[43m,\u001b[49m\u001b[43m \u001b[49m\u001b[43mvalue\u001b[49m\u001b[43m,\u001b[49m\u001b[43m \u001b[49m\u001b[43mdtype\u001b[49m\u001b[43m,\u001b[49m\u001b[43m \u001b[49m\u001b[43mshape\u001b[49m\u001b[43m,\u001b[49m\u001b[43m \u001b[49m\u001b[43mverify_shape\u001b[49m\u001b[43m)\u001b[49m\n\u001b[0;32m    281\u001b[0m g \u001b[38;5;241m=\u001b[39m ops\u001b[38;5;241m.\u001b[39mget_default_graph()\n\u001b[0;32m    282\u001b[0m tensor_value \u001b[38;5;241m=\u001b[39m attr_value_pb2\u001b[38;5;241m.\u001b[39mAttrValue()\n",
      "File \u001b[1;32m~\\miniforge3\\lib\\site-packages\\tensorflow\\python\\framework\\constant_op.py:304\u001b[0m, in \u001b[0;36m_constant_eager_impl\u001b[1;34m(ctx, value, dtype, shape, verify_shape)\u001b[0m\n\u001b[0;32m    302\u001b[0m \u001b[38;5;28;01mdef\u001b[39;00m \u001b[38;5;21m_constant_eager_impl\u001b[39m(ctx, value, dtype, shape, verify_shape):\n\u001b[0;32m    303\u001b[0m   \u001b[38;5;124;03m\"\"\"Creates a constant on the current device.\"\"\"\u001b[39;00m\n\u001b[1;32m--> 304\u001b[0m   t \u001b[38;5;241m=\u001b[39m \u001b[43mconvert_to_eager_tensor\u001b[49m\u001b[43m(\u001b[49m\u001b[43mvalue\u001b[49m\u001b[43m,\u001b[49m\u001b[43m \u001b[49m\u001b[43mctx\u001b[49m\u001b[43m,\u001b[49m\u001b[43m \u001b[49m\u001b[43mdtype\u001b[49m\u001b[43m)\u001b[49m\n\u001b[0;32m    305\u001b[0m   \u001b[38;5;28;01mif\u001b[39;00m shape \u001b[38;5;129;01mis\u001b[39;00m \u001b[38;5;28;01mNone\u001b[39;00m:\n\u001b[0;32m    306\u001b[0m     \u001b[38;5;28;01mreturn\u001b[39;00m t\n",
      "File \u001b[1;32m~\\miniforge3\\lib\\site-packages\\tensorflow\\python\\framework\\constant_op.py:102\u001b[0m, in \u001b[0;36mconvert_to_eager_tensor\u001b[1;34m(value, ctx, dtype)\u001b[0m\n\u001b[0;32m    100\u001b[0m     dtype \u001b[38;5;241m=\u001b[39m dtypes\u001b[38;5;241m.\u001b[39mas_dtype(dtype)\u001b[38;5;241m.\u001b[39mas_datatype_enum\n\u001b[0;32m    101\u001b[0m ctx\u001b[38;5;241m.\u001b[39mensure_initialized()\n\u001b[1;32m--> 102\u001b[0m \u001b[38;5;28;01mreturn\u001b[39;00m \u001b[43mops\u001b[49m\u001b[38;5;241;43m.\u001b[39;49m\u001b[43mEagerTensor\u001b[49m\u001b[43m(\u001b[49m\u001b[43mvalue\u001b[49m\u001b[43m,\u001b[49m\u001b[43m \u001b[49m\u001b[43mctx\u001b[49m\u001b[38;5;241;43m.\u001b[39;49m\u001b[43mdevice_name\u001b[49m\u001b[43m,\u001b[49m\u001b[43m \u001b[49m\u001b[43mdtype\u001b[49m\u001b[43m)\u001b[49m\n",
      "\u001b[1;31mInternalError\u001b[0m: Failed copying input tensor from /job:localhost/replica:0/task:0/device:CPU:0 to /job:localhost/replica:0/task:0/device:GPU:0 in order to run _EagerConst: Dst tensor is not initialized."
     ]
    },
    {
     "ename": "InternalError",
     "evalue": "Failed copying input tensor from /job:localhost/replica:0/task:0/device:CPU:0 to /job:localhost/replica:0/task:0/device:GPU:0 in order to run _EagerConst: Dst tensor is not initialized.",
     "output_type": "error",
     "traceback": [
      "\u001b[1;31m---------------------------------------------------------------------------\u001b[0m",
      "\u001b[1;31mInternalError\u001b[0m                             Traceback (most recent call last)",
      "Input \u001b[1;32mIn [72]\u001b[0m, in \u001b[0;36m<cell line: 1>\u001b[1;34m()\u001b[0m\n\u001b[1;32m----> 1\u001b[0m train_pipes \u001b[38;5;241m=\u001b[39m \u001b[43mcreate_pipeline\u001b[49m\u001b[43m(\u001b[49m\n\u001b[0;32m      2\u001b[0m \u001b[43m    \u001b[49m\u001b[43mtrain_features\u001b[49m\u001b[43m,\u001b[49m\u001b[43m \u001b[49m\u001b[43mtrain_labels\u001b[49m\u001b[43m,\u001b[49m\u001b[43m \u001b[49m\n\u001b[0;32m      3\u001b[0m \u001b[43m    \u001b[49m\u001b[43mbatch_size\u001b[49m\u001b[38;5;241;43m=\u001b[39;49m\u001b[43mBATCH_SIZE\u001b[49m\u001b[43m,\u001b[49m\u001b[43m \u001b[49m\u001b[43mshuffle\u001b[49m\u001b[38;5;241;43m=\u001b[39;49m\u001b[38;5;28;43;01mTrue\u001b[39;49;00m\u001b[43m,\u001b[49m\u001b[43m \u001b[49m\n\u001b[0;32m      4\u001b[0m \u001b[43m    \u001b[49m\u001b[43mcache\u001b[49m\u001b[38;5;241;43m=\u001b[39;49m\u001b[38;5;28;43;01mFalse\u001b[39;49;00m\u001b[43m,\u001b[49m\u001b[43m \u001b[49m\u001b[43mprefetch\u001b[49m\u001b[38;5;241;43m=\u001b[39;49m\u001b[38;5;28;43;01mTrue\u001b[39;49;00m\u001b[43m)\u001b[49m\n",
      "Input \u001b[1;32mIn [60]\u001b[0m, in \u001b[0;36mcreate_pipeline\u001b[1;34m(features, labels, batch_size, shuffle, cache, prefetch)\u001b[0m\n\u001b[0;32m      2\u001b[0m AUTOTUNE \u001b[38;5;241m=\u001b[39m tf\u001b[38;5;241m.\u001b[39mdata\u001b[38;5;241m.\u001b[39mAUTOTUNE\n\u001b[0;32m      4\u001b[0m \u001b[38;5;66;03m# Create dataset with features and labels\u001b[39;00m\n\u001b[1;32m----> 5\u001b[0m dataset_block \u001b[38;5;241m=\u001b[39m \u001b[43mtf\u001b[49m\u001b[38;5;241;43m.\u001b[39;49m\u001b[43mdata\u001b[49m\u001b[38;5;241;43m.\u001b[39;49m\u001b[43mDataset\u001b[49m\u001b[38;5;241;43m.\u001b[39;49m\u001b[43mfrom_tensor_slices\u001b[49m\u001b[43m(\u001b[49m\u001b[43m(\u001b[49m\u001b[43mfeatures\u001b[49m\u001b[43m,\u001b[49m\u001b[43m \u001b[49m\u001b[43mlabels\u001b[49m\u001b[43m)\u001b[49m\u001b[43m)\u001b[49m\n\u001b[0;32m      7\u001b[0m \u001b[38;5;66;03m# Apply shuffling based on condition\u001b[39;00m\n\u001b[0;32m      8\u001b[0m \u001b[38;5;28;01mif\u001b[39;00m shuffle:\n",
      "File \u001b[1;32m~\\miniforge3\\lib\\site-packages\\tensorflow\\python\\data\\ops\\dataset_ops.py:793\u001b[0m, in \u001b[0;36mDatasetV2.from_tensor_slices\u001b[1;34m(tensors, name)\u001b[0m\n\u001b[0;32m    715\u001b[0m \u001b[38;5;129m@staticmethod\u001b[39m\n\u001b[0;32m    716\u001b[0m \u001b[38;5;28;01mdef\u001b[39;00m \u001b[38;5;21mfrom_tensor_slices\u001b[39m(tensors, name\u001b[38;5;241m=\u001b[39m\u001b[38;5;28;01mNone\u001b[39;00m):\n\u001b[0;32m    717\u001b[0m   \u001b[38;5;124;03m\"\"\"Creates a `Dataset` whose elements are slices of the given tensors.\u001b[39;00m\n\u001b[0;32m    718\u001b[0m \n\u001b[0;32m    719\u001b[0m \u001b[38;5;124;03m  The given tensors are sliced along their first dimension. This operation\u001b[39;00m\n\u001b[1;32m   (...)\u001b[0m\n\u001b[0;32m    791\u001b[0m \u001b[38;5;124;03m    Dataset: A `Dataset`.\u001b[39;00m\n\u001b[0;32m    792\u001b[0m \u001b[38;5;124;03m  \"\"\"\u001b[39;00m\n\u001b[1;32m--> 793\u001b[0m   \u001b[38;5;28;01mreturn\u001b[39;00m \u001b[43mTensorSliceDataset\u001b[49m\u001b[43m(\u001b[49m\u001b[43mtensors\u001b[49m\u001b[43m,\u001b[49m\u001b[43m \u001b[49m\u001b[43mname\u001b[49m\u001b[38;5;241;43m=\u001b[39;49m\u001b[43mname\u001b[49m\u001b[43m)\u001b[49m\n",
      "File \u001b[1;32m~\\miniforge3\\lib\\site-packages\\tensorflow\\python\\data\\ops\\dataset_ops.py:4477\u001b[0m, in \u001b[0;36mTensorSliceDataset.__init__\u001b[1;34m(self, element, is_files, name)\u001b[0m\n\u001b[0;32m   4475\u001b[0m \u001b[38;5;28;01mdef\u001b[39;00m \u001b[38;5;21m__init__\u001b[39m(\u001b[38;5;28mself\u001b[39m, element, is_files\u001b[38;5;241m=\u001b[39m\u001b[38;5;28;01mFalse\u001b[39;00m, name\u001b[38;5;241m=\u001b[39m\u001b[38;5;28;01mNone\u001b[39;00m):\n\u001b[0;32m   4476\u001b[0m   \u001b[38;5;124;03m\"\"\"See `Dataset.from_tensor_slices()` for details.\"\"\"\u001b[39;00m\n\u001b[1;32m-> 4477\u001b[0m   element \u001b[38;5;241m=\u001b[39m \u001b[43mstructure\u001b[49m\u001b[38;5;241;43m.\u001b[39;49m\u001b[43mnormalize_element\u001b[49m\u001b[43m(\u001b[49m\u001b[43melement\u001b[49m\u001b[43m)\u001b[49m\n\u001b[0;32m   4478\u001b[0m   batched_spec \u001b[38;5;241m=\u001b[39m structure\u001b[38;5;241m.\u001b[39mtype_spec_from_value(element)\n\u001b[0;32m   4479\u001b[0m   \u001b[38;5;28mself\u001b[39m\u001b[38;5;241m.\u001b[39m_tensors \u001b[38;5;241m=\u001b[39m structure\u001b[38;5;241m.\u001b[39mto_batched_tensor_list(batched_spec, element)\n",
      "File \u001b[1;32m~\\miniforge3\\lib\\site-packages\\tensorflow\\python\\data\\util\\structure.py:125\u001b[0m, in \u001b[0;36mnormalize_element\u001b[1;34m(element, element_signature)\u001b[0m\n\u001b[0;32m    122\u001b[0m       \u001b[38;5;28;01melse\u001b[39;00m:\n\u001b[0;32m    123\u001b[0m         dtype \u001b[38;5;241m=\u001b[39m \u001b[38;5;28mgetattr\u001b[39m(spec, \u001b[38;5;124m\"\u001b[39m\u001b[38;5;124mdtype\u001b[39m\u001b[38;5;124m\"\u001b[39m, \u001b[38;5;28;01mNone\u001b[39;00m)\n\u001b[0;32m    124\u001b[0m         normalized_components\u001b[38;5;241m.\u001b[39mappend(\n\u001b[1;32m--> 125\u001b[0m             \u001b[43mops\u001b[49m\u001b[38;5;241;43m.\u001b[39;49m\u001b[43mconvert_to_tensor\u001b[49m\u001b[43m(\u001b[49m\u001b[43mt\u001b[49m\u001b[43m,\u001b[49m\u001b[43m \u001b[49m\u001b[43mname\u001b[49m\u001b[38;5;241;43m=\u001b[39;49m\u001b[38;5;124;43m\"\u001b[39;49m\u001b[38;5;124;43mcomponent_\u001b[39;49m\u001b[38;5;132;43;01m%d\u001b[39;49;00m\u001b[38;5;124;43m\"\u001b[39;49m\u001b[43m \u001b[49m\u001b[38;5;241;43m%\u001b[39;49m\u001b[43m \u001b[49m\u001b[43mi\u001b[49m\u001b[43m,\u001b[49m\u001b[43m \u001b[49m\u001b[43mdtype\u001b[49m\u001b[38;5;241;43m=\u001b[39;49m\u001b[43mdtype\u001b[49m\u001b[43m)\u001b[49m)\n\u001b[0;32m    126\u001b[0m \u001b[38;5;28;01mreturn\u001b[39;00m nest\u001b[38;5;241m.\u001b[39mpack_sequence_as(pack_as, normalized_components)\n",
      "File \u001b[1;32m~\\miniforge3\\lib\\site-packages\\tensorflow\\python\\profiler\\trace.py:183\u001b[0m, in \u001b[0;36mtrace_wrapper.<locals>.inner_wrapper.<locals>.wrapped\u001b[1;34m(*args, **kwargs)\u001b[0m\n\u001b[0;32m    181\u001b[0m   \u001b[38;5;28;01mwith\u001b[39;00m Trace(trace_name, \u001b[38;5;241m*\u001b[39m\u001b[38;5;241m*\u001b[39mtrace_kwargs):\n\u001b[0;32m    182\u001b[0m     \u001b[38;5;28;01mreturn\u001b[39;00m func(\u001b[38;5;241m*\u001b[39margs, \u001b[38;5;241m*\u001b[39m\u001b[38;5;241m*\u001b[39mkwargs)\n\u001b[1;32m--> 183\u001b[0m \u001b[38;5;28;01mreturn\u001b[39;00m func(\u001b[38;5;241m*\u001b[39margs, \u001b[38;5;241m*\u001b[39m\u001b[38;5;241m*\u001b[39mkwargs)\n",
      "File \u001b[1;32m~\\miniforge3\\lib\\site-packages\\tensorflow\\python\\framework\\ops.py:1695\u001b[0m, in \u001b[0;36mconvert_to_tensor\u001b[1;34m(value, dtype, name, as_ref, preferred_dtype, dtype_hint, ctx, accepted_result_types)\u001b[0m\n\u001b[0;32m   1690\u001b[0m       \u001b[38;5;28;01mraise\u001b[39;00m \u001b[38;5;167;01mTypeError\u001b[39;00m(\u001b[38;5;124m\"\u001b[39m\u001b[38;5;124mconvert_to_tensor did not convert to \u001b[39m\u001b[38;5;124m\"\u001b[39m\n\u001b[0;32m   1691\u001b[0m                       \u001b[38;5;124m\"\u001b[39m\u001b[38;5;124mthe preferred dtype: \u001b[39m\u001b[38;5;132;01m%s\u001b[39;00m\u001b[38;5;124m vs \u001b[39m\u001b[38;5;132;01m%s\u001b[39;00m\u001b[38;5;124m \u001b[39m\u001b[38;5;124m\"\u001b[39m \u001b[38;5;241m%\u001b[39m\n\u001b[0;32m   1692\u001b[0m                       (ret\u001b[38;5;241m.\u001b[39mdtype\u001b[38;5;241m.\u001b[39mbase_dtype, preferred_dtype\u001b[38;5;241m.\u001b[39mbase_dtype))\n\u001b[0;32m   1694\u001b[0m \u001b[38;5;28;01mif\u001b[39;00m ret \u001b[38;5;129;01mis\u001b[39;00m \u001b[38;5;28;01mNone\u001b[39;00m:\n\u001b[1;32m-> 1695\u001b[0m   ret \u001b[38;5;241m=\u001b[39m \u001b[43mconversion_func\u001b[49m\u001b[43m(\u001b[49m\u001b[43mvalue\u001b[49m\u001b[43m,\u001b[49m\u001b[43m \u001b[49m\u001b[43mdtype\u001b[49m\u001b[38;5;241;43m=\u001b[39;49m\u001b[43mdtype\u001b[49m\u001b[43m,\u001b[49m\u001b[43m \u001b[49m\u001b[43mname\u001b[49m\u001b[38;5;241;43m=\u001b[39;49m\u001b[43mname\u001b[49m\u001b[43m,\u001b[49m\u001b[43m \u001b[49m\u001b[43mas_ref\u001b[49m\u001b[38;5;241;43m=\u001b[39;49m\u001b[43mas_ref\u001b[49m\u001b[43m)\u001b[49m\n\u001b[0;32m   1697\u001b[0m \u001b[38;5;28;01mif\u001b[39;00m ret \u001b[38;5;129;01mis\u001b[39;00m \u001b[38;5;28mNotImplemented\u001b[39m:\n\u001b[0;32m   1698\u001b[0m   \u001b[38;5;28;01mcontinue\u001b[39;00m\n",
      "File \u001b[1;32m~\\miniforge3\\lib\\site-packages\\tensorflow\\python\\framework\\tensor_conversion_registry.py:48\u001b[0m, in \u001b[0;36m_default_conversion_function\u001b[1;34m(***failed resolving arguments***)\u001b[0m\n\u001b[0;32m     46\u001b[0m \u001b[38;5;28;01mdef\u001b[39;00m \u001b[38;5;21m_default_conversion_function\u001b[39m(value, dtype, name, as_ref):\n\u001b[0;32m     47\u001b[0m   \u001b[38;5;28;01mdel\u001b[39;00m as_ref  \u001b[38;5;66;03m# Unused.\u001b[39;00m\n\u001b[1;32m---> 48\u001b[0m   \u001b[38;5;28;01mreturn\u001b[39;00m \u001b[43mconstant_op\u001b[49m\u001b[38;5;241;43m.\u001b[39;49m\u001b[43mconstant\u001b[49m\u001b[43m(\u001b[49m\u001b[43mvalue\u001b[49m\u001b[43m,\u001b[49m\u001b[43m \u001b[49m\u001b[43mdtype\u001b[49m\u001b[43m,\u001b[49m\u001b[43m \u001b[49m\u001b[43mname\u001b[49m\u001b[38;5;241;43m=\u001b[39;49m\u001b[43mname\u001b[49m\u001b[43m)\u001b[49m\n",
      "File \u001b[1;32m~\\miniforge3\\lib\\site-packages\\tensorflow\\python\\framework\\constant_op.py:267\u001b[0m, in \u001b[0;36mconstant\u001b[1;34m(value, dtype, shape, name)\u001b[0m\n\u001b[0;32m    170\u001b[0m \u001b[38;5;129m@tf_export\u001b[39m(\u001b[38;5;124m\"\u001b[39m\u001b[38;5;124mconstant\u001b[39m\u001b[38;5;124m\"\u001b[39m, v1\u001b[38;5;241m=\u001b[39m[])\n\u001b[0;32m    171\u001b[0m \u001b[38;5;28;01mdef\u001b[39;00m \u001b[38;5;21mconstant\u001b[39m(value, dtype\u001b[38;5;241m=\u001b[39m\u001b[38;5;28;01mNone\u001b[39;00m, shape\u001b[38;5;241m=\u001b[39m\u001b[38;5;28;01mNone\u001b[39;00m, name\u001b[38;5;241m=\u001b[39m\u001b[38;5;124m\"\u001b[39m\u001b[38;5;124mConst\u001b[39m\u001b[38;5;124m\"\u001b[39m):\n\u001b[0;32m    172\u001b[0m   \u001b[38;5;124;03m\"\"\"Creates a constant tensor from a tensor-like object.\u001b[39;00m\n\u001b[0;32m    173\u001b[0m \n\u001b[0;32m    174\u001b[0m \u001b[38;5;124;03m  Note: All eager `tf.Tensor` values are immutable (in contrast to\u001b[39;00m\n\u001b[1;32m   (...)\u001b[0m\n\u001b[0;32m    265\u001b[0m \u001b[38;5;124;03m    ValueError: if called on a symbolic tensor.\u001b[39;00m\n\u001b[0;32m    266\u001b[0m \u001b[38;5;124;03m  \"\"\"\u001b[39;00m\n\u001b[1;32m--> 267\u001b[0m   \u001b[38;5;28;01mreturn\u001b[39;00m \u001b[43m_constant_impl\u001b[49m\u001b[43m(\u001b[49m\u001b[43mvalue\u001b[49m\u001b[43m,\u001b[49m\u001b[43m \u001b[49m\u001b[43mdtype\u001b[49m\u001b[43m,\u001b[49m\u001b[43m \u001b[49m\u001b[43mshape\u001b[49m\u001b[43m,\u001b[49m\u001b[43m \u001b[49m\u001b[43mname\u001b[49m\u001b[43m,\u001b[49m\u001b[43m \u001b[49m\u001b[43mverify_shape\u001b[49m\u001b[38;5;241;43m=\u001b[39;49m\u001b[38;5;28;43;01mFalse\u001b[39;49;00m\u001b[43m,\u001b[49m\n\u001b[0;32m    268\u001b[0m \u001b[43m                        \u001b[49m\u001b[43mallow_broadcast\u001b[49m\u001b[38;5;241;43m=\u001b[39;49m\u001b[38;5;28;43;01mTrue\u001b[39;49;00m\u001b[43m)\u001b[49m\n",
      "File \u001b[1;32m~\\miniforge3\\lib\\site-packages\\tensorflow\\python\\framework\\constant_op.py:279\u001b[0m, in \u001b[0;36m_constant_impl\u001b[1;34m(value, dtype, shape, name, verify_shape, allow_broadcast)\u001b[0m\n\u001b[0;32m    277\u001b[0m     \u001b[38;5;28;01mwith\u001b[39;00m trace\u001b[38;5;241m.\u001b[39mTrace(\u001b[38;5;124m\"\u001b[39m\u001b[38;5;124mtf.constant\u001b[39m\u001b[38;5;124m\"\u001b[39m):\n\u001b[0;32m    278\u001b[0m       \u001b[38;5;28;01mreturn\u001b[39;00m _constant_eager_impl(ctx, value, dtype, shape, verify_shape)\n\u001b[1;32m--> 279\u001b[0m   \u001b[38;5;28;01mreturn\u001b[39;00m \u001b[43m_constant_eager_impl\u001b[49m\u001b[43m(\u001b[49m\u001b[43mctx\u001b[49m\u001b[43m,\u001b[49m\u001b[43m \u001b[49m\u001b[43mvalue\u001b[49m\u001b[43m,\u001b[49m\u001b[43m \u001b[49m\u001b[43mdtype\u001b[49m\u001b[43m,\u001b[49m\u001b[43m \u001b[49m\u001b[43mshape\u001b[49m\u001b[43m,\u001b[49m\u001b[43m \u001b[49m\u001b[43mverify_shape\u001b[49m\u001b[43m)\u001b[49m\n\u001b[0;32m    281\u001b[0m g \u001b[38;5;241m=\u001b[39m ops\u001b[38;5;241m.\u001b[39mget_default_graph()\n\u001b[0;32m    282\u001b[0m tensor_value \u001b[38;5;241m=\u001b[39m attr_value_pb2\u001b[38;5;241m.\u001b[39mAttrValue()\n",
      "File \u001b[1;32m~\\miniforge3\\lib\\site-packages\\tensorflow\\python\\framework\\constant_op.py:304\u001b[0m, in \u001b[0;36m_constant_eager_impl\u001b[1;34m(ctx, value, dtype, shape, verify_shape)\u001b[0m\n\u001b[0;32m    302\u001b[0m \u001b[38;5;28;01mdef\u001b[39;00m \u001b[38;5;21m_constant_eager_impl\u001b[39m(ctx, value, dtype, shape, verify_shape):\n\u001b[0;32m    303\u001b[0m   \u001b[38;5;124;03m\"\"\"Creates a constant on the current device.\"\"\"\u001b[39;00m\n\u001b[1;32m--> 304\u001b[0m   t \u001b[38;5;241m=\u001b[39m \u001b[43mconvert_to_eager_tensor\u001b[49m\u001b[43m(\u001b[49m\u001b[43mvalue\u001b[49m\u001b[43m,\u001b[49m\u001b[43m \u001b[49m\u001b[43mctx\u001b[49m\u001b[43m,\u001b[49m\u001b[43m \u001b[49m\u001b[43mdtype\u001b[49m\u001b[43m)\u001b[49m\n\u001b[0;32m    305\u001b[0m   \u001b[38;5;28;01mif\u001b[39;00m shape \u001b[38;5;129;01mis\u001b[39;00m \u001b[38;5;28;01mNone\u001b[39;00m:\n\u001b[0;32m    306\u001b[0m     \u001b[38;5;28;01mreturn\u001b[39;00m t\n",
      "File \u001b[1;32m~\\miniforge3\\lib\\site-packages\\tensorflow\\python\\framework\\constant_op.py:102\u001b[0m, in \u001b[0;36mconvert_to_eager_tensor\u001b[1;34m(value, ctx, dtype)\u001b[0m\n\u001b[0;32m    100\u001b[0m     dtype \u001b[38;5;241m=\u001b[39m dtypes\u001b[38;5;241m.\u001b[39mas_dtype(dtype)\u001b[38;5;241m.\u001b[39mas_datatype_enum\n\u001b[0;32m    101\u001b[0m ctx\u001b[38;5;241m.\u001b[39mensure_initialized()\n\u001b[1;32m--> 102\u001b[0m \u001b[38;5;28;01mreturn\u001b[39;00m \u001b[43mops\u001b[49m\u001b[38;5;241;43m.\u001b[39;49m\u001b[43mEagerTensor\u001b[49m\u001b[43m(\u001b[49m\u001b[43mvalue\u001b[49m\u001b[43m,\u001b[49m\u001b[43m \u001b[49m\u001b[43mctx\u001b[49m\u001b[38;5;241;43m.\u001b[39;49m\u001b[43mdevice_name\u001b[49m\u001b[43m,\u001b[49m\u001b[43m \u001b[49m\u001b[43mdtype\u001b[49m\u001b[43m)\u001b[49m\n",
      "\u001b[1;31mInternalError\u001b[0m: Failed copying input tensor from /job:localhost/replica:0/task:0/device:CPU:0 to /job:localhost/replica:0/task:0/device:GPU:0 in order to run _EagerConst: Dst tensor is not initialized."
     ]
    }
   ],
   "source": [
    "train_pipes = create_pipeline(\n",
    "    train_features, train_labels, \n",
    "    batch_size=BATCH_SIZE, shuffle=True, \n",
    "    cache=False, prefetch=True)"
   ]
  },
  {
   "cell_type": "code",
   "execution_count": null,
   "id": "8b7d99e6",
   "metadata": {},
   "outputs": [],
   "source": [
    "val_features = (val_sentences, val_lines_encoded.astype(np.float32)) \n",
    "val_labels = one_hot_encoder_val_labels.astype(np.float32)"
   ]
  },
  {
   "cell_type": "code",
   "execution_count": null,
   "id": "fda229af",
   "metadata": {},
   "outputs": [],
   "source": [
    "val_pipes = create_pipeline(val_features, val_labels, \n",
    "                         batch_size=BATCH_SIZE, shuffle=False, \n",
    "                         cache=False, prefetch=True)"
   ]
  },
  {
   "cell_type": "code",
   "execution_count": null,
   "id": "1b8151ba",
   "metadata": {},
   "outputs": [],
   "source": [
    "test_features = (test_sentences, test_lines_encoded.astype(np.float32)) \n",
    "test_labels = one_hot_encoder_test_labels.astype(np.float32)"
   ]
  },
  {
   "cell_type": "code",
   "execution_count": null,
   "id": "cd72b0aa",
   "metadata": {},
   "outputs": [],
   "source": [
    "test_pipes = create_pipeline(test_features, test_labels, \n",
    "                          batch_size=BATCH_SIZE, shuffle=False, \n",
    "                          cache=False, prefetch=True)"
   ]
  },
  {
   "cell_type": "markdown",
   "id": "73072a43",
   "metadata": {},
   "source": [
    "**`Visual Inspection`**: For safety purpose."
   ]
  },
  {
   "cell_type": "code",
   "execution_count": null,
   "id": "8bbc8eb0",
   "metadata": {},
   "outputs": [],
   "source": [
    "train_pipes"
   ]
  },
  {
   "cell_type": "code",
   "execution_count": null,
   "id": "028dec64",
   "metadata": {},
   "outputs": [],
   "source": [
    "val_pipes "
   ]
  },
  {
   "cell_type": "code",
   "execution_count": null,
   "id": "4413c0c8",
   "metadata": {},
   "outputs": [],
   "source": [
    "test_pipes\n"
   ]
  },
  {
   "cell_type": "code",
   "execution_count": null,
   "id": "d707500f",
   "metadata": {
    "scrolled": true
   },
   "outputs": [],
   "source": [
    "temp_counter = 0\n",
    "for data in test_pipes:\n",
    "    if temp_counter < 1:\n",
    "        # Print\n",
    "        print(data)\n",
    "        temp_counter = temp_counter + 1\n",
    "    else:\n",
    "        break"
   ]
  },
  {
   "cell_type": "markdown",
   "id": "da039e63",
   "metadata": {},
   "source": [
    "---\n",
    "\n",
    "### 3.4 Model Download"
   ]
  },
  {
   "cell_type": "code",
   "execution_count": null,
   "id": "4bfb657b",
   "metadata": {},
   "outputs": [],
   "source": [
    "def get_tfhub_model(model_link, model_name, model_trainable=False):\n",
    "    return hub.KerasLayer(model_link,\n",
    "                          trainable=model_trainable,\n",
    "                          name=model_name)"
   ]
  },
  {
   "cell_type": "code",
   "execution_count": null,
   "id": "8d8af93e",
   "metadata": {},
   "outputs": [],
   "source": [
    "# get Universal Sentence Encoder here\n",
    "encoder_link = 'https://tfhub.dev/google/universal-sentence-encoder/4'\n",
    "encoder_name = 'universal_sentence_encoder'\n",
    "encoder_trainable = False # set trainable to False for inference-only \n",
    "\n",
    "encoder = get_tfhub_model(encoder_link, encoder_name, model_trainable = encoder_trainable)"
   ]
  },
  {
   "cell_type": "code",
   "execution_count": null,
   "id": "2d3e78aa",
   "metadata": {},
   "outputs": [],
   "source": [
    "class SelfAttentionBlock(layers.Layer):\n",
    "    \n",
    "    def __init__(self, units: int, activation='gelu', kernel_initializer='GlorotNormal', **kwargs):\n",
    "        super(SelfAttentionBlock, self).__init__(**kwargs)\n",
    "        self.units = units\n",
    "        self.activation = activation\n",
    "        self.kernel_initializer = tf.keras.initializers.deserialize(kernel_initializer)\n",
    "        \n",
    "        self.query = layers.LSTM(self.units, activation=self.activation, \n",
    "                                 kernel_initializer=self.kernel_initializer, \n",
    "                                 return_sequences=True, name=f'block_query_lstm')\n",
    "        \n",
    "        self.value = layers.LSTM(self.units, activation=self.activation, \n",
    "                                 kernel_initializer=self.kernel_initializer, go_backwards=True, \n",
    "                                 return_sequences=True, name=f'block_value_lstm')\n",
    "        \n",
    "        self.attention = layers.AdditiveAttention(name='block_attention')\n",
    "        \n",
    "        # https://stackoverflow.com/questions/54493738/keras-difference-between-averagepooling1d-layer-and-globalaveragepooling1d-laye\n",
    "        self.average_pooler = layers.GlobalAveragePooling1D(name='block_average_pooler')\n",
    "        # self.average_pooler = layers.GlobalAveragePooling1D(channel = 'last')\n",
    "        self.query_batch_norm = layers.BatchNormalization(name='block_query_batch_norm')\n",
    "        self.attention_batch_norm = layers.BatchNormalization(name='block_attention_batch_norm')\n",
    "        self.residual = layers.Add(name='block_residual')\n",
    "        \n",
    "        \n",
    "    def __call__(self, x):\n",
    "        # Expand dimensions for LSTM layers\n",
    "        dim_expand_layer = layers.Lambda(lambda embedding: tf.expand_dims(embedding, axis=1), name='block_dim_expand')\n",
    "        x_expanded = dim_expand_layer(x)\n",
    "        \n",
    "        # Generate LSTM sequences\n",
    "        block_query = self.query(x_expanded)\n",
    "        block_value = self.value(x_expanded)\n",
    "        \n",
    "        # Apply self-attention to LSTM \n",
    "        block_attention = self.attention([block_query, block_value])\n",
    "        \n",
    "        # Apply GlobalAvgPooling and BatchNorm\n",
    "        # We need to ensure that the dimension is 1-D instead of giving a matrix in the output\n",
    "        block_query_pooling = self.average_pooler(block_query)\n",
    "        block_query_batch_norm = self.query_batch_norm(block_query_pooling)\n",
    "        \n",
    "        block_attention_pooling = self.average_pooler(block_attention)\n",
    "        block_attention_batch_norm = self.attention_batch_norm(block_attention_pooling)\n",
    "        \n",
    "        # Generate addition residual with processed query and attention\n",
    "        block_residual = self.residual([block_query_batch_norm, block_attention_batch_norm])\n",
    "        \n",
    "        return block_residual"
   ]
  },
  {
   "cell_type": "code",
   "execution_count": null,
   "id": "76f26bf8",
   "metadata": {},
   "outputs": [],
   "source": [
    "def build_model():\n",
    "    # Model Inputs\n",
    "    abstract_input = layers.Input(shape=[], dtype=tf.string, name='abstract_text_input')    \n",
    "    # Ideally, the shape shall be adjusted ynamically\n",
    "    ## TO-DO: Add a input parameter for the build_model\n",
    "    abstract_current_line = layers.Input(shape=(1017), dtype=tf.float32, name='abstract_current_line')\n",
    "    \n",
    "    # Define Layer Initializer\n",
    "    initializer = tf.keras.initializers.GlorotNormal()\n",
    "\n",
    "    # Text Embedding\n",
    "    abstract_embedding = encoder(abstract_input)\n",
    "    \n",
    "    # Self Attention Block Stream\n",
    "    add_attention_block = SelfAttentionBlock(64)(abstract_embedding)\n",
    "    \n",
    "#     abstract_dense = layers.Dense(64, activation='relu', kernel_initializer=initializer)(abstract_embedding)\n",
    "    abstract_dense = layers.Dense(64, activation='gelu', kernel_initializer=initializer)(abstract_embedding)\n",
    "    \n",
    "    # https://www.tensorflow.org/api_docs/python/tf/keras/layers/Multiply\n",
    "    # It is the same as the one in Torch\n",
    "#     attention_residual = layers.Multiply([dense_all, dense_att])([add_attention_block, abstract_dense])\n",
    "    attention_residual = layers.Multiply(name='mul_residual')([add_attention_block, abstract_dense])\n",
    "    \n",
    "#     current_line_dense = layers.Dense(64, activation='relu', kernel_initializer=initializer)(abstract_current_line)\n",
    "    current_line_dense = layers.Dense(32, activation='gelu', kernel_initializer=initializer)(abstract_current_line)\n",
    "    current_line_dense = layers.Dropout(0.2)(current_line_dense)\n",
    "\n",
    "    # Concat Streams\n",
    "    streams_concat = layers.Concatenate()([attention_residual,current_line_dense])\n",
    "\n",
    "    # Output Layer\n",
    "#     output_layer = layers.Dense(64, activation='relu', kernel_initializer=initializer)(streams_concat)\n",
    "    output_layer = layers.Dense(64, activation='gelu', kernel_initializer=initializer)(streams_concat)\n",
    "#     output_layer = layers.Dense(8, activation='softmax', kernel_initializer=initializer)(output_layer)\n",
    "    # People use 1, 3, 5 for better results\n",
    "    output_layer = layers.Dense(5, activation='softmax', kernel_initializer=initializer)(output_layer)\n",
    "\n",
    "    return tf.keras.Model(inputs=[abstract_input, \n",
    "                                  abstract_current_line], \n",
    "                          outputs=[output_layer], name=\"use_attention_model\")"
   ]
  },
  {
   "cell_type": "markdown",
   "id": "9393b704",
   "metadata": {},
   "source": [
    "**Before training process, make sure to check the model.**"
   ]
  },
  {
   "cell_type": "code",
   "execution_count": null,
   "id": "36868ca4",
   "metadata": {},
   "outputs": [],
   "source": [
    "# Build model\n",
    "model = build_model()"
   ]
  },
  {
   "cell_type": "code",
   "execution_count": null,
   "id": "02c2377e",
   "metadata": {},
   "outputs": [],
   "source": [
    "model.summary()"
   ]
  },
  {
   "cell_type": "code",
   "execution_count": null,
   "id": "5e4f6824",
   "metadata": {},
   "outputs": [],
   "source": [
    "from tensorflow.keras.utils import plot_model\n",
    "\n",
    "plot_model(model, to_file='model.png')\n"
   ]
  },
  {
   "cell_type": "markdown",
   "id": "b132450b",
   "metadata": {},
   "source": [
    "---\n",
    "\n",
    "In case it is not rendering! Also, run the following on Linux:\n",
    "\n",
    "```bash\n",
    "sudo apt-get install graphviz\n",
    "```\n",
    "\n",
    "---\n",
    "\n",
    "### 3.5 Model Training"
   ]
  },
  {
   "cell_type": "code",
   "execution_count": null,
   "id": "e91f561a",
   "metadata": {},
   "outputs": [],
   "source": [
    "from tensorflow.keras.utils import plot_model\n",
    "from IPython.display import Image\n",
    "\n",
    "plot_model(model, to_file='model.png', show_shapes=True, show_layer_names=True)\n",
    "Image(retina=True, filename='model.png')\n"
   ]
  },
  {
   "cell_type": "code",
   "execution_count": null,
   "id": "b750d00c",
   "metadata": {},
   "outputs": [],
   "source": [
    "%load_ext tensorboard\n",
    "import datetime\n",
    "tensorboard_callback = tf.keras.callbacks.TensorBoard(log_dir='./logs', histogram_freq=1)\n"
   ]
  },
  {
   "cell_type": "code",
   "execution_count": null,
   "id": "17aecc14",
   "metadata": {},
   "outputs": [],
   "source": [
    "def train_model(model, num_epochs, callbacks_list, tf_train_data, \n",
    "                tf_valid_data=None, shuffling=False):\n",
    "    \n",
    "    model_history = {}\n",
    "    \n",
    "    if tf_valid_data != None:\n",
    "        model_history = model.fit(tf_train_data,\n",
    "                                  epochs=num_epochs,\n",
    "                                  validation_data=tf_valid_data,\n",
    "                                  validation_steps=int(len(tf_valid_data)),\n",
    "                                  callbacks=callbacks_list,\n",
    "                                  shuffle=shuffling)\n",
    "        \n",
    "    if tf_valid_data == None:\n",
    "        model_history = model.fit(tf_train_data,\n",
    "                                  epochs=num_epochs,\n",
    "                                  callbacks=callbacks_list,\n",
    "                                  shuffle=shuffling)\n",
    "    return model_history"
   ]
  },
  {
   "cell_type": "markdown",
   "id": "b8229e81",
   "metadata": {},
   "source": [
    "We want to utilize early stopping to find the taper point in the training process.\n",
    "\n",
    "https://machinelearningmastery.com/how-to-stop-training-deep-neural-networks-at-the-right-time-using-early-stopping/\n",
    "\n",
    "https://www.tensorflow.org/api_docs/python/tf/keras/callbacks/EarlyStopping"
   ]
  },
  {
   "cell_type": "code",
   "execution_count": null,
   "id": "dc8496ee",
   "metadata": {},
   "outputs": [],
   "source": [
    "early_stopping_callback = tf.keras.callbacks.EarlyStopping(\n",
    "    monitor='val_loss', \n",
    "    patience=4, \n",
    "    restore_best_weights=True)\n",
    "\n",
    "reduce_lr_callback = tf.keras.callbacks.ReduceLROnPlateau(\n",
    "    monitor='val_loss',\n",
    "    patience=2,\n",
    "    factor=0.1,\n",
    "    verbose=1)\n",
    "\n",
    "EPOCHS = 20\n",
    "CALLBACKS = [early_stopping_callback, reduce_lr_callback, tensorboard_callback]\n",
    "METRICS = ['accuracy']"
   ]
  },
  {
   "cell_type": "markdown",
   "id": "847b87d3",
   "metadata": {},
   "source": [
    "We would also need to set seed, the reason behind can be found at:\n",
    "\n",
    "https://wandb.ai/sauravmaheshkar/RSNA-MICCAI/reports/How-to-Set-Random-Seeds-in-PyTorch-and-Tensorflow--VmlldzoxMDA2MDQy"
   ]
  },
  {
   "cell_type": "code",
   "execution_count": null,
   "id": "afb34db9",
   "metadata": {},
   "outputs": [],
   "source": [
    "# def set_seed(seed: int = 42) -> None:\n",
    "#     np.random.seed(seed)\n",
    "#     random.seed(seed)\n",
    "#     torch.manual_seed(seed)\n",
    "#     torch.cuda.manual_seed(seed)\n",
    "#     # When running on the CuDNN backend, two further options must be set\n",
    "#     torch.backends.cudnn.deterministic = True\n",
    "#     torch.backends.cudnn.benchmark = False\n",
    "#     # Set a fixed value for the hash seed\n",
    "#     os.environ[\"PYTHONHASHSEED\"] = str(seed)\n",
    "#     print(f\"Random seed set as {seed}\")\n"
   ]
  },
  {
   "cell_type": "code",
   "execution_count": null,
   "id": "dce3bd15",
   "metadata": {},
   "outputs": [],
   "source": [
    "# def set_seed(seed: int = 42) -> None:\n",
    "#   random.seed(seed)\n",
    "#   np.random.seed(seed)\n",
    "#   tf.random.set_seed(seed)\n",
    "#   tf.experimental.numpy.random.seed(seed)\n",
    "#   tf.set_random_seed(seed)\n",
    "#   # When running on the CuDNN backend, two further options must be set\n",
    "#   os.environ['TF_CUDNN_DETERMINISTIC'] = '1'\n",
    "#   os.environ['TF_DETERMINISTIC_OPS'] = '1'\n",
    "#   # Set a fixed value for the hash seed\n",
    "#   os.environ[\"PYTHONHASHSEED\"] = str(seed)\n",
    "#   print(f\"Random seed set as {seed}\")\n"
   ]
  },
  {
   "cell_type": "code",
   "execution_count": null,
   "id": "757492fd",
   "metadata": {},
   "outputs": [],
   "source": [
    "tf.random.set_seed(10) # To be honest, I don't know what number we should go for"
   ]
  },
  {
   "cell_type": "code",
   "execution_count": null,
   "id": "30c22fd8",
   "metadata": {},
   "outputs": [],
   "source": [
    "model.compile(\n",
    "    # We use the categorical instead of default binary cross entropy\n",
    "    loss=tf.keras.losses.CategoricalCrossentropy(label_smoothing=0.1),\n",
    "    optimizer=tf.keras.optimizers.Adam(learning_rate=0.001),\n",
    "    metrics=METRICS\n",
    ")\n",
    "\n",
    "print(f'Training {model.name}.')\n",
    "print(f'Train on {train_sentences_count} samples, validate on {val_sentences_count} samples.')\n",
    "print('----------------------------------')\n",
    "\n",
    "model_history = train_model(\n",
    "    model, EPOCHS, CALLBACKS, \n",
    "    train_pipes, val_pipes,\n",
    "    shuffling=False\n",
    ")"
   ]
  },
  {
   "cell_type": "code",
   "execution_count": null,
   "id": "9a33ac7f",
   "metadata": {},
   "outputs": [],
   "source": []
  },
  {
   "cell_type": "code",
   "execution_count": null,
   "id": "a600d093",
   "metadata": {},
   "outputs": [],
   "source": []
  },
  {
   "cell_type": "code",
   "execution_count": null,
   "id": "20e4018a",
   "metadata": {},
   "outputs": [],
   "source": []
  }
 ],
 "metadata": {
  "kernelspec": {
   "display_name": "Python 3 (ipykernel)",
   "language": "python",
   "name": "python3"
  },
  "language_info": {
   "codemirror_mode": {
    "name": "ipython",
    "version": 3
   },
   "file_extension": ".py",
   "mimetype": "text/x-python",
   "name": "python",
   "nbconvert_exporter": "python",
   "pygments_lexer": "ipython3",
   "version": "3.9.16"
  }
 },
 "nbformat": 4,
 "nbformat_minor": 5
}
