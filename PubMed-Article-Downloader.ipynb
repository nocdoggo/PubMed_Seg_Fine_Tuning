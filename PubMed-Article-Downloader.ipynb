{
 "cells": [
  {
   "cell_type": "markdown",
   "id": "b06a8408",
   "metadata": {},
   "source": [
    "---\n",
    "\n",
    "## Easy Approach\n",
    "\n",
    "Using metapub, but the drawback is that summary of the article cannot be easily retrieved."
   ]
  },
  {
   "cell_type": "code",
   "execution_count": 6,
   "id": "9336f0f8",
   "metadata": {},
   "outputs": [],
   "source": [
    "# !pip install metapub"
   ]
  },
  {
   "cell_type": "code",
   "execution_count": 7,
   "id": "b0f8e19f",
   "metadata": {},
   "outputs": [],
   "source": [
    "import pandas as pd\n",
    "from metapub import PubMedFetcher\n",
    "fetch = PubMedFetcher()"
   ]
  },
  {
   "cell_type": "code",
   "execution_count": 8,
   "id": "5fd932e3",
   "metadata": {},
   "outputs": [],
   "source": [
    "keyword = 'diabetes'\n",
    "articles = fetch.pmids_for_query(keyword, retmax=10)  # Adjust retmax as needed to control the number of articles retrieved\n"
   ]
  },
  {
   "cell_type": "code",
   "execution_count": 9,
   "id": "f7422f78",
   "metadata": {},
   "outputs": [
    {
     "data": {
      "text/plain": [
       "['37209023',\n",
       " '37209021',\n",
       " '37208984',\n",
       " '37208981',\n",
       " '37208883',\n",
       " '37208881',\n",
       " '37208873',\n",
       " '37208867',\n",
       " '37208852',\n",
       " '37208842']"
      ]
     },
     "execution_count": 9,
     "metadata": {},
     "output_type": "execute_result"
    }
   ],
   "source": [
    "articles"
   ]
  },
  {
   "cell_type": "code",
   "execution_count": 16,
   "id": "e147eb8f",
   "metadata": {},
   "outputs": [],
   "source": [
    "articles = ['26144594',\n",
    "'29527188',\n",
    "'32082174']"
   ]
  },
  {
   "cell_type": "code",
   "execution_count": 43,
   "id": "80bcd436",
   "metadata": {},
   "outputs": [
    {
     "name": "stdout",
     "output_type": "stream",
     "text": [
      "29527188\n"
     ]
    }
   ],
   "source": [
    "# Initialize lists to hold abstracts and summaries\n",
    "abstracts = []\n",
    "summaries = []\n",
    "\n",
    "# Iterate over each PubMed ID\n",
    "for pmid in articles:\n",
    "    # Fetch the article\n",
    "    article = fetch.article_by_pmid(pmid)\n",
    "    \n",
    "    # Get the abstract and summary of the article\n",
    "    if article is not None:\n",
    "        if article.abstract is not None:\n",
    "            abstracts.append(article.abstract)\n",
    "        else:\n",
    "            print(pmid)\n",
    "        \n",
    "        if article.content is not None:\n",
    "            summaries.append(article.content)\n"
   ]
  },
  {
   "cell_type": "code",
   "execution_count": 44,
   "id": "6b8cb278",
   "metadata": {},
   "outputs": [
    {
     "data": {
      "text/plain": [
       "2"
      ]
     },
     "execution_count": 44,
     "metadata": {},
     "output_type": "execute_result"
    }
   ],
   "source": [
    "len(abstracts)\n"
   ]
  },
  {
   "cell_type": "code",
   "execution_count": 45,
   "id": "c1ac1424",
   "metadata": {
    "scrolled": true
   },
   "outputs": [
    {
     "data": {
      "text/plain": [
       "['AIMS/HYPOTHESIS: Glucagon-like peptide-1 (GLP-1) is an incretin hormone derived from proglucagon, which is released from intestinal L-cells and increases insulin secretion in a glucose dependent manner. GPR119 is a lipid derivative receptor present in L-cells, believed to play a role in the detection of dietary fat. This study aimed to characterize the responses of primary murine L-cells to GPR119 agonism and assess the importance of GPR119 for the detection of ingested lipid.\\nMETHODS: GLP-1 secretion was measured from murine primary cell cultures stimulated with a panel of GPR119 ligands. Plasma GLP-1 levels were measured in mice lacking GPR119 in proglucagon-expressing cells and controls after lipid gavage. Intracellular cAMP responses to GPR119 agonists were measured in single primary L-cells using transgenic mice expressing a cAMP FRET sensor driven by the proglucagon promoter.\\nRESULTS: L-cell specific knockout of GPR119 dramatically decreased plasma GLP-1 levels after a lipid gavage. GPR119 ligands triggered GLP-1 secretion in a GPR119 dependent manner in primary epithelial cultures from the colon, but were less effective in the upper small intestine. GPR119 agonists elevated cAMP in ∼70% of colonic L-cells and 50% of small intestinal L-cells.\\nCONCLUSIONS/INTERPRETATION: GPR119 ligands strongly enhanced GLP-1 release from colonic cultures, reflecting the high proportion of colonic L-cells that exhibited cAMP responses to GPR119 agonists. Less GPR119-dependence could be demonstrated in the upper small intestine. In vivo, GPR119 in L-cells plays a key role in oral lipid-triggered GLP-1 secretion.',\n",
       " 'Although the functions of long noncoding RNA (lncRNA) called FOXD2 adjacent opposite strand RNA 1 (']"
      ]
     },
     "execution_count": 45,
     "metadata": {},
     "output_type": "execute_result"
    }
   ],
   "source": [
    "abstracts"
   ]
  },
  {
   "cell_type": "code",
   "execution_count": 46,
   "id": "b6a5fc8d",
   "metadata": {},
   "outputs": [
    {
     "name": "stdout",
     "output_type": "stream",
     "text": [
      "<Element PubmedArticle at 0x24742592a80>\n"
     ]
    }
   ],
   "source": [
    "print(summaries[0])"
   ]
  },
  {
   "cell_type": "markdown",
   "id": "ada4a03e",
   "metadata": {},
   "source": [
    "---\n",
    "\n",
    "\n",
    "\n",
    "\n",
    "---\n",
    "\n",
    "## Alternative Approach"
   ]
  },
  {
   "cell_type": "code",
   "execution_count": null,
   "id": "364070c6",
   "metadata": {},
   "outputs": [],
   "source": [
    "# !pip install biopython\n"
   ]
  },
  {
   "cell_type": "code",
   "execution_count": null,
   "id": "60ed71a5",
   "metadata": {},
   "outputs": [],
   "source": [
    "from Bio import Entrez\n",
    "\n",
    "Entrez.email = \"noctis@bu.edu\"\n",
    "\n",
    "# Use the 'esearch' function to get the ids of articles that contain the keyword 'diabetes'\n",
    "search_results = Entrez.read(Entrez.esearch(db=\"pubmed\", term=\"diabetes\", retmax=1))\n",
    "\n",
    "idlist = search_results[\"IdList\"]\n",
    "\n",
    "# Use 'efetch' to get the details of the articles\n",
    "fetch_results = Entrez.efetch(db=\"pubmed\", id=idlist, rettype=\"abstract\", retmode=\"text\")\n",
    "\n",
    "# Read the results\n",
    "abstracts = fetch_results.read()\n",
    "\n",
    "print(abstracts)\n"
   ]
  },
  {
   "cell_type": "code",
   "execution_count": null,
   "id": "77238e5b",
   "metadata": {},
   "outputs": [],
   "source": [
    "# Use 'efetch' to get the details of the articles\n",
    "summary_results = Entrez.efetch(db=\"pubmed\", id=idlist, rettype=\"summary\", retmode=\"text\")"
   ]
  },
  {
   "cell_type": "code",
   "execution_count": null,
   "id": "c1ab8e9c",
   "metadata": {},
   "outputs": [],
   "source": [
    "print(summary_results.read())"
   ]
  },
  {
   "cell_type": "code",
   "execution_count": null,
   "id": "2c1ce6d8",
   "metadata": {},
   "outputs": [],
   "source": []
  }
 ],
 "metadata": {
  "kernelspec": {
   "display_name": "Python 3 (ipykernel)",
   "language": "python",
   "name": "python3"
  },
  "language_info": {
   "codemirror_mode": {
    "name": "ipython",
    "version": 3
   },
   "file_extension": ".py",
   "mimetype": "text/x-python",
   "name": "python",
   "nbconvert_exporter": "python",
   "pygments_lexer": "ipython3",
   "version": "3.9.13"
  }
 },
 "nbformat": 4,
 "nbformat_minor": 5
}
