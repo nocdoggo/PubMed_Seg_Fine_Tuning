{
 "cells": [
  {
   "cell_type": "markdown",
   "id": "b06a8408",
   "metadata": {},
   "source": [
    "---\n",
    "\n",
    "## Easy Approach\n",
    "\n",
    "Using metapub, but the drawback is that summary of the article cannot be easily retrieved."
   ]
  },
  {
   "cell_type": "code",
   "execution_count": 1,
   "id": "9336f0f8",
   "metadata": {},
   "outputs": [],
   "source": [
    "# !pip install metapub"
   ]
  },
  {
   "cell_type": "code",
   "execution_count": 2,
   "id": "b0f8e19f",
   "metadata": {},
   "outputs": [
    {
     "name": "stderr",
     "output_type": "stream",
     "text": [
      "2023-05-13 09:49:24 s958 metapub.config[148148] WARNING NCBI_API_KEY was not set.\n"
     ]
    }
   ],
   "source": [
    "import pandas as pd\n",
    "from metapub import PubMedFetcher\n",
    "fetch = PubMedFetcher()"
   ]
  },
  {
   "cell_type": "code",
   "execution_count": 3,
   "id": "5fd932e3",
   "metadata": {},
   "outputs": [],
   "source": [
    "keyword = 'diabetes'\n",
    "articles = fetch.pmids_for_query(keyword, retmax=10)  # Adjust retmax as needed to control the number of articles retrieved\n"
   ]
  },
  {
   "cell_type": "code",
   "execution_count": 4,
   "id": "f7422f78",
   "metadata": {},
   "outputs": [
    {
     "data": {
      "text/plain": [
       "['37172316',\n",
       " '37172216',\n",
       " '37172207',\n",
       " '37172148',\n",
       " '37172142',\n",
       " '37172134',\n",
       " '37172118',\n",
       " '37172093',\n",
       " '37172031',\n",
       " '37171959']"
      ]
     },
     "execution_count": 4,
     "metadata": {},
     "output_type": "execute_result"
    }
   ],
   "source": [
    "articles"
   ]
  },
  {
   "cell_type": "code",
   "execution_count": 5,
   "id": "80bcd436",
   "metadata": {},
   "outputs": [],
   "source": [
    "# Initialize lists to hold abstracts and summaries\n",
    "abstracts = []\n",
    "summaries = []\n",
    "\n",
    "# Iterate over each PubMed ID\n",
    "for pmid in articles:\n",
    "    # Fetch the article\n",
    "    article = fetch.article_by_pmid(pmid)\n",
    "    \n",
    "    # Get the abstract and summary of the article\n",
    "    if article is not None:\n",
    "        if article.abstract is not None:\n",
    "            abstracts.append(article.abstract)\n",
    "        \n",
    "#         if article.summary is not None:\n",
    "#             summaries.append(article.summary)\n"
   ]
  },
  {
   "cell_type": "code",
   "execution_count": 6,
   "id": "6b8cb278",
   "metadata": {},
   "outputs": [
    {
     "data": {
      "text/plain": [
       "['PURPOSE: To evaluate the prevalence and associations of non-cardiac comorbidities (NCC) with in-hospital and post-discharge outcomes in acute heart failure (AHF) across the ejection fraction (EF) spectrum.\\nMETHODS: 9326 AHF patients from ESC-HFA-EORP-HF-Long-Term-Registry had complete information for the following 12 NCCs: anemia, chronic obstructive pulmonary disease (COPD), diabetes, depression, hepatic dysfunction, renal dysfunction, malignancy, Parkinson disease, peripheral vascular disease (PVD), rheumatoid arthritis, sleep apnoea, stroke/TIA(transient ischemic attack). Patients were classified by number of NCCs (0, 1, 2, 3, and ≥4).\\nRESULTS: Of AHF patients, 20.5% had no NCC, 28.5% had 1 NCC, 23.1% had 2 NCC, 15.4% had 3 NCC and 12.5% had ≥4 NCC. In-hospital and post-discharge mortality increased with number of NCCs from 3.0% and 18.5% for 1 NCC to 12.5% and 36% for ≥4 NCCs.Anemia, COPD, PVD, sleep apnoea, rheumatoid arthritis, stroke/TIA, Parkinson and depression were more prevalent in HFpEF. The hazard ratio (95% confidence interval) for post-discharge death for each NCC was for anemia 1.6 (1.4-1.8), diabetes 1.2 (1.1-1.4), kidney dysfunction 1.7 (1.5-1.9), COPD 1.4 (1.2-1.5), PVD 1.2 (1.1-1.4), stroke/TIA 1.3 (1.1-1.5), depression 1.2 (1.0-1.5), haepatic dysfunction 2.1 (1.8-2.5), malignancy 1.5 (1.2-1.8), sleep apnoea 1.2 (0.9-1.7), rheumatoid arthritis 1.5 (1.1-2.1) and Parkinson 1.4 (0.9-2.1). Anemia, kidney dysfunction, COPD and diabetes were associated with post-discharge mortality in all EF categories, PVD, stroke/TIA and depression only in HFrEF and sleep apnoea and malignancy only in HFpEF.\\nCONCLUSION: Multiple NCCs conferred poor in-hospital and post-discharge outcomes. EF categories had different prevalence and risk profile associated with individual NCCs.',\n",
       " 'AIMS: To identify a group of metabolites associated with incident CVD in people with type 2 diabetes and assess its predictive performance over-and-above a current CVD risk score (QRISK3).\\nMETHODS: A panel of 228 serum metabolites was measured at baseline in 1,066 individuals with type 2 diabetes (Edinburgh Type 2 Diabetes Study) who were then followed up for CVD over the subsequent 10 years. We applied 100 repeats of Cox LASSO (least absolute shrinkage and selection operator) to select metabolites with frequency >90% as components for a metabolites-based risk score (MRS). The predictive performance of the MRS was assessed in relation to a reference model which was based on QRISK3 plus prevalent CVD and statin use at baseline.\\nRESULTS: Of 1,021 available individuals, 255 (25.0%) developed CVD (median follow-up: 10.6 years). Twelve metabolites relating to fluid balance, ketone bodies, amino acids, fatty acids, glycolysis and lipoproteins were selected to construct the MRS which showed positive association with 10-year cardiovascular risk following adjustment for traditional risk factors [HR 2.67 (95%CI 1.96, 3.64)]. C-statistic was 0.709 (95%CI 0.679, 0.739) for the reference model alone, increasing slightly to 0.728 (95%CI 0.700, 0.757) following addition of the MRS. Compared with the reference model, the net reclassification index and integrated discrimination index for the reference model plus the MRS was 0.362 (95%CI 0.179, 0.506) and 0.041 (95%CI 0.020, 0.071), respectively.\\nCONCLUSIONS: Metabolomics data might improve predictive performance of current CVD risk scores based on traditional risk factors in people with type 2 diabetes. External validation is warranted to assess the generalizability of improved CVD risk prediction using the MRS.',\n",
       " 'BACKGROUND: Mobile health (mHealth) apps are increasingly used in healthcare to support people with chronic diseases such as diabetes. mHealth acceptance is crucial for using them. Due to acceptance problems, however, mHealth apps are not used by all chronic disease patients. To predict user acceptance, technology acceptance models such as UTAUT2 are used. However, UTAUT2 was not explicitly developed for the mHealth context.\\nOBJECTIVES: This study investigates if additional health-related constructs could increase the predictive power of the UTAUT2 model.\\nMETHODS: A mixed-methods design, comprising an initial qualitative methods triangulation study that consisted of a literature search, expert interviews, and patient interviews, and a subsequent quantitative cross-sectional survey with 413 patients was used.\\nRESULTS: The mixed-methods study revealed and validated two new constructs relevant for predicting mHealth acceptance not represented in the UTAUT2 model: \"perceived disease threat\" and \"trust\".\\nCONCLUSION: The UTAUT2 model was successfully extended by two new constructs relevant to the mHealth context.',\n",
       " 'PURPOSE: The purpose of the study was to investigate visual function and vision-related general health in adults that were born preterm with very low birth weight (VLBW: birth weight\\u2009<\\u20091500\\u2009g) in their 30s-40s.\\nMETHODS: We recruited 137 adults born preterm with VLBW and 158 term-born controls aged 31-43\\u2009years from two birth cohorts: the Helsinki Study of Very Low Birth Weight Adults (Finland) and the NTNU Low Birth Weight in a Lifetime Perspective study (Norway). We used neonatal data and measured refraction, best-corrected visual acuity (BCVA) using the Early Treatment Diabetic Retinopathy Study (ETDRS) chart, contrast sensitivity, visual fields, intraocular pressure (IOP), self-reported vision-targeted health status with the National Eye Institute Visual Function Questionnaire-25.\\nRESULTS: VLBW adults had a lower BCVA ETDRS score than controls: mean (SD) better eye 86.7 (13.4) versus 90.2 (4.4), p\\u2009=\\u20090.02; mean (SD) worse eye 82.3 (14.9) versus 87.6 (4.6), p\\u2009=\\u20090.003. VLBW adults also had lower contrast sensitivity thresholds in several spatial frequencies and scored lower than controls in eight out of the 12 subscales of self-reported vision-targeted health status. Refraction, visual fields and IOP were similar between groups. Two VLBW participants were blind. None had been treated for retinopathy of prematurity.\\nCONCLUSION: We suggest that lower visual function and vision-related health represent life-long consequences of prematurity and VLBW in the studied 31- to 43-year-old cohort. The underlying mechanisms remain to be determined.',\n",
       " 'Type 2 diabetes mellitus (T2DM) is characterized by hyperglycemia due to persistent insulin resistance, resulting in elevated blood glucose levels. Metformin is the most prescribed oral drug for lowering high blood glucose levels in T2DM patients. However, it is poorly absorbed and has low bioavailability. Here, we introduce magnesium-based microstirrers to a metformin-containing pill matrix to enhance the glucose-lowering effect of metformin. The resulting microstirring pill possesses a built-in mixing capability by creating local fluid transport upon interacting with biological fluid to enable fast pill disintegration and drug release along with accelerated metformin delivery. In vivo glucose tolerance testing using a murine model demonstrates that the metformin microstirring pill significantly improves therapeutic efficacy, lowering blood glucose levels after a meal more rapidly compared to a regular metformin pill without active stirring. As a result, the microstirrers allow for dose sparing, providing effective therapeutic efficacy at a lower drug dosage than passive metformin pills. These encouraging results highlight the versatility of this simple yet elegant microstirring pill technology, which enhances drug absorption after gastrointestinal delivery to improve therapeutic efficacy.',\n",
       " 'CASE: A 63-year-old farmer who is a known diabetic and chronic alcoholic presented with lower back pain and neurological weakness of lower limbs present for the past 3 months. His acute phase reactants were very high, and magnetic resonance imaging displayed L4-L5 vertebral involvement with epidural, paravertebral, and bilateral psoas abscesses. Cultures of an ultrasound-guided aspiration from the psoas were positive for Burkholderia pseudomallei, and a nucleic acid amplification test also detected Mycobacterium tuberculosis. He underwent posterior decompression and fixation, and intraoperative biopsy confirmed a granulomatous reaction. He received appropriate antibiotics for both diseases. At 1 year, he showed healing on radiographic imaging, with independent ambulation status.\\nCONCLUSION: The coexistence of melioidosis and tuberculosis is rare, and as far as we know, a case of infective spondylodiscitis has not been reported. In patients with infective spondylodiscitis, every attempt should be made to confirm the diagnosis before starting empirical antitubercular treatment (ATT).',\n",
       " 'This research addresses the assessment of adipose tissue (AT) and spatial distribution of visceral (VAT) and subcutaneous fat (SAT) in the trunk from standardized magnetic resonance imaging at 3 T, thereby demonstrating the feasibility of deep learning (DL)-based image segmentation in a large population-based cohort in Germany (five sites). Volume and distribution of AT play an essential role in the pathogenesis of insulin resistance, a risk factor of developing metabolic/cardiovascular diseases. Cross-validated training of the DL-segmentation model led to a mean Dice similarity coefficient of >0.94, corresponding to a mean absolute volume deviation of about 22 ml. SAT is significantly increased in women compared to men, whereas VAT is increased in males. Spatial distribution shows age- and body mass index-related displacements. DL-based image segmentation provides robust and fast quantification of AT (≈15 s per dataset versus 3 to 4 hours for manual processing) and assessment of its spatial distribution from magnetic resonance images in large cohort studies.',\n",
       " \"INTRODUCTION/OBJECTIVE: Alzheimer's Disease and Other Related Dementias (AD/ADRD) leads to frequent emergency department (ED) and inpatient use. Mental health symptoms among persons with AD/ADRD increases cognitive and functional disabilities and could contribute to these high rates of intensive health care use. The objective of this paper is to assess the relationship of mental illness on 12-month patterns in hospitalization and ED use among Veterans aged 65 and over with a new AD/ADRD diagnosis.\\nMETHODS: We used an existing dataset of administrative electronic health record data of Veterans with AD/ADRD from the US Veterans Health Administration linked with Medicare claims data from 2011-2015. We use multivariable logistic regression to examine the association between no pre-existing mental illness, pre-existing mental illness (e.g., major depressive disorder, generalized anxiety disorder, or post-traumatic stress disorder), and pre-existing severe mental illness-or SMI-(e.g., bipolar disorder, major depressive disorder with psychosis, or schizophrenia) and 12- month ED and hospitalization use and readmissions among Veterans who had an initial hospitalization visit. We estimated predicted probabilities, differential effect, and associated 95% confidence intervals.\\nRESULTS: In our sample, 1.4% had SMI and 11% had non-SMI mental illness. The unadjusted percentage with inpatient and ED use was higher among Veterans with SMI (34% and 26%, respectively) and Veterans with non-SMI mental illness (20%, 16%) compared with Veterans without pre-existing mental illness (12%, 9%). Compared to individuals with no pre-existing mental illness, having a pre-existing mental illness (1.27 percentage points, 95% CI: 0.76, 1.78) and a pre-existing SMI (7.17 percentage points, 95% CI: 5.66, 8.69) were both associated with an increased likelihood of ED use. The same pattern was observed for any inpatient use (mental illness 2.18, 95% CI: 1.59, 2.77; SMI 9.91, 95% CI: 8.21, 11.61). Only pre-existing SMI was associated higher hospitalization readmission.\\nDISCUSSION: Pre-existing mental illness increases use of high cost, intensive health care and this association is higher of more severe mental health conditions. We also show that pre-existing mental illness exerts a unique influence, above and beyond other comorbidities, such as diabetes, on ED and inpatient visits. More needs to be done to increase recognition of the unique risks of this combination of health conditions and encourage strategies to address them. Developing, testing, and implementing comprehensive strategies that address the intersection of ADRD and mental illness is promising approach that requires more focused attention.\",\n",
       " 'Vitamin K is a micronutrient necessary for γ-carboxylation of glutamic acids. This post-translational modification occurs in the endoplasmic reticulum (ER) and affects secreted proteins. Recent clinical studies implicate vitamin K in the pathophysiology of diabetes, but the underlying molecular mechanism remains unknown. Here, we show that mouse β cells lacking γ-carboxylation fail to adapt their insulin secretion in the context of age-related insulin resistance or diet-induced β cell stress. In human islets, γ-carboxylase expression positively correlates with improved insulin secretion in response to glucose. We identify endoplasmic reticulum Gla protein (ERGP) as a γ-carboxylated ER-resident Ca']"
      ]
     },
     "execution_count": 6,
     "metadata": {},
     "output_type": "execute_result"
    }
   ],
   "source": [
    "abstracts\n"
   ]
  },
  {
   "cell_type": "markdown",
   "id": "ada4a03e",
   "metadata": {},
   "source": [
    "---\n",
    "\n",
    "\n",
    "\n",
    "\n",
    "---\n",
    "\n",
    "## Alternative Approach"
   ]
  },
  {
   "cell_type": "code",
   "execution_count": 7,
   "id": "364070c6",
   "metadata": {},
   "outputs": [],
   "source": [
    "# !pip install biopython\n"
   ]
  },
  {
   "cell_type": "code",
   "execution_count": 8,
   "id": "60ed71a5",
   "metadata": {},
   "outputs": [
    {
     "name": "stdout",
     "output_type": "stream",
     "text": [
      "1. Eur J Prev Cardiol. 2023 May 13:zwad151. doi: 10.1093/eurjpc/zwad151. Online \n",
      "ahead of print.\n",
      "\n",
      "Comprehensive Characterization of Non-Cardiac Comorbidities in Acute Heart \n",
      "Failure- an analysis of ESC-HFA EORP Heart Failure Long-Term Registry.\n",
      "\n",
      "Chioncel O(1)(2), Benson L(3), Crespo-Leiro MG(4), Anker SD(5)(6), Coats AJS(7), \n",
      "Filippatos G(8)(9), McDonagh T(10), Margineanu C(1)(2), Mebazaa A(11), Metra \n",
      "M(12), Piepoli MF(13), Adamo M(12), Rosano GMC(14)(15), Ruschitzka F(16), \n",
      "Savarese G(3), Seferovic P(17)(18), Volterrani M(19), Ferrari R(20), Maggioni \n",
      "AP(21), Lund LH(22).\n",
      "\n",
      "Author information:\n",
      "(1)Emergency Institute for Cardiovascular Diseases 'Prof. C.C. Iliescu', \n",
      "Bucharest, Romania.\n",
      "(2)University of Medicine Carol Davila, Bucharest, Romania.\n",
      "(3)Department of Medicine Solna, Karolinska Institutet, Stockholm, Sweden.\n",
      "(4)Cardiology Department Complexo Hospitalario Universitario A Coruna, (CHUAC), \n",
      "CIBERCV, INIBIC, UDC, La Coruna, Spain.\n",
      "(5)Department of Cardiology (CVK), Berlin Institute of Health Center for \n",
      "Regenerative Therapies (BCRT); German Centre for Cardiovascular Research (DZHK) \n",
      "partner site Berlin, Berlin, Germany.\n",
      "(6)Charité Universitätsmedizin, Berlin, Germany.\n",
      "(7)Heart Research Institute, Sydney; Monash University, Australia.\n",
      "(8)University of Athens, Heart Failure Unit, Attikon University Hospital, \n",
      "Athens, Greece.\n",
      "(9)School of Medicine, University of Cyprus, Nicosia, Cyprus.\n",
      "(10)Department of Cardiology, King's College Hospital London, London, UK; School \n",
      "of Cardiovascular Medicine and Sciences, King's College London British Heart \n",
      "Foundation Centre of Excellence, London, UK.\n",
      "(11)University of Paris Diderot, Hôpitaux Universitaires Saint Louis \n",
      "Lariboisière, APHP, Paris, France.\n",
      "(12)Cardiology, Department of Medical and Surgical Specialties, Radiological \n",
      "Sciences, and Public Health, University of Brescia, Brescia, Italy.\n",
      "(13)Cardiology, IRCCS PoliclinicoSan Donato, San Donato Milanese, Milan; \n",
      "Dipartimento di Scienze Biomediche per la Salute, University of Milan, Milan, \n",
      "Italy.\n",
      "(14)St Georges Hospital NHS Trust University of London, Cardiology Clinical \n",
      "Academy Group, London, UK.\n",
      "(15)Department of Medical Sciences, Centre for Clinical and Basic Research IRCCS \n",
      "San Raffaele Pisana, Rome, Italy.\n",
      "(16)Department of Cardiology, University Hospital Zurich, Zurich, Switzerland.\n",
      "(17)Faculty of Medicine, University of Belgrade, Belgrade, Serbia.\n",
      "(18)Serbian Academy of Sciences and Arts, Belgrade, Serbia.\n",
      "(19)San Raffaele Pisana Hospital IRCCS, Rome (Italy).\n",
      "(20)Scientific Department, MTA Group, Lugano, Switzerland.\n",
      "(21)ANMCO Research Centre, Florence, Italy.\n",
      "(22)Karolinska Institute, Department of Medicine, and Karolinska University \n",
      "Hospital, Department of Cardiology.\n",
      "\n",
      "PURPOSE: To evaluate the prevalence and associations of non-cardiac \n",
      "comorbidities (NCC) with in-hospital and post-discharge outcomes in acute heart \n",
      "failure (AHF) across the ejection fraction (EF) spectrum.\n",
      "METHODS: 9326 AHF patients from ESC-HFA-EORP-HF-Long-Term-Registry had complete \n",
      "information for the following 12 NCCs: anemia, chronic obstructive pulmonary \n",
      "disease (COPD), diabetes, depression, hepatic dysfunction, renal dysfunction, \n",
      "malignancy, Parkinson disease, peripheral vascular disease (PVD), rheumatoid \n",
      "arthritis, sleep apnoea, stroke/TIA(transient ischemic attack). Patients were \n",
      "classified by number of NCCs (0, 1, 2, 3, and ≥4).\n",
      "RESULTS: Of AHF patients, 20.5% had no NCC, 28.5% had 1 NCC, 23.1% had 2 NCC, \n",
      "15.4% had 3 NCC and 12.5% had ≥4 NCC. In-hospital and post-discharge mortality \n",
      "increased with number of NCCs from 3.0% and 18.5% for 1 NCC to 12.5% and 36% for \n",
      "≥4 NCCs.Anemia, COPD, PVD, sleep apnoea, rheumatoid arthritis, stroke/TIA, \n",
      "Parkinson and depression were more prevalent in HFpEF. The hazard ratio (95% \n",
      "confidence interval) for post-discharge death for each NCC was for anemia 1.6 \n",
      "(1.4-1.8), diabetes 1.2 (1.1-1.4), kidney dysfunction 1.7 (1.5-1.9), COPD 1.4 \n",
      "(1.2-1.5), PVD 1.2 (1.1-1.4), stroke/TIA 1.3 (1.1-1.5), depression 1.2 \n",
      "(1.0-1.5), haepatic dysfunction 2.1 (1.8-2.5), malignancy 1.5 (1.2-1.8), sleep \n",
      "apnoea 1.2 (0.9-1.7), rheumatoid arthritis 1.5 (1.1-2.1) and Parkinson 1.4 \n",
      "(0.9-2.1). Anemia, kidney dysfunction, COPD and diabetes were associated with \n",
      "post-discharge mortality in all EF categories, PVD, stroke/TIA and depression \n",
      "only in HFrEF and sleep apnoea and malignancy only in HFpEF.\n",
      "CONCLUSION: Multiple NCCs conferred poor in-hospital and post-discharge \n",
      "outcomes. EF categories had different prevalence and risk profile associated \n",
      "with individual NCCs.\n",
      "\n",
      "Plain Language Summary: The current analysis from ESC-HF-LT Registry represents \n",
      "the largest and most comprehensive study in an AHF population with HFrEF, \n",
      "HFmrEF, and HFpEF, on prevalence and association with in-hospital and \n",
      "post-discharge outcomes of a large number of non-cardiac comorbidities. A \n",
      "greater number of non-cardiac comorbidities was associated at admission with \n",
      "older age, preserved EF, more severe NYHA class and longer duration of HF. \n",
      "In-hospital and post-discharge mortality gradually increased with number of \n",
      "non-cardiac comorbidities.The association between each individual comorbidity \n",
      "and post-discharge outcomes varied substantially in AHF patients with HFrEF, \n",
      "HFmrEF and HFpEF, suggesting that a “EF-specific” multidisciplinary approach \n",
      "with distinct comorbidity management programs should be applied in \n",
      "post-discharge phase.\n",
      "\n",
      "© The Author(s) 2023. Published by Oxford University Press on behalf of the \n",
      "European Society of Cardiology. All rights reserved. For permissions, please \n",
      "e-mail: journals.permissions@oup.com.\n",
      "\n",
      "DOI: 10.1093/eurjpc/zwad151\n",
      "PMID: 37172316\n"
     ]
    }
   ],
   "source": [
    "from Bio import Entrez\n",
    "\n",
    "Entrez.email = \"noctis@bu.edu\"\n",
    "\n",
    "# Use the 'esearch' function to get the ids of articles that contain the keyword 'diabetes'\n",
    "search_results = Entrez.read(Entrez.esearch(db=\"pubmed\", term=\"diabetes\", retmax=1))\n",
    "\n",
    "idlist = search_results[\"IdList\"]\n",
    "\n",
    "# Use 'efetch' to get the details of the articles\n",
    "fetch_results = Entrez.efetch(db=\"pubmed\", id=idlist, rettype=\"abstract\", retmode=\"text\")\n",
    "\n",
    "# Read the results\n",
    "abstracts = fetch_results.read()\n",
    "\n",
    "print(abstracts)\n"
   ]
  },
  {
   "cell_type": "code",
   "execution_count": 9,
   "id": "77238e5b",
   "metadata": {},
   "outputs": [],
   "source": [
    "# Use 'efetch' to get the details of the articles\n",
    "summary_results = Entrez.efetch(db=\"pubmed\", id=idlist, rettype=\"summary\", retmode=\"text\")"
   ]
  },
  {
   "cell_type": "code",
   "execution_count": 10,
   "id": "c1ab8e9c",
   "metadata": {},
   "outputs": [
    {
     "name": "stdout",
     "output_type": "stream",
     "text": [
      "\n"
     ]
    }
   ],
   "source": [
    "print(summary_results.read())"
   ]
  },
  {
   "cell_type": "code",
   "execution_count": null,
   "id": "2c1ce6d8",
   "metadata": {},
   "outputs": [],
   "source": []
  }
 ],
 "metadata": {
  "kernelspec": {
   "display_name": "Python 3 (ipykernel)",
   "language": "python",
   "name": "python3"
  },
  "language_info": {
   "codemirror_mode": {
    "name": "ipython",
    "version": 3
   },
   "file_extension": ".py",
   "mimetype": "text/x-python",
   "name": "python",
   "nbconvert_exporter": "python",
   "pygments_lexer": "ipython3",
   "version": "3.8.16"
  }
 },
 "nbformat": 4,
 "nbformat_minor": 5
}
