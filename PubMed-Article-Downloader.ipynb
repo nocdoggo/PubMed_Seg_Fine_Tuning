{
 "cells": [
  {
   "cell_type": "markdown",
   "id": "b06a8408",
   "metadata": {},
   "source": [
    "---\n",
    "\n",
    "## Easy Approach\n",
    "\n",
    "Using metapub, but the drawback is that summary of the article cannot be easily retrieved."
   ]
  },
  {
   "cell_type": "code",
   "execution_count": 1,
   "id": "9336f0f8",
   "metadata": {},
   "outputs": [],
   "source": [
    "# !pip install metapub"
   ]
  },
  {
   "cell_type": "code",
   "execution_count": 2,
   "id": "b0f8e19f",
   "metadata": {},
   "outputs": [
    {
     "name": "stderr",
     "output_type": "stream",
     "text": [
      "C:\\Users\\nkyam\\miniforge3\\lib\\site-packages\\requests\\__init__.py:102: RequestsDependencyWarning: urllib3 (1.26.9) or chardet (5.1.0)/charset_normalizer (2.0.12) doesn't match a supported version!\n",
      "  warnings.warn(\"urllib3 ({}) or chardet ({})/charset_normalizer ({}) doesn't match a supported \"\n",
      "\u001b[32m2023-05-20 13:11:01\u001b[0m \u001b[35mBlade\u001b[0m \u001b[34mmetapub.config[6596]\u001b[0m \u001b[1;30mWARNING\u001b[0m \u001b[33mNCBI_API_KEY was not set.\u001b[0m\n"
     ]
    }
   ],
   "source": [
    "import pandas as pd\n",
    "from metapub import PubMedFetcher\n",
    "fetch = PubMedFetcher()"
   ]
  },
  {
   "cell_type": "code",
   "execution_count": 3,
   "id": "5fd932e3",
   "metadata": {},
   "outputs": [],
   "source": [
    "keyword = 'diabetes'\n",
    "articles = fetch.pmids_for_query(keyword, retmax=10)  # Adjust retmax as needed to control the number of articles retrieved\n"
   ]
  },
  {
   "cell_type": "code",
   "execution_count": 4,
   "id": "f7422f78",
   "metadata": {},
   "outputs": [
    {
     "data": {
      "text/plain": [
       "['37209023',\n",
       " '37209021',\n",
       " '37208984',\n",
       " '37208981',\n",
       " '37208883',\n",
       " '37208881',\n",
       " '37208873',\n",
       " '37208867',\n",
       " '37208852',\n",
       " '37208842']"
      ]
     },
     "execution_count": 4,
     "metadata": {},
     "output_type": "execute_result"
    }
   ],
   "source": [
    "articles"
   ]
  },
  {
   "cell_type": "code",
   "execution_count": 5,
   "id": "af77e820",
   "metadata": {},
   "outputs": [],
   "source": [
    "articles = ['26144594',\n",
    "'29527188',\n",
    "'32082174']"
   ]
  },
  {
   "cell_type": "code",
   "execution_count": 6,
   "id": "80bcd436",
   "metadata": {},
   "outputs": [
    {
     "name": "stdout",
     "output_type": "stream",
     "text": [
      "29527188 Abstract not available.\n"
     ]
    }
   ],
   "source": [
    "# Initialize lists to hold abstracts and summaries\n",
    "abstracts = []\n",
    "summaries = []\n",
    "\n",
    "# Iterate over each PubMed ID\n",
    "for pmid in articles:\n",
    "    # Fetch the article\n",
    "    article = fetch.article_by_pmid(pmid)\n",
    "    \n",
    "    # Get the abstract and summary of the article\n",
    "    if article is not None:\n",
    "        if article.abstract is not None:\n",
    "            abstracts.append(article.abstract)\n",
    "        else:\n",
    "            print(pmid, 'Abstract not available.')\n",
    "        \n",
    "        if article.content is not None:\n",
    "            summaries.append(article.content)\n"
   ]
  },
  {
   "cell_type": "code",
   "execution_count": 7,
   "id": "6b8cb278",
   "metadata": {},
   "outputs": [
    {
     "data": {
      "text/plain": [
       "2"
      ]
     },
     "execution_count": 7,
     "metadata": {},
     "output_type": "execute_result"
    }
   ],
   "source": [
    "len(abstracts)\n"
   ]
  },
  {
   "cell_type": "code",
   "execution_count": 8,
   "id": "0f7dda84",
   "metadata": {
    "scrolled": true
   },
   "outputs": [
    {
     "data": {
      "text/plain": [
       "['AIMS/HYPOTHESIS: Glucagon-like peptide-1 (GLP-1) is an incretin hormone derived from proglucagon, which is released from intestinal L-cells and increases insulin secretion in a glucose dependent manner. GPR119 is a lipid derivative receptor present in L-cells, believed to play a role in the detection of dietary fat. This study aimed to characterize the responses of primary murine L-cells to GPR119 agonism and assess the importance of GPR119 for the detection of ingested lipid.\\nMETHODS: GLP-1 secretion was measured from murine primary cell cultures stimulated with a panel of GPR119 ligands. Plasma GLP-1 levels were measured in mice lacking GPR119 in proglucagon-expressing cells and controls after lipid gavage. Intracellular cAMP responses to GPR119 agonists were measured in single primary L-cells using transgenic mice expressing a cAMP FRET sensor driven by the proglucagon promoter.\\nRESULTS: L-cell specific knockout of GPR119 dramatically decreased plasma GLP-1 levels after a lipid gavage. GPR119 ligands triggered GLP-1 secretion in a GPR119 dependent manner in primary epithelial cultures from the colon, but were less effective in the upper small intestine. GPR119 agonists elevated cAMP in ∼70% of colonic L-cells and 50% of small intestinal L-cells.\\nCONCLUSIONS/INTERPRETATION: GPR119 ligands strongly enhanced GLP-1 release from colonic cultures, reflecting the high proportion of colonic L-cells that exhibited cAMP responses to GPR119 agonists. Less GPR119-dependence could be demonstrated in the upper small intestine. In vivo, GPR119 in L-cells plays a key role in oral lipid-triggered GLP-1 secretion.',\n",
       " 'Although the functions of long noncoding RNA (lncRNA) called FOXD2 adjacent opposite strand RNA 1 (']"
      ]
     },
     "execution_count": 8,
     "metadata": {},
     "output_type": "execute_result"
    }
   ],
   "source": [
    "abstracts"
   ]
  },
  {
   "cell_type": "code",
   "execution_count": 9,
   "id": "1795747e",
   "metadata": {},
   "outputs": [
    {
     "name": "stdout",
     "output_type": "stream",
     "text": [
      "<Element PubmedArticle at 0x223f2dedf40>\n"
     ]
    }
   ],
   "source": [
    "print(summaries[0])"
   ]
  },
  {
   "cell_type": "markdown",
   "id": "ada4a03e",
   "metadata": {},
   "source": [
    "---\n",
    "\n",
    "\n",
    "\n",
    "\n",
    "---\n",
    "\n",
    "## Alternative Approach"
   ]
  },
  {
   "cell_type": "code",
   "execution_count": 10,
   "id": "364070c6",
   "metadata": {},
   "outputs": [],
   "source": [
    "# !pip install biopython\n"
   ]
  },
  {
   "cell_type": "code",
   "execution_count": 11,
   "id": "60ed71a5",
   "metadata": {},
   "outputs": [
    {
     "ename": "ModuleNotFoundError",
     "evalue": "No module named 'Bio'",
     "output_type": "error",
     "traceback": [
      "\u001b[1;31m---------------------------------------------------------------------------\u001b[0m",
      "\u001b[1;31mModuleNotFoundError\u001b[0m                       Traceback (most recent call last)",
      "Input \u001b[1;32mIn [11]\u001b[0m, in \u001b[0;36m<cell line: 1>\u001b[1;34m()\u001b[0m\n\u001b[1;32m----> 1\u001b[0m \u001b[38;5;28;01mfrom\u001b[39;00m \u001b[38;5;21;01mBio\u001b[39;00m \u001b[38;5;28;01mimport\u001b[39;00m Entrez\n\u001b[0;32m      3\u001b[0m Entrez\u001b[38;5;241m.\u001b[39memail \u001b[38;5;241m=\u001b[39m \u001b[38;5;124m\"\u001b[39m\u001b[38;5;124mnoctis@bu.edu\u001b[39m\u001b[38;5;124m\"\u001b[39m\n\u001b[0;32m      5\u001b[0m \u001b[38;5;66;03m# Use the 'esearch' function to get the ids of articles that contain the keyword 'diabetes'\u001b[39;00m\n",
      "\u001b[1;31mModuleNotFoundError\u001b[0m: No module named 'Bio'"
     ]
    }
   ],
   "source": [
    "from Bio import Entrez\n",
    "\n",
    "Entrez.email = \"noctis@bu.edu\"\n",
    "\n",
    "# Use the 'esearch' function to get the ids of articles that contain the keyword 'diabetes'\n",
    "search_results = Entrez.read(Entrez.esearch(db=\"pubmed\", term=\"diabetes\", retmax=1))\n",
    "\n",
    "idlist = search_results[\"IdList\"]\n",
    "\n",
    "# Use 'efetch' to get the details of the articles\n",
    "fetch_results = Entrez.efetch(db=\"pubmed\", id=idlist, rettype=\"abstract\", retmode=\"text\")\n",
    "\n",
    "# Read the results\n",
    "abstracts = fetch_results.read()\n",
    "\n",
    "print(abstracts)\n"
   ]
  },
  {
   "cell_type": "code",
   "execution_count": null,
   "id": "77238e5b",
   "metadata": {},
   "outputs": [],
   "source": [
    "# Use 'efetch' to get the details of the articles\n",
    "summary_results = Entrez.efetch(db=\"pubmed\", id=idlist, rettype=\"summary\", retmode=\"text\")"
   ]
  },
  {
   "cell_type": "code",
   "execution_count": null,
   "id": "c1ab8e9c",
   "metadata": {},
   "outputs": [],
   "source": [
    "print(summary_results.read())"
   ]
  },
  {
   "cell_type": "code",
   "execution_count": null,
   "id": "2c1ce6d8",
   "metadata": {},
   "outputs": [],
   "source": []
  }
 ],
 "metadata": {
  "kernelspec": {
   "display_name": "Python 3 (ipykernel)",
   "language": "python",
   "name": "python3"
  },
  "language_info": {
   "codemirror_mode": {
    "name": "ipython",
    "version": 3
   },
   "file_extension": ".py",
   "mimetype": "text/x-python",
   "name": "python",
   "nbconvert_exporter": "python",
   "pygments_lexer": "ipython3",
   "version": "3.9.16"
  }
 },
 "nbformat": 4,
 "nbformat_minor": 5
}
