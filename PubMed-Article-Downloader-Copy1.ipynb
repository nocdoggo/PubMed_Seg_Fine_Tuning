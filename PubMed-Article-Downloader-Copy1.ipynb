{
 "cells": [
  {
   "cell_type": "markdown",
   "id": "b06a8408",
   "metadata": {},
   "source": [
    "---\n",
    "\n",
    "## Easy Approach\n",
    "\n",
    "Using metapub, but the drawback is that summary of the article cannot be easily retrieved."
   ]
  },
  {
   "cell_type": "code",
   "execution_count": 1,
   "id": "9336f0f8",
   "metadata": {},
   "outputs": [],
   "source": [
    "# !pip install metapub"
   ]
  },
  {
   "cell_type": "code",
   "execution_count": 2,
   "id": "b0f8e19f",
   "metadata": {},
   "outputs": [
    {
     "name": "stderr",
     "output_type": "stream",
     "text": [
      "C:\\Users\\nkyam\\miniforge3\\lib\\site-packages\\requests\\__init__.py:102: RequestsDependencyWarning: urllib3 (1.26.9) or chardet (5.1.0)/charset_normalizer (2.0.12) doesn't match a supported version!\n",
      "  warnings.warn(\"urllib3 ({}) or chardet ({})/charset_normalizer ({}) doesn't match a supported \"\n",
      "\u001b[32m2023-05-20 13:11:01\u001b[0m \u001b[35mBlade\u001b[0m \u001b[34mmetapub.config[6596]\u001b[0m \u001b[1;30mWARNING\u001b[0m \u001b[33mNCBI_API_KEY was not set.\u001b[0m\n"
     ]
    }
   ],
   "source": [
    "import pandas as pd\n",
    "from metapub import PubMedFetcher\n",
    "fetch = PubMedFetcher()"
   ]
  },
  {
   "cell_type": "code",
   "execution_count": 3,
   "id": "5fd932e3",
   "metadata": {},
   "outputs": [],
   "source": [
    "keyword = 'diabetes'\n",
    "articles = fetch.pmids_for_query(keyword, retmax=10)  # Adjust retmax as needed to control the number of articles retrieved\n"
   ]
  },
  {
   "cell_type": "code",
   "execution_count": 4,
   "id": "f7422f78",
   "metadata": {},
   "outputs": [
    {
     "data": {
      "text/plain": [
       "['37209023',\n",
       " '37209021',\n",
       " '37208984',\n",
       " '37208981',\n",
       " '37208883',\n",
       " '37208881',\n",
       " '37208873',\n",
       " '37208867',\n",
       " '37208852',\n",
       " '37208842']"
      ]
     },
     "execution_count": 4,
     "metadata": {},
     "output_type": "execute_result"
    }
   ],
   "source": [
    "articles"
   ]
  },
  {
   "cell_type": "code",
   "execution_count": 5,
   "id": "af77e820",
   "metadata": {},
   "outputs": [],
   "source": [
    "articles = ['26144594',\n",
    "'29527188',\n",
    "'32082174']"
   ]
  },
  {
   "cell_type": "code",
   "execution_count": 6,
   "id": "80bcd436",
   "metadata": {},
   "outputs": [
    {
     "name": "stdout",
     "output_type": "stream",
     "text": [
      "29527188 Abstract not available.\n"
     ]
    }
   ],
   "source": [
    "# Initialize lists to hold abstracts and summaries\n",
    "abstracts = []\n",
    "summaries = []\n",
    "\n",
    "# Iterate over each PubMed ID\n",
    "for pmid in articles:\n",
    "    # Fetch the article\n",
    "    article = fetch.article_by_pmid(pmid)\n",
    "    \n",
    "    # Get the abstract and summary of the article\n",
    "    if article is not None:\n",
    "        if article.abstract is not None:\n",
    "            abstracts.append(article.abstract)\n",
    "        else:\n",
    "            print(pmid, 'Abstract not available.')\n",
    "        \n",
    "        if article.content is not None:\n",
    "            summaries.append(article.content)\n"
   ]
  },
  {
   "cell_type": "code",
   "execution_count": 7,
   "id": "6b8cb278",
   "metadata": {},
   "outputs": [
    {
     "data": {
      "text/plain": [
       "2"
      ]
     },
     "execution_count": 7,
     "metadata": {},
     "output_type": "execute_result"
    }
   ],
   "source": [
    "len(abstracts)\n"
   ]
  },
  {
   "cell_type": "code",
   "execution_count": 8,
   "id": "0f7dda84",
   "metadata": {
    "scrolled": true
   },
   "outputs": [
    {
     "data": {
      "text/plain": [
       "['AIMS/HYPOTHESIS: Glucagon-like peptide-1 (GLP-1) is an incretin hormone derived from proglucagon, which is released from intestinal L-cells and increases insulin secretion in a glucose dependent manner. GPR119 is a lipid derivative receptor present in L-cells, believed to play a role in the detection of dietary fat. This study aimed to characterize the responses of primary murine L-cells to GPR119 agonism and assess the importance of GPR119 for the detection of ingested lipid.\\nMETHODS: GLP-1 secretion was measured from murine primary cell cultures stimulated with a panel of GPR119 ligands. Plasma GLP-1 levels were measured in mice lacking GPR119 in proglucagon-expressing cells and controls after lipid gavage. Intracellular cAMP responses to GPR119 agonists were measured in single primary L-cells using transgenic mice expressing a cAMP FRET sensor driven by the proglucagon promoter.\\nRESULTS: L-cell specific knockout of GPR119 dramatically decreased plasma GLP-1 levels after a lipid gavage. GPR119 ligands triggered GLP-1 secretion in a GPR119 dependent manner in primary epithelial cultures from the colon, but were less effective in the upper small intestine. GPR119 agonists elevated cAMP in ∼70% of colonic L-cells and 50% of small intestinal L-cells.\\nCONCLUSIONS/INTERPRETATION: GPR119 ligands strongly enhanced GLP-1 release from colonic cultures, reflecting the high proportion of colonic L-cells that exhibited cAMP responses to GPR119 agonists. Less GPR119-dependence could be demonstrated in the upper small intestine. In vivo, GPR119 in L-cells plays a key role in oral lipid-triggered GLP-1 secretion.',\n",
       " 'Although the functions of long noncoding RNA (lncRNA) called FOXD2 adjacent opposite strand RNA 1 (']"
      ]
     },
     "execution_count": 8,
     "metadata": {},
     "output_type": "execute_result"
    }
   ],
   "source": [
    "abstracts"
   ]
  },
  {
   "cell_type": "code",
   "execution_count": 9,
   "id": "1795747e",
   "metadata": {},
   "outputs": [
    {
     "name": "stdout",
     "output_type": "stream",
     "text": [
      "<Element PubmedArticle at 0x223f2dedf40>\n"
     ]
    }
   ],
   "source": [
    "print(summaries[0])"
   ]
  },
  {
   "cell_type": "markdown",
   "id": "ada4a03e",
   "metadata": {},
   "source": [
    "---\n",
    "\n",
    "\n",
    "\n",
    "\n",
    "---\n",
    "\n",
    "## Alternative Approach"
   ]
  },
  {
   "cell_type": "code",
   "execution_count": 10,
   "id": "364070c6",
   "metadata": {},
   "outputs": [],
   "source": [
    "# !pip install biopython\n"
   ]
  },
  {
   "cell_type": "code",
   "execution_count": 11,
   "id": "60ed71a5",
   "metadata": {},
   "outputs": [
    {
     "ename": "ModuleNotFoundError",
     "evalue": "No module named 'Bio'",
     "output_type": "error",
     "traceback": [
      "\u001b[1;31m---------------------------------------------------------------------------\u001b[0m",
      "\u001b[1;31mModuleNotFoundError\u001b[0m                       Traceback (most recent call last)",
      "Input \u001b[1;32mIn [11]\u001b[0m, in \u001b[0;36m<cell line: 1>\u001b[1;34m()\u001b[0m\n\u001b[1;32m----> 1\u001b[0m \u001b[38;5;28;01mfrom\u001b[39;00m \u001b[38;5;21;01mBio\u001b[39;00m \u001b[38;5;28;01mimport\u001b[39;00m Entrez\n\u001b[0;32m      3\u001b[0m Entrez\u001b[38;5;241m.\u001b[39memail \u001b[38;5;241m=\u001b[39m \u001b[38;5;124m\"\u001b[39m\u001b[38;5;124mnoctis@bu.edu\u001b[39m\u001b[38;5;124m\"\u001b[39m\n\u001b[0;32m      5\u001b[0m \u001b[38;5;66;03m# Use the 'esearch' function to get the ids of articles that contain the keyword 'diabetes'\u001b[39;00m\n",
      "\u001b[1;31mModuleNotFoundError\u001b[0m: No module named 'Bio'"
     ]
    }
   ],
   "source": [
    "from Bio import Entrez\n",
    "\n",
    "Entrez.email = \"noctis@bu.edu\"\n",
    "\n",
    "# Use the 'esearch' function to get the ids of articles that contain the keyword 'diabetes'\n",
    "search_results = Entrez.read(Entrez.esearch(db=\"pubmed\", term=\"diabetes\", retmax=1))\n",
    "\n",
    "idlist = search_results[\"IdList\"]\n",
    "\n",
    "# Use 'efetch' to get the details of the articles\n",
    "fetch_results = Entrez.efetch(db=\"pubmed\", id=idlist, rettype=\"abstract\", retmode=\"text\")\n",
    "\n",
    "# Read the results\n",
    "abstracts = fetch_results.read()\n",
    "\n",
    "print(abstracts)\n"
   ]
  },
  {
   "cell_type": "code",
   "execution_count": null,
   "id": "77238e5b",
   "metadata": {},
   "outputs": [],
   "source": [
    "# Use 'efetch' to get the details of the articles\n",
    "summary_results = Entrez.efetch(db=\"pubmed\", id=idlist, rettype=\"summary\", retmode=\"text\")"
   ]
  },
  {
   "cell_type": "code",
   "execution_count": null,
   "id": "c1ab8e9c",
   "metadata": {},
   "outputs": [],
   "source": [
    "print(summary_results.read())"
   ]
  },
  {
   "cell_type": "code",
   "execution_count": null,
   "id": "2c1ce6d8",
   "metadata": {},
   "outputs": [],
   "source": []
  },
  {
   "cell_type": "markdown",
   "id": "1d64040d",
   "metadata": {},
   "source": [
    "-----"
   ]
  },
  {
   "cell_type": "markdown",
   "id": "3fab72b0",
   "metadata": {},
   "source": [
    "https://github.com/BlueBrain/Search/issues/460"
   ]
  },
  {
   "cell_type": "code",
   "execution_count": 1,
   "id": "6880a954",
   "metadata": {},
   "outputs": [],
   "source": [
    "import csv\n",
    "import re\n",
    "import urllib\n",
    "from time import sleep"
   ]
  },
  {
   "cell_type": "code",
   "execution_count": 2,
   "id": "87d90d5c",
   "metadata": {},
   "outputs": [],
   "source": [
    "query = 'cancer'\n",
    "\n",
    "# common settings between esearch and efetch\n",
    "base_url = 'http://eutils.ncbi.nlm.nih.gov/entrez/eutils/'\n",
    "db = 'db=pubmed'\n",
    "\n",
    "# esearch specific settings\n",
    "search_eutil = 'esearch.fcgi?'\n",
    "search_term = '&term=' + query\n",
    "search_usehistory = '&usehistory=y'\n",
    "search_rettype = '&rettype=json'"
   ]
  },
  {
   "cell_type": "code",
   "execution_count": 3,
   "id": "3301388f",
   "metadata": {},
   "outputs": [
    {
     "name": "stdout",
     "output_type": "stream",
     "text": [
      "http://eutils.ncbi.nlm.nih.gov/entrez/eutils/esearch.fcgi?db=pubmed&term=cancer&usehistory=y&rettype=json\n"
     ]
    }
   ],
   "source": [
    "search_url = base_url+search_eutil+db+search_term+search_usehistory+search_rettype\n",
    "print(search_url)"
   ]
  },
  {
   "cell_type": "code",
   "execution_count": 4,
   "id": "00a38b75",
   "metadata": {},
   "outputs": [],
   "source": [
    "f = urllib.request.urlopen(search_url)\n",
    "search_data = f.read().decode('utf-8')"
   ]
  },
  {
   "cell_type": "code",
   "execution_count": null,
   "id": "861d7786",
   "metadata": {},
   "outputs": [],
   "source": []
  },
  {
   "cell_type": "markdown",
   "id": "6ed36285",
   "metadata": {},
   "source": [
    "Quick inspection on what we got:"
   ]
  },
  {
   "cell_type": "code",
   "execution_count": 5,
   "id": "85079cd0",
   "metadata": {},
   "outputs": [
    {
     "data": {
      "text/plain": [
       "'<?xml version=\"1.0\" encoding=\"UTF-8\" ?>\\n<!DOCTYPE eSearchResult PUBLIC \"-//NLM//DTD esearch 20060628//EN\" \"https://eutils.ncbi.nlm.nih.gov/eutils/dtd/20060628/esearch.dtd\">\\n<eSearchResult><Count>4879606</Count><RetMax>20</RetMax><RetStart>0</RetStart><QueryKey>1</QueryKey><WebEnv>MCID_648da6d6bdac8b45df3f7297</WebEnv><IdList>\\n<Id>37328917</Id>\\n<Id>37328908</Id>\\n<Id>37328902</Id>\\n<Id>37328893</Id>\\n<Id>37328890</Id>\\n<Id>37328883</Id>\\n<Id>37328880</Id>\\n<Id>37328876</Id>\\n<Id>37328875</Id>\\n<Id>37328872</Id>\\n<Id>37328860</Id>\\n<Id>37328857</Id>\\n<Id>37328854</Id>\\n<Id>37328852</Id>\\n<Id>37328851</Id>\\n<Id>37328842</Id>\\n<Id>37328838</Id>\\n<Id>37328835</Id>\\n<Id>37328828</Id>\\n<Id>37328826</Id>\\n</IdList><TranslationSet><Translation>     <From>cancer</From>     <To>\"cancer\\'s\"[All Fields] OR \"cancerated\"[All Fields] OR \"canceration\"[All Fields] OR \"cancerization\"[All Fields] OR \"cancerized\"[All Fields] OR \"cancerous\"[All Fields] OR \"neoplasms\"[MeSH Terms] OR \"neoplasms\"[All Fields] OR \"cancer\"[All Fields] OR \"cancers\"[All Fields]</To>    </Translation></TranslationSet><QueryTranslation>\"cancer s\"[All Fields] OR \"cancerated\"[All Fields] OR \"canceration\"[All Fields] OR \"cancerization\"[All Fields] OR \"cancerized\"[All Fields] OR \"cancerous\"[All Fields] OR \"neoplasms\"[MeSH Terms] OR \"neoplasms\"[All Fields] OR \"cancer\"[All Fields] OR \"cancers\"[All Fields]</QueryTranslation></eSearchResult>\\n'"
      ]
     },
     "execution_count": 5,
     "metadata": {},
     "output_type": "execute_result"
    }
   ],
   "source": [
    "search_data"
   ]
  },
  {
   "cell_type": "code",
   "execution_count": 6,
   "id": "d4feb3e6",
   "metadata": {},
   "outputs": [],
   "source": [
    "# obtain total abstract count\n",
    "total_abstract_count = int(re.findall(\"<Count>(\\d+?)</Count>\",search_data)[0])\n",
    "\n",
    "# obtain webenv and querykey settings for efetch command\n",
    "fetch_webenv = \"&WebEnv=\" + re.findall (\"<WebEnv>(\\S+)<\\/WebEnv>\", search_data)[0]\n",
    "fetch_querykey = \"&query_key=\" + re.findall(\"<QueryKey>(\\d+?)</QueryKey>\",search_data)[0]"
   ]
  },
  {
   "cell_type": "code",
   "execution_count": 7,
   "id": "96e8f217",
   "metadata": {},
   "outputs": [
    {
     "data": {
      "text/plain": [
       "4879606"
      ]
     },
     "execution_count": 7,
     "metadata": {},
     "output_type": "execute_result"
    }
   ],
   "source": [
    "total_abstract_count"
   ]
  },
  {
   "cell_type": "code",
   "execution_count": 8,
   "id": "5c0d6f4e",
   "metadata": {},
   "outputs": [
    {
     "data": {
      "text/plain": [
       "'&WebEnv=MCID_648da6d6bdac8b45df3f7297'"
      ]
     },
     "execution_count": 8,
     "metadata": {},
     "output_type": "execute_result"
    }
   ],
   "source": [
    "fetch_webenv"
   ]
  },
  {
   "cell_type": "code",
   "execution_count": 9,
   "id": "aa948237",
   "metadata": {},
   "outputs": [
    {
     "data": {
      "text/plain": [
       "'&query_key=1'"
      ]
     },
     "execution_count": 9,
     "metadata": {},
     "output_type": "execute_result"
    }
   ],
   "source": [
    "fetch_querykey"
   ]
  },
  {
   "cell_type": "code",
   "execution_count": 10,
   "id": "d552a4b6",
   "metadata": {},
   "outputs": [],
   "source": [
    "# other efetch settings\n",
    "fetch_eutil = 'efetch.fcgi?'\n",
    "retmax = 100\n",
    "retstart = 0\n",
    "fetch_retstart = \"&retstart=\" + str(retstart)\n",
    "fetch_retmax = \"&retmax=\" + str(retmax)\n",
    "fetch_retmode = \"&retmode=text\"\n",
    "fetch_rettype = \"&rettype=abstract\""
   ]
  },
  {
   "cell_type": "code",
   "execution_count": 11,
   "id": "bb6e1acd",
   "metadata": {},
   "outputs": [
    {
     "name": "stdout",
     "output_type": "stream",
     "text": [
      "http://eutils.ncbi.nlm.nih.gov/entrez/eutils/efetch.fcgi?db=pubmed&query_key=1&WebEnv=MCID_648da6d6bdac8b45df3f7297&retstart=0&retmax=100&retmode=text&rettype=abstract\n"
     ]
    }
   ],
   "source": [
    "fetch_url = base_url+fetch_eutil+db+fetch_querykey+fetch_webenv+fetch_retstart+fetch_retmax+fetch_retmode+fetch_rettype\n",
    "print(fetch_url)"
   ]
  },
  {
   "cell_type": "code",
   "execution_count": 12,
   "id": "4478e297",
   "metadata": {},
   "outputs": [],
   "source": [
    "f = urllib.request.urlopen(fetch_url)\n",
    "fetch_data = f.read().decode('utf-8')"
   ]
  },
  {
   "cell_type": "code",
   "execution_count": 13,
   "id": "aff38c3f",
   "metadata": {},
   "outputs": [
    {
     "data": {
      "text/plain": [
       "\". J Genet Couns. 2023 Jun 16. doi: 10.1002/jgc4.1738. Online ahead of print.\\n\\nInterventions to support decision making in people considering germline genetic \\ntesting for BRCA 1/2 pathogenic and likely pathogenic variants: A scoping \\nreview.\\n\\nPozzar RA(1), Seven M(2).\\n\\nAuthor information:\\n(1)Phyllis F. Cantor Center for Research in Nursing and Patient Care Services, \\nDana-Farber Cancer Institute, Boston, Massachusetts, USA.\\n(2)Elaine Marieb College of Nursing, University of Massachusetts, Amherst, \\nMassachusetts, USA.\\n\\nPathogenic and likely pathogenic variants in BRCA1 and BRCA2 (BRCA1/2) are \\nmedically actionable and may inform hereditary breast and ovarian cancer (HBOC) \\ntreatment and prevention. However, rates of germline genetic testing (GT) in \\npeople with and without cancer are suboptimal. Individuals' knowledge, \\nattitudes, and beliefs may influence GT decisions. While genetic counseling (GC) \\nprovides decision support, the supply of genetic counselors is insufficient to \\nmeet demand. Accordingly, there is a need to explore the evidence on \\ninterventions that aim to support BRCA1/2 testing decisions. We conducted a \\nscoping review of PubMed, CINAHL, Web of Science, and PsycINFO using search \\nterms related to HBOC, GT, and decision making. First, we screened records to \\nidentify peer-reviewed reports that described interventions to support BRCA1/2 \\ntesting decisions. Next, we reviewed full-text reports and excluded studies that \\nlacked statistical comparisons or enrolled previously tested individuals. \\nFinally, we extracted study characteristics and findings into a table. All \\nrecords and reports were reviewed independently by two authors; decisions were \\ntracked in Rayyan, and discrepancies were resolved through discussion. Of 2116 \\nunique citations, 25 met the eligibility criteria. Articles were published \\nbetween 1997 and 2021 and described randomized trials and nonrandomized, \\nquasi-experimental studies. Most studies tested technology-based (12/25, 48%) or \\nwritten (9/25, 36%) interventions. Nearly half (12/25, 48%) of interventions \\nwere designed to complement traditional GC. Of the interventions compared to GC, \\n75% (6/8) increased or had a noninferior effect on knowledge, and 67% (4/6) \\ndecreased or had a noninferior effect on decisional conflict. Intervention \\neffects on GT uptake were mixed, which may reflect evolving eligibility criteria \\nfor GT. Our findings suggest novel interventions may promote informed GT \\ndecision making, but many were developed to complement traditional GC. Trials \\nthat assess the effects of decision support interventions in diverse samples and \\nevaluate implementation strategies for efficacious interventions are warranted.\\n\\n© 2023 National Society of Genetic Counselors.\\n\\nDOI: 10.1002/jgc4.1738\\nPMID: 37328917\\n\\n\\n2. Hum Genomics. 2023 Jun 16;17(1):53. doi: 10.1186/s40246-023-00482-8.\\n\\nEvaluation of a genetic risk score computed using human chromosomal-scale length \\nvariation to predict breast cancer.\\n\\nKo C(1\""
      ]
     },
     "execution_count": 13,
     "metadata": {},
     "output_type": "execute_result"
    }
   ],
   "source": [
    "fetch_data[1:3000]"
   ]
  },
  {
   "cell_type": "code",
   "execution_count": 14,
   "id": "1c151963",
   "metadata": {},
   "outputs": [
    {
     "data": {
      "text/plain": [
       "99"
      ]
     },
     "execution_count": 14,
     "metadata": {},
     "output_type": "execute_result"
    }
   ],
   "source": [
    "# splits the data into individual abstracts\n",
    "abstracts = fetch_data.split(\"\\n\\n\\n\")\n",
    "len(abstracts)"
   ]
  },
  {
   "cell_type": "code",
   "execution_count": 15,
   "id": "4b36ab34",
   "metadata": {},
   "outputs": [
    {
     "data": {
      "text/plain": [
       "\"1. J Genet Couns. 2023 Jun 16. doi: 10.1002/jgc4.1738. Online ahead of print.\\n\\nInterventions to support decision making in people considering germline genetic \\ntesting for BRCA 1/2 pathogenic and likely pathogenic variants: A scoping \\nreview.\\n\\nPozzar RA(1), Seven M(2).\\n\\nAuthor information:\\n(1)Phyllis F. Cantor Center for Research in Nursing and Patient Care Services, \\nDana-Farber Cancer Institute, Boston, Massachusetts, USA.\\n(2)Elaine Marieb College of Nursing, University of Massachusetts, Amherst, \\nMassachusetts, USA.\\n\\nPathogenic and likely pathogenic variants in BRCA1 and BRCA2 (BRCA1/2) are \\nmedically actionable and may inform hereditary breast and ovarian cancer (HBOC) \\ntreatment and prevention. However, rates of germline genetic testing (GT) in \\npeople with and without cancer are suboptimal. Individuals' knowledge, \\nattitudes, and beliefs may influence GT decisions. While genetic counseling (GC) \\nprovides decision support, the supply of genetic counselors is insufficient to \\nmeet demand. Accordingly, there is a need to explore the evidence on \\ninterventions that aim to support BRCA1/2 testing decisions. We conducted a \\nscoping review of PubMed, CINAHL, Web of Science, and PsycINFO using search \\nterms related to HBOC, GT, and decision making. First, we screened records to \\nidentify peer-reviewed reports that described interventions to support BRCA1/2 \\ntesting decisions. Next, we reviewed full-text reports and excluded studies that \\nlacked statistical comparisons or enrolled previously tested individuals. \\nFinally, we extracted study characteristics and findings into a table. All \\nrecords and reports were reviewed independently by two authors; decisions were \\ntracked in Rayyan, and discrepancies were resolved through discussion. Of 2116 \\nunique citations, 25 met the eligibility criteria. Articles were published \\nbetween 1997 and 2021 and described randomized trials and nonrandomized, \\nquasi-experimental studies. Most studies tested technology-based (12/25, 48%) or \\nwritten (9/25, 36%) interventions. Nearly half (12/25, 48%) of interventions \\nwere designed to complement traditional GC. Of the interventions compared to GC, \\n75% (6/8) increased or had a noninferior effect on knowledge, and 67% (4/6) \\ndecreased or had a noninferior effect on decisional conflict. Intervention \\neffects on GT uptake were mixed, which may reflect evolving eligibility criteria \\nfor GT. Our findings suggest novel interventions may promote informed GT \\ndecision making, but many were developed to complement traditional GC. Trials \\nthat assess the effects of decision support interventions in diverse samples and \\nevaluate implementation strategies for efficacious interventions are warranted.\\n\\n© 2023 National Society of Genetic Counselors.\\n\\nDOI: 10.1002/jgc4.1738\\nPMID: 37328917\""
      ]
     },
     "execution_count": 15,
     "metadata": {},
     "output_type": "execute_result"
    }
   ],
   "source": [
    "# For inpsection\n",
    "# print out the first abstract\n",
    "abstracts[0]"
   ]
  },
  {
   "cell_type": "code",
   "execution_count": 16,
   "id": "b98601ef",
   "metadata": {},
   "outputs": [
    {
     "data": {
      "text/plain": [
       "['2. Hum Genomics. 2023 Jun 16;17(1):53. doi: 10.1186/s40246-023-00482-8.',\n",
       " 'Evaluation of a genetic risk score computed using human chromosomal-scale length \\nvariation to predict breast cancer.',\n",
       " 'Ko C(1), Brody JP(2).',\n",
       " 'Author information:\\n(1)Department of Biomedical Engineering, University of California, Irvine, USA.\\n(2)Department of Biomedical Engineering, University of California, Irvine, USA. \\njpbrody@uci.edu.',\n",
       " 'INTRODUCTION: The ability to accurately predict whether a woman will develop \\nbreast cancer later in her life, should reduce the number of breast cancer \\ndeaths. Different predictive models exist for breast cancer based on family \\nhistory, BRCA status, and SNP analysis. The best of these models has an accuracy \\n(area under the receiver operating characteristic curve, AUC) of about 0.65. We \\nhave developed computational methods to characterize a genome by a small set of \\nnumbers that represent the length of segments of the chromosomes, called \\nchromosomal-scale length variation (CSLV).\\nMETHODS: We built machine learning models to differentiate between women who had \\nbreast cancer and women who did not based on their CSLV characterization. We \\napplied this procedure to two different datasets: the UK Biobank (1534 women \\nwith breast cancer and 4391 women who did not) and the Cancer Genome Atlas \\n(TCGA) 874 with breast cancer and 3381 without.\\nRESULTS: We found a machine learning model that could predict breast cancer with \\nan AUC of 0.836 95% CI (0.830.0.843) in the UK Biobank data. Using a similar \\napproach with the TCGA data, we obtained a model with an AUC of 0.704 95% CI \\n(0.702, 0.706). Variable importance analysis indicated that no single \\nchromosomal region was responsible for significant fraction of the model \\nresults.\\nCONCLUSION: In this retrospective study, chromosomal-scale length variation \\ncould effectively predict whether or not a woman enrolled in the UK Biobank \\nstudy developed breast cancer.',\n",
       " '© 2023. The Author(s).',\n",
       " 'DOI: 10.1186/s40246-023-00482-8\\nPMID: 37328908']"
      ]
     },
     "execution_count": 16,
     "metadata": {},
     "output_type": "execute_result"
    }
   ],
   "source": [
    "split_abstract = abstracts[1].split(\"\\n\\n\")\n",
    "split_abstract"
   ]
  },
  {
   "cell_type": "code",
   "execution_count": 17,
   "id": "cd564250",
   "metadata": {},
   "outputs": [
    {
     "data": {
      "text/plain": [
       "7"
      ]
     },
     "execution_count": 17,
     "metadata": {},
     "output_type": "execute_result"
    }
   ],
   "source": [
    "len(split_abstract)"
   ]
  },
  {
   "cell_type": "code",
   "execution_count": null,
   "id": "4693327f",
   "metadata": {},
   "outputs": [],
   "source": []
  },
  {
   "cell_type": "code",
   "execution_count": null,
   "id": "553ef47b",
   "metadata": {},
   "outputs": [],
   "source": []
  },
  {
   "cell_type": "code",
   "execution_count": null,
   "id": "9b80c0f9",
   "metadata": {},
   "outputs": [],
   "source": []
  },
  {
   "cell_type": "code",
   "execution_count": null,
   "id": "a2cf1d56",
   "metadata": {},
   "outputs": [],
   "source": []
  },
  {
   "cell_type": "code",
   "execution_count": null,
   "id": "b4400f26",
   "metadata": {},
   "outputs": [],
   "source": []
  },
  {
   "cell_type": "code",
   "execution_count": null,
   "id": "3bd440eb",
   "metadata": {
    "scrolled": false
   },
   "outputs": [
    {
     "name": "stdout",
     "output_type": "stream",
     "text": [
      "this is the esearch command:\n",
      "http://eutils.ncbi.nlm.nih.gov/entrez/eutils/esearch.fcgi?db=pubmed&term=high+functioning+autism&usehistory=y&rettype=json\n",
      "\n",
      "this is efetch run number 1\n",
      "http://eutils.ncbi.nlm.nih.gov/entrez/eutils/efetch.fcgi?db=pubmed&query_key=1&WebEnv=MCID_648daa38cba8930fa66f7385&retstart=0&retmax=20&retmode=text&rettype=abstract\n",
      "A total of 20 abstracts have been downloaded.\n",
      "\n",
      "this is efetch run number 2\n",
      "http://eutils.ncbi.nlm.nih.gov/entrez/eutils/efetch.fcgi?db=pubmed&query_key=1&WebEnv=MCID_648daa38cba8930fa66f7385&retstart=20&retmax=20&retmode=text&rettype=abstract\n",
      "A total of 40 abstracts have been downloaded.\n",
      "\n",
      "this is efetch run number 3\n",
      "http://eutils.ncbi.nlm.nih.gov/entrez/eutils/efetch.fcgi?db=pubmed&query_key=1&WebEnv=MCID_648daa38cba8930fa66f7385&retstart=40&retmax=20&retmode=text&rettype=abstract\n",
      "A total of 60 abstracts have been downloaded.\n",
      "\n",
      "this is efetch run number 4\n",
      "http://eutils.ncbi.nlm.nih.gov/entrez/eutils/efetch.fcgi?db=pubmed&query_key=1&WebEnv=MCID_648daa38cba8930fa66f7385&retstart=60&retmax=20&retmode=text&rettype=abstract\n",
      "A total of 80 abstracts have been downloaded.\n",
      "\n",
      "this is efetch run number 5\n",
      "http://eutils.ncbi.nlm.nih.gov/entrez/eutils/efetch.fcgi?db=pubmed&query_key=1&WebEnv=MCID_648daa38cba8930fa66f7385&retstart=80&retmax=20&retmode=text&rettype=abstract\n",
      "A total of 100 abstracts have been downloaded.\n",
      "\n",
      "this is efetch run number 6\n",
      "http://eutils.ncbi.nlm.nih.gov/entrez/eutils/efetch.fcgi?db=pubmed&query_key=1&WebEnv=MCID_648daa38cba8930fa66f7385&retstart=100&retmax=20&retmode=text&rettype=abstract\n",
      "A total of 120 abstracts have been downloaded.\n",
      "\n",
      "this is efetch run number 7\n",
      "http://eutils.ncbi.nlm.nih.gov/entrez/eutils/efetch.fcgi?db=pubmed&query_key=1&WebEnv=MCID_648daa38cba8930fa66f7385&retstart=120&retmax=20&retmode=text&rettype=abstract\n",
      "A total of 140 abstracts have been downloaded.\n",
      "\n",
      "this is efetch run number 8\n",
      "http://eutils.ncbi.nlm.nih.gov/entrez/eutils/efetch.fcgi?db=pubmed&query_key=1&WebEnv=MCID_648daa38cba8930fa66f7385&retstart=140&retmax=20&retmode=text&rettype=abstract\n",
      "A total of 160 abstracts have been downloaded.\n",
      "\n",
      "this is efetch run number 9\n",
      "http://eutils.ncbi.nlm.nih.gov/entrez/eutils/efetch.fcgi?db=pubmed&query_key=1&WebEnv=MCID_648daa38cba8930fa66f7385&retstart=160&retmax=20&retmode=text&rettype=abstract\n",
      "A total of 180 abstracts have been downloaded.\n",
      "\n",
      "this is efetch run number 10\n",
      "http://eutils.ncbi.nlm.nih.gov/entrez/eutils/efetch.fcgi?db=pubmed&query_key=1&WebEnv=MCID_648daa38cba8930fa66f7385&retstart=180&retmax=20&retmode=text&rettype=abstract\n",
      "A total of 200 abstracts have been downloaded.\n",
      "\n",
      "this is efetch run number 11\n",
      "http://eutils.ncbi.nlm.nih.gov/entrez/eutils/efetch.fcgi?db=pubmed&query_key=1&WebEnv=MCID_648daa38cba8930fa66f7385&retstart=200&retmax=20&retmode=text&rettype=abstract\n",
      "A total of 220 abstracts have been downloaded.\n",
      "\n",
      "this is efetch run number 12\n",
      "http://eutils.ncbi.nlm.nih.gov/entrez/eutils/efetch.fcgi?db=pubmed&query_key=1&WebEnv=MCID_648daa38cba8930fa66f7385&retstart=220&retmax=20&retmode=text&rettype=abstract\n",
      "A total of 240 abstracts have been downloaded.\n",
      "\n",
      "this is efetch run number 13\n",
      "http://eutils.ncbi.nlm.nih.gov/entrez/eutils/efetch.fcgi?db=pubmed&query_key=1&WebEnv=MCID_648daa38cba8930fa66f7385&retstart=240&retmax=20&retmode=text&rettype=abstract\n",
      "A total of 260 abstracts have been downloaded.\n",
      "\n",
      "this is efetch run number 14\n",
      "http://eutils.ncbi.nlm.nih.gov/entrez/eutils/efetch.fcgi?db=pubmed&query_key=1&WebEnv=MCID_648daa38cba8930fa66f7385&retstart=260&retmax=20&retmode=text&rettype=abstract\n",
      "A total of 280 abstracts have been downloaded.\n",
      "\n",
      "this is efetch run number 15\n",
      "http://eutils.ncbi.nlm.nih.gov/entrez/eutils/efetch.fcgi?db=pubmed&query_key=1&WebEnv=MCID_648daa38cba8930fa66f7385&retstart=280&retmax=20&retmode=text&rettype=abstract\n",
      "A total of 300 abstracts have been downloaded.\n",
      "\n",
      "this is efetch run number 16\n",
      "http://eutils.ncbi.nlm.nih.gov/entrez/eutils/efetch.fcgi?db=pubmed&query_key=1&WebEnv=MCID_648daa38cba8930fa66f7385&retstart=300&retmax=20&retmode=text&rettype=abstract\n",
      "A total of 320 abstracts have been downloaded.\n",
      "\n",
      "this is efetch run number 17\n",
      "http://eutils.ncbi.nlm.nih.gov/entrez/eutils/efetch.fcgi?db=pubmed&query_key=1&WebEnv=MCID_648daa38cba8930fa66f7385&retstart=320&retmax=20&retmode=text&rettype=abstract\n",
      "A total of 340 abstracts have been downloaded.\n",
      "\n",
      "this is efetch run number 18\n",
      "http://eutils.ncbi.nlm.nih.gov/entrez/eutils/efetch.fcgi?db=pubmed&query_key=1&WebEnv=MCID_648daa38cba8930fa66f7385&retstart=340&retmax=20&retmode=text&rettype=abstract\n",
      "A total of 360 abstracts have been downloaded.\n",
      "\n",
      "this is efetch run number 19\n",
      "http://eutils.ncbi.nlm.nih.gov/entrez/eutils/efetch.fcgi?db=pubmed&query_key=1&WebEnv=MCID_648daa38cba8930fa66f7385&retstart=360&retmax=20&retmode=text&rettype=abstract\n",
      "A total of 380 abstracts have been downloaded.\n",
      "\n",
      "this is efetch run number 20\n",
      "http://eutils.ncbi.nlm.nih.gov/entrez/eutils/efetch.fcgi?db=pubmed&query_key=1&WebEnv=MCID_648daa38cba8930fa66f7385&retstart=380&retmax=20&retmode=text&rettype=abstract\n",
      "A total of 400 abstracts have been downloaded.\n",
      "\n",
      "this is efetch run number 21\n",
      "http://eutils.ncbi.nlm.nih.gov/entrez/eutils/efetch.fcgi?db=pubmed&query_key=1&WebEnv=MCID_648daa38cba8930fa66f7385&retstart=400&retmax=20&retmode=text&rettype=abstract\n",
      "A total of 420 abstracts have been downloaded.\n",
      "\n",
      "this is efetch run number 22\n",
      "http://eutils.ncbi.nlm.nih.gov/entrez/eutils/efetch.fcgi?db=pubmed&query_key=1&WebEnv=MCID_648daa38cba8930fa66f7385&retstart=420&retmax=20&retmode=text&rettype=abstract\n",
      "A total of 440 abstracts have been downloaded.\n",
      "\n",
      "this is efetch run number 23\n",
      "http://eutils.ncbi.nlm.nih.gov/entrez/eutils/efetch.fcgi?db=pubmed&query_key=1&WebEnv=MCID_648daa38cba8930fa66f7385&retstart=440&retmax=20&retmode=text&rettype=abstract\n",
      "A total of 460 abstracts have been downloaded.\n",
      "\n",
      "this is efetch run number 24\n",
      "http://eutils.ncbi.nlm.nih.gov/entrez/eutils/efetch.fcgi?db=pubmed&query_key=1&WebEnv=MCID_648daa38cba8930fa66f7385&retstart=460&retmax=20&retmode=text&rettype=abstract\n",
      "A total of 480 abstracts have been downloaded.\n",
      "\n",
      "this is efetch run number 25\n",
      "http://eutils.ncbi.nlm.nih.gov/entrez/eutils/efetch.fcgi?db=pubmed&query_key=1&WebEnv=MCID_648daa38cba8930fa66f7385&retstart=480&retmax=20&retmode=text&rettype=abstract\n"
     ]
    }
   ],
   "source": [
    "import csv\n",
    "import re\n",
    "import urllib\n",
    "from time import sleep\n",
    "\n",
    "query = \"high+functioning+autism\"\n",
    "\n",
    "# common settings between esearch and efetch\n",
    "base_url = 'http://eutils.ncbi.nlm.nih.gov/entrez/eutils/'\n",
    "db = 'db=pubmed'\n",
    "\n",
    "# esearch settings\n",
    "search_eutil = 'esearch.fcgi?'\n",
    "search_term = '&term=' + query\n",
    "search_usehistory = '&usehistory=y'\n",
    "search_rettype = '&rettype=json'\n",
    "\n",
    "# call the esearch command for the query and read the web result\n",
    "search_url = base_url+search_eutil+db+search_term+search_usehistory+search_rettype\n",
    "print(\"this is the esearch command:\\n\" + search_url + \"\\n\")\n",
    "f = urllib.request.urlopen (search_url)\n",
    "search_data = f.read().decode('utf-8')\n",
    "\n",
    "# extract the total abstract count\n",
    "total_abstract_count = int(re.findall(\"<Count>(\\d+?)</Count>\",search_data)[0])\n",
    "\n",
    "# efetch settings\n",
    "fetch_eutil = 'efetch.fcgi?'\n",
    "retmax = 20\n",
    "retstart = 0\n",
    "fetch_retmode = \"&retmode=text\"\n",
    "fetch_rettype = \"&rettype=abstract\"\n",
    "\n",
    "# obtain webenv and querykey settings from the esearch results\n",
    "fetch_webenv = \"&WebEnv=\" + re.findall (\"<WebEnv>(\\S+)<\\/WebEnv>\", search_data)[0]\n",
    "fetch_querykey = \"&query_key=\" + re.findall(\"<QueryKey>(\\d+?)</QueryKey>\",search_data)[0]\n",
    "\n",
    "# call efetch commands using a loop until all abstracts are obtained\n",
    "run = True\n",
    "all_abstracts = list()\n",
    "loop_counter = 1\n",
    "\n",
    "while run:\n",
    "    print(\"this is efetch run number \" + str(loop_counter))\n",
    "    loop_counter += 1\n",
    "    fetch_retstart = \"&retstart=\" + str(retstart)\n",
    "    fetch_retmax = \"&retmax=\" + str(retmax)\n",
    "    # create the efetch url\n",
    "    fetch_url = base_url+fetch_eutil+db+fetch_querykey+fetch_webenv+fetch_retstart+fetch_retmax+fetch_retmode+fetch_rettype\n",
    "    print(fetch_url)\n",
    "    # open the efetch url\n",
    "    f = urllib.request.urlopen (fetch_url)\n",
    "    fetch_data = f.read().decode('utf-8')\n",
    "    # split the data into individual abstracts\n",
    "    abstracts = fetch_data.split(\"\\n\\n\\n\")\n",
    "    # append to the list all_abstracts\n",
    "    all_abstracts = all_abstracts+abstracts\n",
    "    print(\"A total of \" + str(len(all_abstracts)) + \" abstracts have been downloaded.\\n\")\n",
    "    # wait 2 seconds so we don't get blocked\n",
    "    sleep(2)\n",
    "    # update retstart to download the next chunk of abstracts\n",
    "    retstart = retstart + retmax\n",
    "    if retstart > total_abstract_count:\n",
    "        run = False\n",
    "    \n",
    "    "
   ]
  },
  {
   "cell_type": "code",
   "execution_count": 20,
   "id": "8683747d",
   "metadata": {},
   "outputs": [
    {
     "data": {
      "text/plain": [
       "1400"
      ]
     },
     "execution_count": 20,
     "metadata": {},
     "output_type": "execute_result"
    }
   ],
   "source": [
    "len(all_abstracts)"
   ]
  },
  {
   "cell_type": "code",
   "execution_count": 21,
   "id": "b127d744",
   "metadata": {},
   "outputs": [],
   "source": [
    "with open(\"abstracts.csv\", \"wt\", encoding=\"utf8\") as abstracts_file, open (\"partial_abstracts.csv\", \"wt\", encoding=\"utf8\") as partial_abstracts:\n",
    "    # csv writer for full abstracts\n",
    "    abstract_writer = csv.writer(abstracts_file)\n",
    "    abstract_writer.writerow(['Journal', 'Title', 'Authors', 'Author_Information', 'Abstract', 'DOI', 'Misc'])\n",
    "    # csv writer for partial abstracts\n",
    "    partial_abstract_writer = csv.writer(partial_abstracts)\n",
    "    #For each abstract, split into categories and write it to the csv file\n",
    "    for abstract in all_abstracts:\n",
    "        #To obtain categories, split every double newline.\n",
    "        split_abstract = abstract.split(\"\\n\\n\")\n",
    "        if len(split_abstract) > 5:\n",
    "            abstract_writer.writerow(split_abstract)\n",
    "        else:\n",
    "            partial_abstract_writer.writerow(split_abstract)"
   ]
  },
  {
   "cell_type": "code",
   "execution_count": null,
   "id": "0b05eaf5",
   "metadata": {},
   "outputs": [],
   "source": []
  }
 ],
 "metadata": {
  "kernelspec": {
   "display_name": "Python 3 (ipykernel)",
   "language": "python",
   "name": "python3"
  },
  "language_info": {
   "codemirror_mode": {
    "name": "ipython",
    "version": 3
   },
   "file_extension": ".py",
   "mimetype": "text/x-python",
   "name": "python",
   "nbconvert_exporter": "python",
   "pygments_lexer": "ipython3",
   "version": "3.9.9"
  }
 },
 "nbformat": 4,
 "nbformat_minor": 5
}
